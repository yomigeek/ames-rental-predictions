{
 "cells": [
  {
   "cell_type": "code",
   "execution_count": 155,
   "id": "50f5a0d6",
   "metadata": {
    "ExecuteTime": {
     "end_time": "2023-09-30T16:24:41.668239Z",
     "start_time": "2023-09-30T16:24:41.656020Z"
    }
   },
   "outputs": [],
   "source": [
    "import pandas as pd\n",
    "import numpy as np\n",
    "import matplotlib.pyplot as plt\n",
    "import seaborn as sns"
   ]
  },
  {
   "cell_type": "code",
   "execution_count": 156,
   "id": "5b4d4092",
   "metadata": {
    "ExecuteTime": {
     "end_time": "2023-09-30T16:24:41.744981Z",
     "start_time": "2023-09-30T16:24:41.672160Z"
    }
   },
   "outputs": [],
   "source": [
    "df = pd.read_csv('AmesHousing.csv')"
   ]
  },
  {
   "cell_type": "code",
   "execution_count": 157,
   "id": "dd3330f8",
   "metadata": {
    "ExecuteTime": {
     "end_time": "2023-09-30T16:24:41.755028Z",
     "start_time": "2023-09-30T16:24:41.747827Z"
    }
   },
   "outputs": [],
   "source": [
    "df.shape"
   ]
  },
  {
   "cell_type": "code",
   "execution_count": 158,
   "id": "35488b36",
   "metadata": {
    "ExecuteTime": {
     "end_time": "2023-09-30T16:24:41.777716Z",
     "start_time": "2023-09-30T16:24:41.758649Z"
    }
   },
   "outputs": [],
   "source": [
    "df.head()"
   ]
  },
  {
   "cell_type": "code",
   "execution_count": 159,
   "id": "b9b4ebec",
   "metadata": {
    "ExecuteTime": {
     "end_time": "2023-09-30T16:24:41.809156Z",
     "start_time": "2023-09-30T16:24:41.783188Z"
    }
   },
   "outputs": [],
   "source": [
    "df.info()"
   ]
  },
  {
   "cell_type": "code",
   "execution_count": 160,
   "id": "0c343f48",
   "metadata": {
    "ExecuteTime": {
     "end_time": "2023-09-30T16:24:41.900604Z",
     "start_time": "2023-09-30T16:24:41.812274Z"
    }
   },
   "outputs": [],
   "source": [
    "df.describe().T"
   ]
  },
  {
   "cell_type": "code",
   "execution_count": 161,
   "id": "91cc7bdd",
   "metadata": {
    "ExecuteTime": {
     "end_time": "2023-09-30T16:24:41.911540Z",
     "start_time": "2023-09-30T16:24:41.903563Z"
    }
   },
   "outputs": [],
   "source": [
    "list(df.columns)"
   ]
  },
  {
   "cell_type": "code",
   "execution_count": 162,
   "id": "7383d7ad",
   "metadata": {
    "ExecuteTime": {
     "end_time": "2023-09-30T16:24:42.106654Z",
     "start_time": "2023-09-30T16:24:41.914312Z"
    }
   },
   "outputs": [],
   "source": [
    "sns.boxplot(data=df, x='SalePrice')"
   ]
  },
  {
   "cell_type": "code",
   "execution_count": 163,
   "id": "c63a9543",
   "metadata": {
    "ExecuteTime": {
     "end_time": "2023-09-30T16:24:42.203652Z",
     "start_time": "2023-09-30T16:24:42.109961Z"
    }
   },
   "outputs": [],
   "source": [
    "# The columns you mentioned are part of the Ames Housing Dataset, which is often used for housing price prediction and regression analysis. Here's the full meaning of each column:\n",
    "\n",
    "# 1. `Order`: An identifier for each record, typically representing the order in which the data was collected or entered.\n",
    "\n",
    "# 2. `PID`: Parcel identification number, a unique identifier for each property.\n",
    "\n",
    "# 3. `MS SubClass`: The type of dwelling, represented as a numeric code.\n",
    "\n",
    "# 4. `MS Zoning`: The zoning classification of the property, indicating how it can be used (e.g., residential, commercial, industrial).\n",
    "\n",
    "# 5. `Lot Frontage`: Linear feet of street connected to the property.\n",
    "\n",
    "# 6. `Lot Area`: Lot size in square feet.\n",
    "\n",
    "# 7. `Street`: Type of road access to the property (e.g., paved or gravel).\n",
    "\n",
    "# 8. `Alley`: Type of alley access to the property (e.g., paved, gravel, no alley access).\n",
    "\n",
    "# 9. `Lot Shape`: General shape of the lot (e.g., regular, irregular).\n",
    "\n",
    "# 10. `Land Contour`: Flatness of the property (e.g., level, banked, hillside).\n",
    "\n",
    "# 11. `Utilities`: Type of utilities available (e.g., all public utilities, electricity only).\n",
    "\n",
    "# 12. `Lot Config`: Lot configuration (e.g., inside lot, corner lot).\n",
    "\n",
    "# 13. `Land Slope`: Slope of the property (e.g., gentle slope, moderate slope).\n",
    "\n",
    "# 14. `Neighborhood`: Physical locations within the city of Ames, Iowa.\n",
    "\n",
    "# 15. `Condition 1`: Proximity to various conditions (e.g., near a railroad, near park).\n",
    "\n",
    "# 16. `Condition 2`: Proximity to other conditions (if more than one is present).\n",
    "\n",
    "# 17. `Bldg Type`: Type of dwelling (e.g., single-family, townhouse).\n",
    "\n",
    "# 18. `House Style`: Style of the dwelling (e.g., ranch, two-story).\n",
    "\n",
    "# 19. `Overall Qual`: Overall material and finish quality of the house.\n",
    "\n",
    "# 20. `Overall Cond`: Overall condition rating of the house.\n",
    "\n",
    "# 21. `Year Built`: Year the house was originally built.\n",
    "\n",
    "# 22. `Year Remod/Add`: Year of the most recent remodeling or addition.\n",
    "\n",
    "# 23. `Roof Style`: Type of roof design.\n",
    "\n",
    "# 24. `Roof Matl`: Roof material.\n",
    "\n",
    "# 25. `Exterior 1st`: Exterior covering on the house.\n",
    "\n",
    "# 26. `Exterior 2nd`: Secondary exterior covering (if applicable).\n",
    "\n",
    "# 27. `Mas Vnr Type`: Masonry veneer type.\n",
    "\n",
    "# 28. `Mas Vnr Area`: Masonry veneer area in square feet.\n",
    "\n",
    "# 29. `Exter Qual`: Exterior material quality.\n",
    "\n",
    "# 30. `Exter Cond`: Exterior material condition.\n",
    "\n",
    "# 31. `Foundation`: Type of foundation.\n",
    "\n",
    "# 32. `Bsmt Qual`: Height of the basement.\n",
    "\n",
    "# 33. `Bsmt Cond`: General condition of the basement.\n",
    "\n",
    "# 34. `Bsmt Exposure`: Walkout or garden level basement walls exposure.\n",
    "\n",
    "# 35. `BsmtFin Type 1`: Quality of basement finished area.\n",
    "\n",
    "# 36. `BsmtFin SF 1`: Type 1 finished square feet.\n",
    "\n",
    "# 37. `BsmtFin Type 2`: Quality of the second finished area (if present).\n",
    "\n",
    "# 38. `BsmtFin SF 2`: Type 2 finished square feet.\n",
    "\n",
    "# 39. `Bsmt Unf SF`: Unfinished basement square feet.\n",
    "\n",
    "# 40. `Total Bsmt SF`: Total square feet of basement area.\n",
    "\n",
    "# 41. `Heating`: Type of heating.\n",
    "\n",
    "# 42. `Heating QC`: Heating quality and condition.\n",
    "\n",
    "# 43. `Central Air`: Central air conditioning.\n",
    "\n",
    "# 44. `Electrical`: Electrical system.\n",
    "\n",
    "# 45. `1st Flr SF`: First-floor square feet.\n",
    "\n",
    "# 46. `2nd Flr SF`: Second-floor square feet.\n",
    "\n",
    "# 47. `Low Qual Fin SF`: Low-quality finished square feet (e.g., low-quality basement finish).\n",
    "\n",
    "# 48. `Gr Liv Area`: Above-grade (ground) living area square feet.\n",
    "\n",
    "# 49. `Bsmt Full Bath`: Basement full bathrooms.\n",
    "\n",
    "# 50. `Bsmt Half Bath`: Basement half bathrooms.\n",
    "\n",
    "# 51. `Full Bath`: Full bathrooms above grade.\n",
    "\n",
    "# 52. `Half Bath`: Half bathrooms above grade.\n",
    "\n",
    "# 53. `Bedroom AbvGr`: Bedrooms above grade.\n",
    "\n",
    "# 54. `Kitchen AbvGr`: Kitchens above grade.\n",
    "\n",
    "# 55. `Kitchen Qual`: Kitchen quality.\n",
    "\n",
    "# 56. `TotRms AbvGrd`: Total rooms above grade (does not include bathrooms).\n",
    "\n",
    "# 57. `Functional`: Home functionality rating.\n",
    "\n",
    "# 58. `Fireplaces`: Number of fireplaces.\n",
    "\n",
    "# 59. `Fireplace Qu`: Fireplace quality.\n",
    "\n",
    "# 60. `Garage Type`: Garage location and type.\n",
    "\n",
    "# 61. `Garage Yr Blt`: Year garage was built.\n",
    "\n",
    "# 62. `Garage Finish`: Interior finish of the garage.\n",
    "\n",
    "# 63. `Garage Cars`: Size of garage in car capacity.\n",
    "\n",
    "# 64. `Garage Area`: Size of garage in square feet.\n",
    "\n",
    "# 65. `Garage Qual`: Garage quality.\n",
    "\n",
    "# 66. `Garage Cond`: Garage condition.\n",
    "\n",
    "# 67. `Paved Drive`: Paved driveway.\n",
    "\n",
    "# 68. `Wood Deck SF`: Wood deck area in square feet.\n",
    "\n",
    "# 69. `Open Porch SF`: Open porch area in square feet.\n",
    "\n",
    "# 70. `Enclosed Porch`: Enclosed porch area in square feet.\n",
    "\n",
    "# 71. `3Ssn Porch`: Three-season porch area in square feet.\n",
    "\n",
    "# 72. `Screen Porch`: Screen porch area in square feet.\n",
    "\n",
    "# 73. `Pool Area`: Pool area in square feet.\n",
    "\n",
    "# 74. `Pool QC`: Pool quality.\n",
    "\n",
    "# 75. `Fence`: Fence quality.\n",
    "\n",
    "# 76. `Misc Feature`: Miscellaneous feature not covered in other categories.\n",
    "\n",
    "# 77. `Misc Val`: Value of miscellaneous feature.\n",
    "\n",
    "# 78. `Mo Sold`: Month Sold.\n",
    "\n",
    "# 79. `Yr Sold`: Year Sold.\n",
    "\n",
    "# 80. `Sale Type`: Type of sale.\n",
    "\n",
    "# 81. `Sale Condition`: Condition of sale (e.g., normal, abnormal).\n",
    "\n",
    "# These columns provide detailed information about various aspects of the properties in the dataset, and they can be used to analyze and predict housing prices."
   ]
  },
  {
   "cell_type": "code",
   "execution_count": 164,
   "id": "0edec32e",
   "metadata": {
    "ExecuteTime": {
     "end_time": "2023-09-30T16:24:42.547731Z",
     "start_time": "2023-09-30T16:24:42.206373Z"
    }
   },
   "outputs": [],
   "source": [
    "# distribution of saleprice\n",
    "sns.kdeplot(df['SalePrice'])"
   ]
  },
  {
   "cell_type": "code",
   "execution_count": 165,
   "id": "42a8fedf",
   "metadata": {
    "ExecuteTime": {
     "end_time": "2023-09-30T16:24:42.552638Z",
     "start_time": "2023-09-30T16:24:42.549643Z"
    }
   },
   "outputs": [],
   "source": [
    "# sns.heatmap(df.corr())"
   ]
  },
  {
   "cell_type": "code",
   "execution_count": 166,
   "id": "86fff66c",
   "metadata": {
    "ExecuteTime": {
     "end_time": "2023-09-30T16:24:42.558287Z",
     "start_time": "2023-09-30T16:24:42.554681Z"
    }
   },
   "outputs": [],
   "source": [
    "df_num = df.select_dtypes(include='number')"
   ]
  },
  {
   "cell_type": "code",
   "execution_count": 167,
   "id": "50cef4ae",
   "metadata": {
    "ExecuteTime": {
     "end_time": "2023-09-30T16:24:42.563868Z",
     "start_time": "2023-09-30T16:24:42.560819Z"
    }
   },
   "outputs": [],
   "source": [
    "# df.corr()['SalePrice'].sort_values()"
   ]
  },
  {
   "cell_type": "markdown",
   "id": "90516e1a",
   "metadata": {},
   "source": [
    "# Data cleaning"
   ]
  },
  {
   "cell_type": "code",
   "execution_count": 168,
   "id": "a8b076c7",
   "metadata": {
    "ExecuteTime": {
     "end_time": "2023-09-30T16:24:42.572548Z",
     "start_time": "2023-09-30T16:24:42.570225Z"
    }
   },
   "outputs": [],
   "source": [
    "# Outlier detection"
   ]
  },
  {
   "cell_type": "code",
   "execution_count": 169,
   "id": "67745fb4",
   "metadata": {
    "ExecuteTime": {
     "end_time": "2023-09-30T16:24:42.764432Z",
     "start_time": "2023-09-30T16:24:42.574531Z"
    }
   },
   "outputs": [],
   "source": [
    "# overall quality is highly correlated with the target variable\n",
    "sns.scatterplot(data=df, x='Overall Qual', y='SalePrice')"
   ]
  },
  {
   "cell_type": "code",
   "execution_count": 170,
   "id": "cb260fec",
   "metadata": {
    "ExecuteTime": {
     "end_time": "2023-09-30T16:24:42.973289Z",
     "start_time": "2023-09-30T16:24:42.766742Z"
    }
   },
   "outputs": [],
   "source": [
    "sns.scatterplot(data=df, x='Gr Liv Area', y='SalePrice') # we can spot three data points that are deviating in the plot"
   ]
  },
  {
   "cell_type": "code",
   "execution_count": 171,
   "id": "f0be215b",
   "metadata": {
    "ExecuteTime": {
     "end_time": "2023-09-30T16:24:42.984556Z",
     "start_time": "2023-09-30T16:24:42.975882Z"
    }
   },
   "outputs": [],
   "source": [
    "# we remove the outliers from our DataFrame\n",
    "df2 = df[~(df['Gr Liv Area']>= 4000) & (df['SalePrice']<=300000)]"
   ]
  },
  {
   "cell_type": "code",
   "execution_count": 172,
   "id": "321d8574",
   "metadata": {
    "ExecuteTime": {
     "end_time": "2023-09-30T16:24:42.992459Z",
     "start_time": "2023-09-30T16:24:42.986673Z"
    }
   },
   "outputs": [],
   "source": [
    "df2.shape"
   ]
  },
  {
   "cell_type": "code",
   "execution_count": 173,
   "id": "ee2221c1",
   "metadata": {
    "ExecuteTime": {
     "end_time": "2023-09-30T16:24:43.200029Z",
     "start_time": "2023-09-30T16:24:42.994761Z"
    }
   },
   "outputs": [],
   "source": [
    "sns.scatterplot(data=df2, x= 'Gr Liv Area', y='SalePrice')"
   ]
  },
  {
   "cell_type": "code",
   "execution_count": 174,
   "id": "b19f1400",
   "metadata": {
    "ExecuteTime": {
     "end_time": "2023-09-30T16:24:43.219964Z",
     "start_time": "2023-09-30T16:24:43.202583Z"
    }
   },
   "outputs": [],
   "source": [
    "df2[['Order','PID']]"
   ]
  },
  {
   "cell_type": "code",
   "execution_count": 175,
   "id": "7e496cdc",
   "metadata": {
    "ExecuteTime": {
     "end_time": "2023-09-30T16:24:43.228150Z",
     "start_time": "2023-09-30T16:24:43.221894Z"
    }
   },
   "outputs": [],
   "source": [
    "# we drop the 'Order' and 'PID' columns\n",
    "df3 = df2.drop(columns=['Order','PID'], axis=1)"
   ]
  },
  {
   "cell_type": "code",
   "execution_count": 176,
   "id": "58169be1",
   "metadata": {
    "ExecuteTime": {
     "end_time": "2023-09-30T16:24:43.234199Z",
     "start_time": "2023-09-30T16:24:43.230191Z"
    }
   },
   "outputs": [],
   "source": [
    "df3.shape"
   ]
  },
  {
   "cell_type": "code",
   "execution_count": 177,
   "id": "73c1fb81",
   "metadata": {
    "ExecuteTime": {
     "end_time": "2023-09-30T16:24:43.247885Z",
     "start_time": "2023-09-30T16:24:43.236065Z"
    }
   },
   "outputs": [],
   "source": [
    "df3.isnull().mean().mul(100)"
   ]
  },
  {
   "cell_type": "code",
   "execution_count": 178,
   "id": "747bfbee",
   "metadata": {
    "ExecuteTime": {
     "end_time": "2023-09-30T16:24:43.253150Z",
     "start_time": "2023-09-30T16:24:43.249825Z"
    }
   },
   "outputs": [],
   "source": [
    "def percent_missing(df):\n",
    "    '''returns the percentage of missing values in each column of a dataframe'''\n",
    "    percent_nan = df.isnull().mean().mul(100)\n",
    "    percent_nan = percent_nan[percent_nan > 0].sort_values()\n",
    "    return percent_nan"
   ]
  },
  {
   "cell_type": "code",
   "execution_count": 179,
   "id": "e46b253a",
   "metadata": {
    "ExecuteTime": {
     "end_time": "2023-09-30T16:24:43.264885Z",
     "start_time": "2023-09-30T16:24:43.255369Z"
    }
   },
   "outputs": [],
   "source": [
    "percent_nan = percent_missing(df3)"
   ]
  },
  {
   "cell_type": "code",
   "execution_count": 180,
   "id": "5b87ab61",
   "metadata": {
    "ExecuteTime": {
     "end_time": "2023-09-30T16:24:43.272046Z",
     "start_time": "2023-09-30T16:24:43.267188Z"
    }
   },
   "outputs": [],
   "source": [
    "percent_nan"
   ]
  },
  {
   "cell_type": "code",
   "execution_count": 181,
   "id": "b7931230",
   "metadata": {
    "ExecuteTime": {
     "end_time": "2023-09-30T16:24:43.533810Z",
     "start_time": "2023-09-30T16:24:43.274262Z"
    }
   },
   "outputs": [],
   "source": [
    "sns.barplot(x=percent_nan, y=percent_nan.index)"
   ]
  },
  {
   "cell_type": "code",
   "execution_count": 182,
   "id": "fbd8739e",
   "metadata": {
    "ExecuteTime": {
     "end_time": "2023-09-30T16:24:43.542019Z",
     "start_time": "2023-09-30T16:24:43.536329Z"
    }
   },
   "outputs": [],
   "source": [
    "percent_nan[percent_nan<1]"
   ]
  },
  {
   "cell_type": "code",
   "execution_count": 183,
   "id": "9623bc32",
   "metadata": {
    "ExecuteTime": {
     "end_time": "2023-09-30T16:24:43.552237Z",
     "start_time": "2023-09-30T16:24:43.544239Z"
    }
   },
   "outputs": [],
   "source": [
    "df4 = df3.dropna(axis=0,subset=['Electrical','Garage Area'])"
   ]
  },
  {
   "cell_type": "code",
   "execution_count": 184,
   "id": "293f310b",
   "metadata": {
    "ExecuteTime": {
     "end_time": "2023-09-30T16:24:43.558737Z",
     "start_time": "2023-09-30T16:24:43.554733Z"
    }
   },
   "outputs": [],
   "source": [
    "df4.shape"
   ]
  },
  {
   "cell_type": "code",
   "execution_count": 185,
   "id": "7a73c989",
   "metadata": {
    "ExecuteTime": {
     "end_time": "2023-09-30T16:24:43.568948Z",
     "start_time": "2023-09-30T16:24:43.560358Z"
    }
   },
   "outputs": [],
   "source": [
    "num_basement_cols = ['BsmtFin SF 1', 'BsmtFin SF 2', 'Bsmt Unf SF','Total Bsmt SF', 'Bsmt Full Bath', 'Bsmt Half Bath']\n",
    "df5 = df4.copy()\n",
    "df5[num_basement_cols] = df5[num_basement_cols].fillna(0)"
   ]
  },
  {
   "cell_type": "code",
   "execution_count": 186,
   "id": "62cd2f4f",
   "metadata": {
    "ExecuteTime": {
     "end_time": "2023-09-30T16:24:43.578891Z",
     "start_time": "2023-09-30T16:24:43.570603Z"
    }
   },
   "outputs": [],
   "source": [
    "str_basement_cols = ['Bsmt Qual', 'Bsmt Cond', 'Bsmt Exposure', 'BsmtFin Type 1', 'BsmtFin Type 2']\n",
    "df5[str_basement_cols]= df5[str_basement_cols].fillna('None')"
   ]
  },
  {
   "cell_type": "code",
   "execution_count": 187,
   "id": "ea3c7c4c",
   "metadata": {
    "ExecuteTime": {
     "end_time": "2023-09-30T16:24:43.591851Z",
     "start_time": "2023-09-30T16:24:43.581020Z"
    }
   },
   "outputs": [],
   "source": [
    "percent_nan = percent_missing(df5)"
   ]
  },
  {
   "cell_type": "code",
   "execution_count": 188,
   "id": "7bc85586",
   "metadata": {
    "ExecuteTime": {
     "end_time": "2023-09-30T16:24:43.598355Z",
     "start_time": "2023-09-30T16:24:43.593681Z"
    }
   },
   "outputs": [],
   "source": [
    "percent_nan"
   ]
  },
  {
   "cell_type": "code",
   "execution_count": 189,
   "id": "13098edd",
   "metadata": {
    "ExecuteTime": {
     "end_time": "2023-09-30T16:24:43.605112Z",
     "start_time": "2023-09-30T16:24:43.599987Z"
    }
   },
   "outputs": [],
   "source": [
    "percent_nan[percent_nan<1]"
   ]
  },
  {
   "cell_type": "code",
   "execution_count": 190,
   "id": "11da81c3",
   "metadata": {
    "ExecuteTime": {
     "end_time": "2023-09-30T16:24:43.611664Z",
     "start_time": "2023-09-30T16:24:43.607616Z"
    }
   },
   "outputs": [],
   "source": [
    "df5['Mas Vnr Type'].unique()"
   ]
  },
  {
   "cell_type": "code",
   "execution_count": 191,
   "id": "3bd59182",
   "metadata": {
    "ExecuteTime": {
     "end_time": "2023-09-30T16:24:43.618684Z",
     "start_time": "2023-09-30T16:24:43.614023Z"
    }
   },
   "outputs": [],
   "source": [
    "df5['Mas Vnr Type'] = df5['Mas Vnr Type'].fillna('None')\n",
    "df5['Mas Vnr Area'] = df5['Mas Vnr Area'].fillna(0)"
   ]
  },
  {
   "cell_type": "code",
   "execution_count": 192,
   "id": "29a2f266",
   "metadata": {
    "ExecuteTime": {
     "end_time": "2023-09-30T16:24:43.634223Z",
     "start_time": "2023-09-30T16:24:43.621120Z"
    }
   },
   "outputs": [],
   "source": [
    "percent_nan = percent_missing(df5)\n",
    "percent_nan"
   ]
  },
  {
   "cell_type": "code",
   "execution_count": 193,
   "id": "40bd79dd",
   "metadata": {
    "ExecuteTime": {
     "end_time": "2023-09-30T16:24:43.640525Z",
     "start_time": "2023-09-30T16:24:43.636022Z"
    }
   },
   "outputs": [],
   "source": [
    "df5['Garage Type'].unique()"
   ]
  },
  {
   "cell_type": "code",
   "execution_count": 194,
   "id": "612d658b",
   "metadata": {
    "ExecuteTime": {
     "end_time": "2023-09-30T16:24:43.648964Z",
     "start_time": "2023-09-30T16:24:43.642557Z"
    }
   },
   "outputs": [],
   "source": [
    "df5['Garage Yr Blt'].unique()"
   ]
  },
  {
   "cell_type": "code",
   "execution_count": 195,
   "id": "49b28ab3",
   "metadata": {
    "ExecuteTime": {
     "end_time": "2023-09-30T16:24:43.668320Z",
     "start_time": "2023-09-30T16:24:43.663611Z"
    }
   },
   "outputs": [],
   "source": [
    "df5['Garage Finish'].unique()"
   ]
  },
  {
   "cell_type": "code",
   "execution_count": 196,
   "id": "2826cb91",
   "metadata": {
    "ExecuteTime": {
     "end_time": "2023-09-30T16:24:43.674599Z",
     "start_time": "2023-09-30T16:24:43.670379Z"
    }
   },
   "outputs": [],
   "source": [
    "df5['Garage Qual'].unique()"
   ]
  },
  {
   "cell_type": "code",
   "execution_count": 197,
   "id": "5a5f72e9",
   "metadata": {
    "ExecuteTime": {
     "end_time": "2023-09-30T16:24:43.681726Z",
     "start_time": "2023-09-30T16:24:43.676593Z"
    }
   },
   "outputs": [],
   "source": [
    "df5['Garage Cond'].unique()"
   ]
  },
  {
   "cell_type": "code",
   "execution_count": 198,
   "id": "2331571b",
   "metadata": {
    "ExecuteTime": {
     "end_time": "2023-09-30T16:24:43.694795Z",
     "start_time": "2023-09-30T16:24:43.684574Z"
    }
   },
   "outputs": [],
   "source": [
    "garage_str =['Garage Type','Garage Finish', 'Garage Qual', 'Garage Cond']\n",
    "df6 = df5.copy()\n",
    "df6[garage_str] = df6[garage_str].fillna('None')"
   ]
  },
  {
   "cell_type": "code",
   "execution_count": 199,
   "id": "0f5e93f6",
   "metadata": {
    "ExecuteTime": {
     "end_time": "2023-09-30T16:24:43.698989Z",
     "start_time": "2023-09-30T16:24:43.696297Z"
    }
   },
   "outputs": [],
   "source": [
    "df6['Garage Yr Blt'] = df6['Garage Yr Blt'].fillna(0)"
   ]
  },
  {
   "cell_type": "code",
   "execution_count": 200,
   "id": "fff4a34c",
   "metadata": {
    "ExecuteTime": {
     "end_time": "2023-09-30T16:24:43.708858Z",
     "start_time": "2023-09-30T16:24:43.700488Z"
    }
   },
   "outputs": [],
   "source": [
    "percent_nan = percent_missing(df6)"
   ]
  },
  {
   "cell_type": "code",
   "execution_count": 201,
   "id": "a385c56a",
   "metadata": {
    "ExecuteTime": {
     "end_time": "2023-09-30T16:24:43.714633Z",
     "start_time": "2023-09-30T16:24:43.710558Z"
    }
   },
   "outputs": [],
   "source": [
    "percent_nan"
   ]
  },
  {
   "cell_type": "code",
   "execution_count": 202,
   "id": "c1a0d06a",
   "metadata": {
    "ExecuteTime": {
     "end_time": "2023-09-30T16:24:43.725327Z",
     "start_time": "2023-09-30T16:24:43.716066Z"
    }
   },
   "outputs": [],
   "source": [
    "# 'Fence', 'Alley', 'Misc Feature' and 'Pool QC' has over 70% of it missing, it will be better to drop it\n",
    "df7 = df6.copy()\n",
    "df7 = df7.drop(columns=['Fence','Alley','Misc Feature','Pool QC'], axis=1)"
   ]
  },
  {
   "cell_type": "code",
   "execution_count": 203,
   "id": "c74ef449",
   "metadata": {
    "ExecuteTime": {
     "end_time": "2023-09-30T16:24:43.734306Z",
     "start_time": "2023-09-30T16:24:43.726815Z"
    }
   },
   "outputs": [],
   "source": [
    "percent_nan = percent_missing(df7)"
   ]
  },
  {
   "cell_type": "code",
   "execution_count": 204,
   "id": "24dd0189",
   "metadata": {
    "ExecuteTime": {
     "end_time": "2023-09-30T16:24:43.738981Z",
     "start_time": "2023-09-30T16:24:43.735650Z"
    }
   },
   "outputs": [],
   "source": [
    "percent_nan"
   ]
  },
  {
   "cell_type": "code",
   "execution_count": 205,
   "id": "df02ba1e",
   "metadata": {
    "ExecuteTime": {
     "end_time": "2023-09-30T16:24:43.743532Z",
     "start_time": "2023-09-30T16:24:43.740216Z"
    }
   },
   "outputs": [],
   "source": [
    "df7['Fireplace Qu'].unique()"
   ]
  },
  {
   "cell_type": "code",
   "execution_count": 206,
   "id": "0821905b",
   "metadata": {
    "ExecuteTime": {
     "end_time": "2023-09-30T16:24:43.749207Z",
     "start_time": "2023-09-30T16:24:43.744778Z"
    }
   },
   "outputs": [],
   "source": [
    "# seems some houses do not have a fireplace\n",
    "df8 = df7.copy()\n",
    "df8['Fireplace Qu'] = df8['Fireplace Qu'].fillna('None')"
   ]
  },
  {
   "cell_type": "code",
   "execution_count": 207,
   "id": "e0f2b917",
   "metadata": {
    "ExecuteTime": {
     "end_time": "2023-09-30T16:24:43.756755Z",
     "start_time": "2023-09-30T16:24:43.750537Z"
    }
   },
   "outputs": [],
   "source": [
    "percent_nan = percent_missing(df8)"
   ]
  },
  {
   "cell_type": "code",
   "execution_count": 208,
   "id": "75daf86b",
   "metadata": {
    "ExecuteTime": {
     "end_time": "2023-09-30T16:24:43.760974Z",
     "start_time": "2023-09-30T16:24:43.757947Z"
    }
   },
   "outputs": [],
   "source": [
    "percent_nan"
   ]
  },
  {
   "cell_type": "code",
   "execution_count": 209,
   "id": "c528afdf",
   "metadata": {
    "ExecuteTime": {
     "end_time": "2023-09-30T16:24:43.765019Z",
     "start_time": "2023-09-30T16:24:43.762116Z"
    }
   },
   "outputs": [],
   "source": [
    "df8.columns"
   ]
  },
  {
   "cell_type": "code",
   "execution_count": 210,
   "id": "7b02c0aa",
   "metadata": {
    "ExecuteTime": {
     "end_time": "2023-09-30T16:24:43.775597Z",
     "start_time": "2023-09-30T16:24:43.766199Z"
    }
   },
   "outputs": [],
   "source": [
    "df8['Lot Frontage'] = df8.groupby('Neighborhood')['Lot Frontage'].transform(lambda value: value.fillna(value.mean()))"
   ]
  },
  {
   "cell_type": "code",
   "execution_count": 211,
   "id": "067c62a2",
   "metadata": {
    "ExecuteTime": {
     "end_time": "2023-09-30T16:24:43.785255Z",
     "start_time": "2023-09-30T16:24:43.776619Z"
    }
   },
   "outputs": [],
   "source": [
    "percent_nan = percent_missing(df8)\n",
    "percent_nan"
   ]
  },
  {
   "cell_type": "code",
   "execution_count": 212,
   "id": "2ab086d3",
   "metadata": {
    "ExecuteTime": {
     "end_time": "2023-09-30T16:24:43.788978Z",
     "start_time": "2023-09-30T16:24:43.786513Z"
    }
   },
   "outputs": [],
   "source": [
    "df8['Lot Frontage'] = df8['Lot Frontage'].fillna(0)"
   ]
  },
  {
   "cell_type": "code",
   "execution_count": 213,
   "id": "80aeec4b",
   "metadata": {
    "ExecuteTime": {
     "end_time": "2023-09-30T16:24:43.811409Z",
     "start_time": "2023-09-30T16:24:43.790319Z"
    }
   },
   "outputs": [],
   "source": [
    "X = df8.copy()\n",
    "y = X.pop(\"SalePrice\")\n",
    "\n",
    "# Label encoding for categoricals\n",
    "for colname in X.select_dtypes(\"object\"):\n",
    "    X[colname], _ = X[colname].factorize()"
   ]
  },
  {
   "cell_type": "code",
   "execution_count": 214,
   "id": "05ce152d",
   "metadata": {
    "ExecuteTime": {
     "end_time": "2023-09-30T16:24:44.564867Z",
     "start_time": "2023-09-30T16:24:43.812868Z"
    }
   },
   "outputs": [],
   "source": [
    "from sklearn.feature_selection import mutual_info_regression\n",
    "\n",
    "def make_mi_scores(X, y):\n",
    "    mi_scores = mutual_info_regression(X, y)\n",
    "    mi_scores = pd.Series(mi_scores, name=\"MI Scores\", index=X.columns)\n",
    "    mi_scores = mi_scores.sort_values(ascending=False)\n",
    "    return mi_scores\n",
    "\n",
    "mi_scores = make_mi_scores(X, y)\n",
    "mi_scores[::3]  # show a few features with their MI scores"
   ]
  },
  {
   "cell_type": "code",
   "execution_count": 215,
   "id": "a3f5d679",
   "metadata": {
    "ExecuteTime": {
     "end_time": "2023-09-30T16:24:44.569309Z",
     "start_time": "2023-09-30T16:24:44.566136Z"
    }
   },
   "outputs": [],
   "source": [
    "mi_scores.tail(41)"
   ]
  },
  {
   "cell_type": "code",
   "execution_count": 216,
   "id": "6b65c6e4",
   "metadata": {
    "ExecuteTime": {
     "end_time": "2023-09-30T16:24:44.579418Z",
     "start_time": "2023-09-30T16:24:44.570464Z"
    }
   },
   "outputs": [],
   "source": [
    "X.head()"
   ]
  },
  {
   "cell_type": "code",
   "execution_count": 217,
   "id": "791dbcd2",
   "metadata": {
    "ExecuteTime": {
     "end_time": "2023-09-30T16:24:44.582884Z",
     "start_time": "2023-09-30T16:24:44.581003Z"
    }
   },
   "outputs": [],
   "source": [
    "# dropping featues with mutual_info less than 1"
   ]
  },
  {
   "cell_type": "code",
   "execution_count": 218,
   "id": "ec4bad2f",
   "metadata": {
    "ExecuteTime": {
     "end_time": "2023-09-30T16:24:44.589681Z",
     "start_time": "2023-09-30T16:24:44.584129Z"
    }
   },
   "outputs": [],
   "source": [
    "X = X.drop(columns = ['Garage Cond','Garage Qual','Wood Deck SF','Central Air','Mas Vnr Type','House Style','Lot Shape',\n",
    "'Paved Drive','Sale Type','Bsmt Exposure','Half Bath','Enclosed Porch','Bsmt Cond','Electrical','Sale Condition','Bedroom AbvGr',\n",
    "'Bldg Type','Condition 1','Yr Sold','BsmtFin Type 2','Lot Config','Bsmt Full Bath','Exter Cond','Screen Porch','BsmtFin SF 2','Heating',\n",
    "'Misc Val','Roof Matl','Land Contour','Functional','Kitchen AbvGr','Street','Utilities','Land Slope','Low Qual Fin SF',\n",
    "'Pool Area','Condition 2','Bsmt Half Bath','Roof Style','3Ssn Porch','Mo Sold'], axis=1)"
   ]
  },
  {
   "cell_type": "code",
   "execution_count": 219,
   "id": "48920c11",
   "metadata": {
    "ExecuteTime": {
     "end_time": "2023-09-30T16:24:44.593781Z",
     "start_time": "2023-09-30T16:24:44.590766Z"
    }
   },
   "outputs": [],
   "source": [
    "mi_scores.head()"
   ]
  },
  {
   "cell_type": "code",
   "execution_count": 220,
   "id": "43037efd",
   "metadata": {
    "ExecuteTime": {
     "end_time": "2023-09-30T16:24:44.597418Z",
     "start_time": "2023-09-30T16:24:44.594957Z"
    }
   },
   "outputs": [],
   "source": [
    "X.shape"
   ]
  },
  {
   "cell_type": "code",
   "execution_count": 221,
   "id": "98ec89cb",
   "metadata": {
    "ExecuteTime": {
     "end_time": "2023-09-30T16:24:44.601431Z",
     "start_time": "2023-09-30T16:24:44.598484Z"
    }
   },
   "outputs": [],
   "source": [
    "features = ['Neighborhood','Overall Qual','Gr Liv Area','Year Built','Garage Area']\n",
    "X = df8[features]"
   ]
  },
  {
   "cell_type": "code",
   "execution_count": 222,
   "id": "bcbafadf",
   "metadata": {
    "ExecuteTime": {
     "end_time": "2023-09-30T16:24:44.607407Z",
     "start_time": "2023-09-30T16:24:44.602547Z"
    }
   },
   "outputs": [],
   "source": [
    "X.head()"
   ]
  },
  {
   "cell_type": "code",
   "execution_count": 223,
   "id": "ad8c3ae3",
   "metadata": {
    "ExecuteTime": {
     "end_time": "2023-09-30T16:24:44.611384Z",
     "start_time": "2023-09-30T16:24:44.608532Z"
    }
   },
   "outputs": [],
   "source": [
    "X['Neighborhood'].unique()"
   ]
  },
  {
   "cell_type": "code",
   "execution_count": 224,
   "id": "ab220a0e",
   "metadata": {
    "ExecuteTime": {
     "end_time": "2023-09-30T16:24:44.614528Z",
     "start_time": "2023-09-30T16:24:44.612443Z"
    }
   },
   "outputs": [],
   "source": [
    "X_str = X.select_dtypes(include='object')"
   ]
  },
  {
   "cell_type": "code",
   "execution_count": 225,
   "id": "1f0f01c1",
   "metadata": {
    "ExecuteTime": {
     "end_time": "2023-09-30T16:24:44.617775Z",
     "start_time": "2023-09-30T16:24:44.615543Z"
    }
   },
   "outputs": [],
   "source": [
    "X_num = X.select_dtypes(include='number')"
   ]
  },
  {
   "cell_type": "code",
   "execution_count": 226,
   "id": "a4b51528",
   "metadata": {
    "ExecuteTime": {
     "end_time": "2023-09-30T16:24:44.622170Z",
     "start_time": "2023-09-30T16:24:44.618847Z"
    }
   },
   "outputs": [],
   "source": [
    "dummy_feature = pd.get_dummies(X_str, drop_first=True)"
   ]
  },
  {
   "cell_type": "code",
   "execution_count": 227,
   "id": "8d6f9cfb",
   "metadata": {
    "ExecuteTime": {
     "end_time": "2023-09-30T16:24:44.634470Z",
     "start_time": "2023-09-30T16:24:44.623313Z"
    },
    "scrolled": true
   },
   "outputs": [],
   "source": [
    "dummy_feature"
   ]
  },
  {
   "cell_type": "code",
   "execution_count": 228,
   "id": "9a7fdf01",
   "metadata": {
    "ExecuteTime": {
     "end_time": "2023-09-30T16:24:44.637997Z",
     "start_time": "2023-09-30T16:24:44.635532Z"
    }
   },
   "outputs": [],
   "source": [
    "dummy_feature.shape"
   ]
  },
  {
   "cell_type": "code",
   "execution_count": 229,
   "id": "326050a5",
   "metadata": {
    "ExecuteTime": {
     "end_time": "2023-09-30T16:24:44.641719Z",
     "start_time": "2023-09-30T16:24:44.639467Z"
    }
   },
   "outputs": [],
   "source": [
    "X_final = pd.concat([X_num, dummy_feature], axis=1)"
   ]
  },
  {
   "cell_type": "code",
   "execution_count": 230,
   "id": "7367b1af",
   "metadata": {
    "ExecuteTime": {
     "end_time": "2023-09-30T16:24:44.652581Z",
     "start_time": "2023-09-30T16:24:44.642937Z"
    }
   },
   "outputs": [],
   "source": [
    "X_final.head()"
   ]
  },
  {
   "cell_type": "code",
   "execution_count": 231,
   "id": "0b7659d7",
   "metadata": {
    "ExecuteTime": {
     "end_time": "2023-09-30T16:24:44.657220Z",
     "start_time": "2023-09-30T16:24:44.653818Z"
    }
   },
   "outputs": [],
   "source": [
    "X_final.shape"
   ]
  },
  {
   "cell_type": "code",
   "execution_count": 232,
   "id": "aff8d03d",
   "metadata": {
    "ExecuteTime": {
     "end_time": "2023-09-30T16:24:44.661206Z",
     "start_time": "2023-09-30T16:24:44.658421Z"
    }
   },
   "outputs": [],
   "source": [
    "y.shape"
   ]
  },
  {
   "cell_type": "markdown",
   "id": "3e74e590",
   "metadata": {},
   "source": [
    "#  linear model"
   ]
  },
  {
   "cell_type": "code",
   "execution_count": 233,
   "id": "98e6ea06",
   "metadata": {
    "ExecuteTime": {
     "end_time": "2023-09-30T16:24:44.664043Z",
     "start_time": "2023-09-30T16:24:44.662349Z"
    }
   },
   "outputs": [],
   "source": [
    "from sklearn.model_selection import train_test_split"
   ]
  },
  {
   "cell_type": "code",
   "execution_count": 234,
   "id": "d62971f7",
   "metadata": {
    "ExecuteTime": {
     "end_time": "2023-09-30T16:24:44.666920Z",
     "start_time": "2023-09-30T16:24:44.664953Z"
    }
   },
   "outputs": [],
   "source": [
    "from sklearn.ensemble import RandomForestRegressor"
   ]
  },
  {
   "cell_type": "code",
   "execution_count": 235,
   "id": "2b247483",
   "metadata": {
    "ExecuteTime": {
     "end_time": "2023-09-30T16:24:44.669821Z",
     "start_time": "2023-09-30T16:24:44.667937Z"
    }
   },
   "outputs": [],
   "source": [
    "model = RandomForestRegressor(random_state =1)"
   ]
  },
  {
   "cell_type": "code",
   "execution_count": 236,
   "id": "7cddee1e",
   "metadata": {
    "ExecuteTime": {
     "end_time": "2023-09-30T16:24:44.679230Z",
     "start_time": "2023-09-30T16:24:44.671007Z"
    }
   },
   "outputs": [],
   "source": [
    "X_train,X_test,y_train,y_test = train_test_split(X_final,y,train_size=0.7,test_size=0.3,random_state=1)"
   ]
  },
  {
   "cell_type": "code",
   "execution_count": 237,
   "id": "163b6496",
   "metadata": {
    "ExecuteTime": {
     "end_time": "2023-09-30T16:24:45.357114Z",
     "start_time": "2023-09-30T16:24:44.680344Z"
    }
   },
   "outputs": [],
   "source": [
    "model.fit(X_train,y_train)"
   ]
  },
  {
   "cell_type": "code",
   "execution_count": 238,
   "id": "4666c164",
   "metadata": {
    "ExecuteTime": {
     "end_time": "2023-09-30T16:24:45.361234Z",
     "start_time": "2023-09-30T16:24:45.358811Z"
    }
   },
   "outputs": [],
   "source": [
    "from sklearn.metrics import mean_absolute_error"
   ]
  },
  {
   "cell_type": "code",
   "execution_count": 239,
   "id": "9c8dda26",
   "metadata": {
    "ExecuteTime": {
     "end_time": "2023-09-30T16:24:45.399054Z",
     "start_time": "2023-09-30T16:24:45.362605Z"
    }
   },
   "outputs": [],
   "source": [
    "train_preds = model.predict(X_train)"
   ]
  },
  {
   "cell_type": "code",
   "execution_count": 240,
   "id": "88e2b1da",
   "metadata": {
    "ExecuteTime": {
     "end_time": "2023-09-30T16:24:45.403556Z",
     "start_time": "2023-09-30T16:24:45.400632Z"
    }
   },
   "outputs": [],
   "source": [
    "print(mean_absolute_error(y_train, train_preds))"
   ]
  },
  {
   "cell_type": "code",
   "execution_count": 241,
   "id": "c09e5ea7",
   "metadata": {
    "ExecuteTime": {
     "end_time": "2023-09-30T16:24:45.423940Z",
     "start_time": "2023-09-30T16:24:45.404763Z"
    }
   },
   "outputs": [],
   "source": [
    "test_preds = model.predict(X_test)"
   ]
  },
  {
   "cell_type": "code",
   "execution_count": 242,
   "id": "2f37e9aa",
   "metadata": {
    "ExecuteTime": {
     "end_time": "2023-09-30T16:24:45.427873Z",
     "start_time": "2023-09-30T16:24:45.425175Z"
    }
   },
   "outputs": [],
   "source": [
    "print('MAE:', mean_absolute_error(y_test,test_preds))"
   ]
  },
  {
   "cell_type": "code",
   "execution_count": 243,
   "id": "bbd276c2",
   "metadata": {
    "ExecuteTime": {
     "end_time": "2023-09-30T16:24:45.430598Z",
     "start_time": "2023-09-30T16:24:45.428900Z"
    }
   },
   "outputs": [],
   "source": [
    "# the mean absolute error of the model prediction on our train data which was used for modelling is smaller(5,031) compared to\n",
    "# the mean absolute error on test data (13,661), this implies that the model is overfitting because it performs better on the\n",
    "# train data than test data. However we can reduce overfitting by tuning some parameters to bulild a better model"
   ]
  },
  {
   "cell_type": "code",
   "execution_count": 244,
   "id": "55d797b3",
   "metadata": {
    "ExecuteTime": {
     "end_time": "2023-09-30T16:24:45.435062Z",
     "start_time": "2023-09-30T16:24:45.432044Z"
    }
   },
   "outputs": [],
   "source": [
    "X_final.columns"
   ]
  },
  {
   "cell_type": "code",
   "execution_count": 245,
   "id": "95429ef8",
   "metadata": {
    "ExecuteTime": {
     "end_time": "2023-09-30T16:24:45.447349Z",
     "start_time": "2023-09-30T16:24:45.436112Z"
    }
   },
   "outputs": [],
   "source": [
    "X_final.head()"
   ]
  },
  {
   "cell_type": "code",
   "execution_count": 250,
   "id": "16e3d8b5",
   "metadata": {
    "ExecuteTime": {
     "end_time": "2023-09-30T16:43:58.157187Z",
     "start_time": "2023-09-30T16:43:58.021433Z"
    }
   },
   "outputs": [],
   "source": [
    "import numpy as np\n",
    "\n",
    "def predict_SalePrice(Neighborhood, Overall_Qual, Gr_Liv_Area, Year_Built, Garage_Area):\n",
    "    loc_index = np.where(X_final.columns == Neighborhood)[0]\n",
    "\n",
    "    if len(loc_index) > 0:\n",
    "        loc_index = loc_index[0]\n",
    "    else:\n",
    "        loc_index = -1\n",
    "\n",
    "    x = np.zeros(len(X_final.columns))\n",
    "    x[0] = Overall_Qual\n",
    "    x[1] = Gr_Liv_Area\n",
    "    x[2] = Year_Built\n",
    "    x[3] = Garage_Area\n",
    "\n",
    "    if loc_index >= 0:\n",
    "        x[loc_index] = 1\n",
    "\n",
    "    return model.predict([x])[0]\n",
    "\n",
    "# Assuming X_final and model are defined elsewhere in your code\n",
    "result = predict_SalePrice('Neighborhood_StoneBr', 6, 1656, 1960, 528)\n",
    "print(result)\n"
   ]
  },
  {
   "cell_type": "code",
   "execution_count": 247,
   "id": "f54dd296",
   "metadata": {
    "ExecuteTime": {
     "end_time": "2023-09-30T16:24:45.464100Z",
     "start_time": "2023-09-30T16:24:45.457671Z"
    }
   },
   "outputs": [],
   "source": [
    "predict_SalePrice('Neighborhood_BrDale',6,1656,1960,528)"
   ]
  },
  {
   "cell_type": "code",
   "execution_count": 251,
   "id": "12da89a8",
   "metadata": {
    "ExecuteTime": {
     "end_time": "2023-09-30T16:44:00.145504Z",
     "start_time": "2023-09-30T16:44:00.071026Z"
    }
   },
   "outputs": [],
   "source": [
    "import pickle\n",
    "\n",
    "# Check if lr_clf is a valid model object before saving\n",
    "if hasattr(model, 'predict'):\n",
    "    with open('Ames_house_prices_model.pickle', 'wb') as f:\n",
    "        pickle.dump(model, f)\n",
    "    print(\"Model saved successfully.\")\n",
    "else:\n",
    "    print(\"lr_clf is not a valid model object.\")"
   ]
  },
  {
   "cell_type": "code",
   "execution_count": 253,
   "id": "d2503ab4",
   "metadata": {
    "ExecuteTime": {
     "end_time": "2023-09-30T16:56:51.471691Z",
     "start_time": "2023-09-30T16:56:51.449757Z"
    }
   },
   "outputs": [],
   "source": [
    "import json\n",
    "columns = {\n",
    "    'data_columns': [col.lower() for col in X_final.columns]\n",
    "}\n",
    "with open ('columns.json','w') as f:\n",
    "    f.write(json.dumps(columns))"
   ]
  },
  {
   "cell_type": "code",
   "execution_count": null,
   "id": "32faaa06",
   "metadata": {
    "ExecuteTime": {
     "end_time": "2023-09-30T16:24:45.510262Z",
     "start_time": "2023-09-30T16:24:45.510253Z"
    }
   },
   "outputs": [],
   "source": [
    "import json\n",
    "\n",
    "columns = {\n",
    "    'data_columns': [col.lower() for col in X_final.columns]\n",
    "}\n",
    "\n",
    "with open('columns.json', 'w') as f:\n",
    "    json.dump(columns, f, indent=4)  # Use json.dump with indentation for better readability"
   ]
  }
 ],
 "metadata": {
  "kernelspec": {
   "display_name": "Python 3 (ipykernel)",
   "language": "python",
   "name": "python3"
  },
  "language_info": {
   "codemirror_mode": {
    "name": "ipython",
    "version": 3
   },
   "file_extension": ".py",
   "mimetype": "text/x-python",
   "name": "python",
   "nbconvert_exporter": "python",
   "pygments_lexer": "ipython3",
   "version": "3.10.12"
  },
  "varInspector": {
   "cols": {
    "lenName": 16,
    "lenType": 16,
    "lenVar": 40
   },
   "kernels_config": {
    "python": {
     "delete_cmd_postfix": "",
     "delete_cmd_prefix": "del ",
     "library": "var_list.py",
     "varRefreshCmd": "print(var_dic_list())"
    },
    "r": {
     "delete_cmd_postfix": ") ",
     "delete_cmd_prefix": "rm(",
     "library": "var_list.r",
     "varRefreshCmd": "cat(var_dic_list()) "
    }
   },
   "types_to_exclude": [
    "module",
    "function",
    "builtin_function_or_method",
    "instance",
    "_Feature"
   ],
   "window_display": false
  }
 },
 "nbformat": 4,
 "nbformat_minor": 5
}
