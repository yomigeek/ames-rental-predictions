{
 "cells": [
  {
   "cell_type": "code",
   "execution_count": 10,
   "id": "50f5a0d6",
   "metadata": {
    "ExecuteTime": {
     "end_time": "2023-09-30T14:19:09.937945Z",
     "start_time": "2023-09-30T14:19:09.928552Z"
    }
   },
   "outputs": [],
   "source": [
    "import pandas as pd\n",
    "import numpy as np\n",
    "import matplotlib.pyplot as plt\n",
    "import seaborn as sns"
   ]
  },
  {
   "cell_type": "code",
   "execution_count": 11,
   "id": "5b4d4092",
   "metadata": {
    "ExecuteTime": {
     "end_time": "2023-09-30T14:19:09.983827Z",
     "start_time": "2023-09-30T14:19:09.940876Z"
    }
   },
   "outputs": [],
   "source": [
    "df = pd.read_csv('AmesHousing.csv')"
   ]
  },
  {
   "cell_type": "code",
   "execution_count": 12,
   "id": "dd3330f8",
   "metadata": {
    "ExecuteTime": {
     "end_time": "2023-09-30T14:19:09.988739Z",
     "start_time": "2023-09-30T14:19:09.985070Z"
    }
   },
   "outputs": [
    {
     "data": {
      "text/plain": [
       "(2930, 82)"
      ]
     },
     "execution_count": 12,
     "metadata": {},
     "output_type": "execute_result"
    }
   ],
   "source": [
    "df.shape"
   ]
  },
  {
   "cell_type": "code",
   "execution_count": 13,
   "id": "35488b36",
   "metadata": {
    "ExecuteTime": {
     "end_time": "2023-09-30T14:19:10.005112Z",
     "start_time": "2023-09-30T14:19:09.990486Z"
    }
   },
   "outputs": [
    {
     "data": {
      "text/html": [
       "<div>\n",
       "<style scoped>\n",
       "    .dataframe tbody tr th:only-of-type {\n",
       "        vertical-align: middle;\n",
       "    }\n",
       "\n",
       "    .dataframe tbody tr th {\n",
       "        vertical-align: top;\n",
       "    }\n",
       "\n",
       "    .dataframe thead th {\n",
       "        text-align: right;\n",
       "    }\n",
       "</style>\n",
       "<table border=\"1\" class=\"dataframe\">\n",
       "  <thead>\n",
       "    <tr style=\"text-align: right;\">\n",
       "      <th></th>\n",
       "      <th>Order</th>\n",
       "      <th>PID</th>\n",
       "      <th>MS SubClass</th>\n",
       "      <th>MS Zoning</th>\n",
       "      <th>Lot Frontage</th>\n",
       "      <th>Lot Area</th>\n",
       "      <th>Street</th>\n",
       "      <th>Alley</th>\n",
       "      <th>Lot Shape</th>\n",
       "      <th>Land Contour</th>\n",
       "      <th>...</th>\n",
       "      <th>Pool Area</th>\n",
       "      <th>Pool QC</th>\n",
       "      <th>Fence</th>\n",
       "      <th>Misc Feature</th>\n",
       "      <th>Misc Val</th>\n",
       "      <th>Mo Sold</th>\n",
       "      <th>Yr Sold</th>\n",
       "      <th>Sale Type</th>\n",
       "      <th>Sale Condition</th>\n",
       "      <th>SalePrice</th>\n",
       "    </tr>\n",
       "  </thead>\n",
       "  <tbody>\n",
       "    <tr>\n",
       "      <th>0</th>\n",
       "      <td>1</td>\n",
       "      <td>526301100</td>\n",
       "      <td>20</td>\n",
       "      <td>RL</td>\n",
       "      <td>141.0</td>\n",
       "      <td>31770</td>\n",
       "      <td>Pave</td>\n",
       "      <td>NaN</td>\n",
       "      <td>IR1</td>\n",
       "      <td>Lvl</td>\n",
       "      <td>...</td>\n",
       "      <td>0</td>\n",
       "      <td>NaN</td>\n",
       "      <td>NaN</td>\n",
       "      <td>NaN</td>\n",
       "      <td>0</td>\n",
       "      <td>5</td>\n",
       "      <td>2010</td>\n",
       "      <td>WD</td>\n",
       "      <td>Normal</td>\n",
       "      <td>215000</td>\n",
       "    </tr>\n",
       "    <tr>\n",
       "      <th>1</th>\n",
       "      <td>2</td>\n",
       "      <td>526350040</td>\n",
       "      <td>20</td>\n",
       "      <td>RH</td>\n",
       "      <td>80.0</td>\n",
       "      <td>11622</td>\n",
       "      <td>Pave</td>\n",
       "      <td>NaN</td>\n",
       "      <td>Reg</td>\n",
       "      <td>Lvl</td>\n",
       "      <td>...</td>\n",
       "      <td>0</td>\n",
       "      <td>NaN</td>\n",
       "      <td>MnPrv</td>\n",
       "      <td>NaN</td>\n",
       "      <td>0</td>\n",
       "      <td>6</td>\n",
       "      <td>2010</td>\n",
       "      <td>WD</td>\n",
       "      <td>Normal</td>\n",
       "      <td>105000</td>\n",
       "    </tr>\n",
       "    <tr>\n",
       "      <th>2</th>\n",
       "      <td>3</td>\n",
       "      <td>526351010</td>\n",
       "      <td>20</td>\n",
       "      <td>RL</td>\n",
       "      <td>81.0</td>\n",
       "      <td>14267</td>\n",
       "      <td>Pave</td>\n",
       "      <td>NaN</td>\n",
       "      <td>IR1</td>\n",
       "      <td>Lvl</td>\n",
       "      <td>...</td>\n",
       "      <td>0</td>\n",
       "      <td>NaN</td>\n",
       "      <td>NaN</td>\n",
       "      <td>Gar2</td>\n",
       "      <td>12500</td>\n",
       "      <td>6</td>\n",
       "      <td>2010</td>\n",
       "      <td>WD</td>\n",
       "      <td>Normal</td>\n",
       "      <td>172000</td>\n",
       "    </tr>\n",
       "    <tr>\n",
       "      <th>3</th>\n",
       "      <td>4</td>\n",
       "      <td>526353030</td>\n",
       "      <td>20</td>\n",
       "      <td>RL</td>\n",
       "      <td>93.0</td>\n",
       "      <td>11160</td>\n",
       "      <td>Pave</td>\n",
       "      <td>NaN</td>\n",
       "      <td>Reg</td>\n",
       "      <td>Lvl</td>\n",
       "      <td>...</td>\n",
       "      <td>0</td>\n",
       "      <td>NaN</td>\n",
       "      <td>NaN</td>\n",
       "      <td>NaN</td>\n",
       "      <td>0</td>\n",
       "      <td>4</td>\n",
       "      <td>2010</td>\n",
       "      <td>WD</td>\n",
       "      <td>Normal</td>\n",
       "      <td>244000</td>\n",
       "    </tr>\n",
       "    <tr>\n",
       "      <th>4</th>\n",
       "      <td>5</td>\n",
       "      <td>527105010</td>\n",
       "      <td>60</td>\n",
       "      <td>RL</td>\n",
       "      <td>74.0</td>\n",
       "      <td>13830</td>\n",
       "      <td>Pave</td>\n",
       "      <td>NaN</td>\n",
       "      <td>IR1</td>\n",
       "      <td>Lvl</td>\n",
       "      <td>...</td>\n",
       "      <td>0</td>\n",
       "      <td>NaN</td>\n",
       "      <td>MnPrv</td>\n",
       "      <td>NaN</td>\n",
       "      <td>0</td>\n",
       "      <td>3</td>\n",
       "      <td>2010</td>\n",
       "      <td>WD</td>\n",
       "      <td>Normal</td>\n",
       "      <td>189900</td>\n",
       "    </tr>\n",
       "  </tbody>\n",
       "</table>\n",
       "<p>5 rows × 82 columns</p>\n",
       "</div>"
      ],
      "text/plain": [
       "   Order        PID  MS SubClass MS Zoning  Lot Frontage  Lot Area Street  \\\n",
       "0      1  526301100           20        RL         141.0     31770   Pave   \n",
       "1      2  526350040           20        RH          80.0     11622   Pave   \n",
       "2      3  526351010           20        RL          81.0     14267   Pave   \n",
       "3      4  526353030           20        RL          93.0     11160   Pave   \n",
       "4      5  527105010           60        RL          74.0     13830   Pave   \n",
       "\n",
       "  Alley Lot Shape Land Contour  ... Pool Area Pool QC  Fence Misc Feature  \\\n",
       "0   NaN       IR1          Lvl  ...         0     NaN    NaN          NaN   \n",
       "1   NaN       Reg          Lvl  ...         0     NaN  MnPrv          NaN   \n",
       "2   NaN       IR1          Lvl  ...         0     NaN    NaN         Gar2   \n",
       "3   NaN       Reg          Lvl  ...         0     NaN    NaN          NaN   \n",
       "4   NaN       IR1          Lvl  ...         0     NaN  MnPrv          NaN   \n",
       "\n",
       "  Misc Val Mo Sold Yr Sold Sale Type  Sale Condition  SalePrice  \n",
       "0        0       5    2010       WD           Normal     215000  \n",
       "1        0       6    2010       WD           Normal     105000  \n",
       "2    12500       6    2010       WD           Normal     172000  \n",
       "3        0       4    2010       WD           Normal     244000  \n",
       "4        0       3    2010       WD           Normal     189900  \n",
       "\n",
       "[5 rows x 82 columns]"
      ]
     },
     "execution_count": 13,
     "metadata": {},
     "output_type": "execute_result"
    }
   ],
   "source": [
    "df.head()"
   ]
  },
  {
   "cell_type": "code",
   "execution_count": 14,
   "id": "b9b4ebec",
   "metadata": {
    "ExecuteTime": {
     "end_time": "2023-09-30T14:19:10.019864Z",
     "start_time": "2023-09-30T14:19:10.008310Z"
    }
   },
   "outputs": [
    {
     "name": "stdout",
     "output_type": "stream",
     "text": [
      "<class 'pandas.core.frame.DataFrame'>\n",
      "RangeIndex: 2930 entries, 0 to 2929\n",
      "Data columns (total 82 columns):\n",
      " #   Column           Non-Null Count  Dtype  \n",
      "---  ------           --------------  -----  \n",
      " 0   Order            2930 non-null   int64  \n",
      " 1   PID              2930 non-null   int64  \n",
      " 2   MS SubClass      2930 non-null   int64  \n",
      " 3   MS Zoning        2930 non-null   object \n",
      " 4   Lot Frontage     2440 non-null   float64\n",
      " 5   Lot Area         2930 non-null   int64  \n",
      " 6   Street           2930 non-null   object \n",
      " 7   Alley            198 non-null    object \n",
      " 8   Lot Shape        2930 non-null   object \n",
      " 9   Land Contour     2930 non-null   object \n",
      " 10  Utilities        2930 non-null   object \n",
      " 11  Lot Config       2930 non-null   object \n",
      " 12  Land Slope       2930 non-null   object \n",
      " 13  Neighborhood     2930 non-null   object \n",
      " 14  Condition 1      2930 non-null   object \n",
      " 15  Condition 2      2930 non-null   object \n",
      " 16  Bldg Type        2930 non-null   object \n",
      " 17  House Style      2930 non-null   object \n",
      " 18  Overall Qual     2930 non-null   int64  \n",
      " 19  Overall Cond     2930 non-null   int64  \n",
      " 20  Year Built       2930 non-null   int64  \n",
      " 21  Year Remod/Add   2930 non-null   int64  \n",
      " 22  Roof Style       2930 non-null   object \n",
      " 23  Roof Matl        2930 non-null   object \n",
      " 24  Exterior 1st     2930 non-null   object \n",
      " 25  Exterior 2nd     2930 non-null   object \n",
      " 26  Mas Vnr Type     1155 non-null   object \n",
      " 27  Mas Vnr Area     2907 non-null   float64\n",
      " 28  Exter Qual       2930 non-null   object \n",
      " 29  Exter Cond       2930 non-null   object \n",
      " 30  Foundation       2930 non-null   object \n",
      " 31  Bsmt Qual        2850 non-null   object \n",
      " 32  Bsmt Cond        2850 non-null   object \n",
      " 33  Bsmt Exposure    2847 non-null   object \n",
      " 34  BsmtFin Type 1   2850 non-null   object \n",
      " 35  BsmtFin SF 1     2929 non-null   float64\n",
      " 36  BsmtFin Type 2   2849 non-null   object \n",
      " 37  BsmtFin SF 2     2929 non-null   float64\n",
      " 38  Bsmt Unf SF      2929 non-null   float64\n",
      " 39  Total Bsmt SF    2929 non-null   float64\n",
      " 40  Heating          2930 non-null   object \n",
      " 41  Heating QC       2930 non-null   object \n",
      " 42  Central Air      2930 non-null   object \n",
      " 43  Electrical       2929 non-null   object \n",
      " 44  1st Flr SF       2930 non-null   int64  \n",
      " 45  2nd Flr SF       2930 non-null   int64  \n",
      " 46  Low Qual Fin SF  2930 non-null   int64  \n",
      " 47  Gr Liv Area      2930 non-null   int64  \n",
      " 48  Bsmt Full Bath   2928 non-null   float64\n",
      " 49  Bsmt Half Bath   2928 non-null   float64\n",
      " 50  Full Bath        2930 non-null   int64  \n",
      " 51  Half Bath        2930 non-null   int64  \n",
      " 52  Bedroom AbvGr    2930 non-null   int64  \n",
      " 53  Kitchen AbvGr    2930 non-null   int64  \n",
      " 54  Kitchen Qual     2930 non-null   object \n",
      " 55  TotRms AbvGrd    2930 non-null   int64  \n",
      " 56  Functional       2930 non-null   object \n",
      " 57  Fireplaces       2930 non-null   int64  \n",
      " 58  Fireplace Qu     1508 non-null   object \n",
      " 59  Garage Type      2773 non-null   object \n",
      " 60  Garage Yr Blt    2771 non-null   float64\n",
      " 61  Garage Finish    2771 non-null   object \n",
      " 62  Garage Cars      2929 non-null   float64\n",
      " 63  Garage Area      2929 non-null   float64\n",
      " 64  Garage Qual      2771 non-null   object \n",
      " 65  Garage Cond      2771 non-null   object \n",
      " 66  Paved Drive      2930 non-null   object \n",
      " 67  Wood Deck SF     2930 non-null   int64  \n",
      " 68  Open Porch SF    2930 non-null   int64  \n",
      " 69  Enclosed Porch   2930 non-null   int64  \n",
      " 70  3Ssn Porch       2930 non-null   int64  \n",
      " 71  Screen Porch     2930 non-null   int64  \n",
      " 72  Pool Area        2930 non-null   int64  \n",
      " 73  Pool QC          13 non-null     object \n",
      " 74  Fence            572 non-null    object \n",
      " 75  Misc Feature     106 non-null    object \n",
      " 76  Misc Val         2930 non-null   int64  \n",
      " 77  Mo Sold          2930 non-null   int64  \n",
      " 78  Yr Sold          2930 non-null   int64  \n",
      " 79  Sale Type        2930 non-null   object \n",
      " 80  Sale Condition   2930 non-null   object \n",
      " 81  SalePrice        2930 non-null   int64  \n",
      "dtypes: float64(11), int64(28), object(43)\n",
      "memory usage: 1.8+ MB\n"
     ]
    }
   ],
   "source": [
    "df.info()"
   ]
  },
  {
   "cell_type": "code",
   "execution_count": 15,
   "id": "0c343f48",
   "metadata": {
    "ExecuteTime": {
     "end_time": "2023-09-30T14:19:10.080460Z",
     "start_time": "2023-09-30T14:19:10.021179Z"
    }
   },
   "outputs": [
    {
     "data": {
      "text/html": [
       "<div>\n",
       "<style scoped>\n",
       "    .dataframe tbody tr th:only-of-type {\n",
       "        vertical-align: middle;\n",
       "    }\n",
       "\n",
       "    .dataframe tbody tr th {\n",
       "        vertical-align: top;\n",
       "    }\n",
       "\n",
       "    .dataframe thead th {\n",
       "        text-align: right;\n",
       "    }\n",
       "</style>\n",
       "<table border=\"1\" class=\"dataframe\">\n",
       "  <thead>\n",
       "    <tr style=\"text-align: right;\">\n",
       "      <th></th>\n",
       "      <th>count</th>\n",
       "      <th>mean</th>\n",
       "      <th>std</th>\n",
       "      <th>min</th>\n",
       "      <th>25%</th>\n",
       "      <th>50%</th>\n",
       "      <th>75%</th>\n",
       "      <th>max</th>\n",
       "    </tr>\n",
       "  </thead>\n",
       "  <tbody>\n",
       "    <tr>\n",
       "      <th>Order</th>\n",
       "      <td>2930.0</td>\n",
       "      <td>1.465500e+03</td>\n",
       "      <td>8.459625e+02</td>\n",
       "      <td>1.0</td>\n",
       "      <td>7.332500e+02</td>\n",
       "      <td>1465.5</td>\n",
       "      <td>2.197750e+03</td>\n",
       "      <td>2.930000e+03</td>\n",
       "    </tr>\n",
       "    <tr>\n",
       "      <th>PID</th>\n",
       "      <td>2930.0</td>\n",
       "      <td>7.144645e+08</td>\n",
       "      <td>1.887308e+08</td>\n",
       "      <td>526301100.0</td>\n",
       "      <td>5.284770e+08</td>\n",
       "      <td>535453620.0</td>\n",
       "      <td>9.071811e+08</td>\n",
       "      <td>1.007100e+09</td>\n",
       "    </tr>\n",
       "    <tr>\n",
       "      <th>MS SubClass</th>\n",
       "      <td>2930.0</td>\n",
       "      <td>5.738737e+01</td>\n",
       "      <td>4.263802e+01</td>\n",
       "      <td>20.0</td>\n",
       "      <td>2.000000e+01</td>\n",
       "      <td>50.0</td>\n",
       "      <td>7.000000e+01</td>\n",
       "      <td>1.900000e+02</td>\n",
       "    </tr>\n",
       "    <tr>\n",
       "      <th>Lot Frontage</th>\n",
       "      <td>2440.0</td>\n",
       "      <td>6.922459e+01</td>\n",
       "      <td>2.336533e+01</td>\n",
       "      <td>21.0</td>\n",
       "      <td>5.800000e+01</td>\n",
       "      <td>68.0</td>\n",
       "      <td>8.000000e+01</td>\n",
       "      <td>3.130000e+02</td>\n",
       "    </tr>\n",
       "    <tr>\n",
       "      <th>Lot Area</th>\n",
       "      <td>2930.0</td>\n",
       "      <td>1.014792e+04</td>\n",
       "      <td>7.880018e+03</td>\n",
       "      <td>1300.0</td>\n",
       "      <td>7.440250e+03</td>\n",
       "      <td>9436.5</td>\n",
       "      <td>1.155525e+04</td>\n",
       "      <td>2.152450e+05</td>\n",
       "    </tr>\n",
       "    <tr>\n",
       "      <th>Overall Qual</th>\n",
       "      <td>2930.0</td>\n",
       "      <td>6.094881e+00</td>\n",
       "      <td>1.411026e+00</td>\n",
       "      <td>1.0</td>\n",
       "      <td>5.000000e+00</td>\n",
       "      <td>6.0</td>\n",
       "      <td>7.000000e+00</td>\n",
       "      <td>1.000000e+01</td>\n",
       "    </tr>\n",
       "    <tr>\n",
       "      <th>Overall Cond</th>\n",
       "      <td>2930.0</td>\n",
       "      <td>5.563140e+00</td>\n",
       "      <td>1.111537e+00</td>\n",
       "      <td>1.0</td>\n",
       "      <td>5.000000e+00</td>\n",
       "      <td>5.0</td>\n",
       "      <td>6.000000e+00</td>\n",
       "      <td>9.000000e+00</td>\n",
       "    </tr>\n",
       "    <tr>\n",
       "      <th>Year Built</th>\n",
       "      <td>2930.0</td>\n",
       "      <td>1.971356e+03</td>\n",
       "      <td>3.024536e+01</td>\n",
       "      <td>1872.0</td>\n",
       "      <td>1.954000e+03</td>\n",
       "      <td>1973.0</td>\n",
       "      <td>2.001000e+03</td>\n",
       "      <td>2.010000e+03</td>\n",
       "    </tr>\n",
       "    <tr>\n",
       "      <th>Year Remod/Add</th>\n",
       "      <td>2930.0</td>\n",
       "      <td>1.984267e+03</td>\n",
       "      <td>2.086029e+01</td>\n",
       "      <td>1950.0</td>\n",
       "      <td>1.965000e+03</td>\n",
       "      <td>1993.0</td>\n",
       "      <td>2.004000e+03</td>\n",
       "      <td>2.010000e+03</td>\n",
       "    </tr>\n",
       "    <tr>\n",
       "      <th>Mas Vnr Area</th>\n",
       "      <td>2907.0</td>\n",
       "      <td>1.018968e+02</td>\n",
       "      <td>1.791126e+02</td>\n",
       "      <td>0.0</td>\n",
       "      <td>0.000000e+00</td>\n",
       "      <td>0.0</td>\n",
       "      <td>1.640000e+02</td>\n",
       "      <td>1.600000e+03</td>\n",
       "    </tr>\n",
       "    <tr>\n",
       "      <th>BsmtFin SF 1</th>\n",
       "      <td>2929.0</td>\n",
       "      <td>4.426296e+02</td>\n",
       "      <td>4.555908e+02</td>\n",
       "      <td>0.0</td>\n",
       "      <td>0.000000e+00</td>\n",
       "      <td>370.0</td>\n",
       "      <td>7.340000e+02</td>\n",
       "      <td>5.644000e+03</td>\n",
       "    </tr>\n",
       "    <tr>\n",
       "      <th>BsmtFin SF 2</th>\n",
       "      <td>2929.0</td>\n",
       "      <td>4.972243e+01</td>\n",
       "      <td>1.691685e+02</td>\n",
       "      <td>0.0</td>\n",
       "      <td>0.000000e+00</td>\n",
       "      <td>0.0</td>\n",
       "      <td>0.000000e+00</td>\n",
       "      <td>1.526000e+03</td>\n",
       "    </tr>\n",
       "    <tr>\n",
       "      <th>Bsmt Unf SF</th>\n",
       "      <td>2929.0</td>\n",
       "      <td>5.592625e+02</td>\n",
       "      <td>4.394942e+02</td>\n",
       "      <td>0.0</td>\n",
       "      <td>2.190000e+02</td>\n",
       "      <td>466.0</td>\n",
       "      <td>8.020000e+02</td>\n",
       "      <td>2.336000e+03</td>\n",
       "    </tr>\n",
       "    <tr>\n",
       "      <th>Total Bsmt SF</th>\n",
       "      <td>2929.0</td>\n",
       "      <td>1.051615e+03</td>\n",
       "      <td>4.406151e+02</td>\n",
       "      <td>0.0</td>\n",
       "      <td>7.930000e+02</td>\n",
       "      <td>990.0</td>\n",
       "      <td>1.302000e+03</td>\n",
       "      <td>6.110000e+03</td>\n",
       "    </tr>\n",
       "    <tr>\n",
       "      <th>1st Flr SF</th>\n",
       "      <td>2930.0</td>\n",
       "      <td>1.159558e+03</td>\n",
       "      <td>3.918909e+02</td>\n",
       "      <td>334.0</td>\n",
       "      <td>8.762500e+02</td>\n",
       "      <td>1084.0</td>\n",
       "      <td>1.384000e+03</td>\n",
       "      <td>5.095000e+03</td>\n",
       "    </tr>\n",
       "    <tr>\n",
       "      <th>2nd Flr SF</th>\n",
       "      <td>2930.0</td>\n",
       "      <td>3.354560e+02</td>\n",
       "      <td>4.283957e+02</td>\n",
       "      <td>0.0</td>\n",
       "      <td>0.000000e+00</td>\n",
       "      <td>0.0</td>\n",
       "      <td>7.037500e+02</td>\n",
       "      <td>2.065000e+03</td>\n",
       "    </tr>\n",
       "    <tr>\n",
       "      <th>Low Qual Fin SF</th>\n",
       "      <td>2930.0</td>\n",
       "      <td>4.676792e+00</td>\n",
       "      <td>4.631051e+01</td>\n",
       "      <td>0.0</td>\n",
       "      <td>0.000000e+00</td>\n",
       "      <td>0.0</td>\n",
       "      <td>0.000000e+00</td>\n",
       "      <td>1.064000e+03</td>\n",
       "    </tr>\n",
       "    <tr>\n",
       "      <th>Gr Liv Area</th>\n",
       "      <td>2930.0</td>\n",
       "      <td>1.499690e+03</td>\n",
       "      <td>5.055089e+02</td>\n",
       "      <td>334.0</td>\n",
       "      <td>1.126000e+03</td>\n",
       "      <td>1442.0</td>\n",
       "      <td>1.742750e+03</td>\n",
       "      <td>5.642000e+03</td>\n",
       "    </tr>\n",
       "    <tr>\n",
       "      <th>Bsmt Full Bath</th>\n",
       "      <td>2928.0</td>\n",
       "      <td>4.313525e-01</td>\n",
       "      <td>5.248202e-01</td>\n",
       "      <td>0.0</td>\n",
       "      <td>0.000000e+00</td>\n",
       "      <td>0.0</td>\n",
       "      <td>1.000000e+00</td>\n",
       "      <td>3.000000e+00</td>\n",
       "    </tr>\n",
       "    <tr>\n",
       "      <th>Bsmt Half Bath</th>\n",
       "      <td>2928.0</td>\n",
       "      <td>6.113388e-02</td>\n",
       "      <td>2.452536e-01</td>\n",
       "      <td>0.0</td>\n",
       "      <td>0.000000e+00</td>\n",
       "      <td>0.0</td>\n",
       "      <td>0.000000e+00</td>\n",
       "      <td>2.000000e+00</td>\n",
       "    </tr>\n",
       "    <tr>\n",
       "      <th>Full Bath</th>\n",
       "      <td>2930.0</td>\n",
       "      <td>1.566553e+00</td>\n",
       "      <td>5.529406e-01</td>\n",
       "      <td>0.0</td>\n",
       "      <td>1.000000e+00</td>\n",
       "      <td>2.0</td>\n",
       "      <td>2.000000e+00</td>\n",
       "      <td>4.000000e+00</td>\n",
       "    </tr>\n",
       "    <tr>\n",
       "      <th>Half Bath</th>\n",
       "      <td>2930.0</td>\n",
       "      <td>3.795222e-01</td>\n",
       "      <td>5.026293e-01</td>\n",
       "      <td>0.0</td>\n",
       "      <td>0.000000e+00</td>\n",
       "      <td>0.0</td>\n",
       "      <td>1.000000e+00</td>\n",
       "      <td>2.000000e+00</td>\n",
       "    </tr>\n",
       "    <tr>\n",
       "      <th>Bedroom AbvGr</th>\n",
       "      <td>2930.0</td>\n",
       "      <td>2.854266e+00</td>\n",
       "      <td>8.277311e-01</td>\n",
       "      <td>0.0</td>\n",
       "      <td>2.000000e+00</td>\n",
       "      <td>3.0</td>\n",
       "      <td>3.000000e+00</td>\n",
       "      <td>8.000000e+00</td>\n",
       "    </tr>\n",
       "    <tr>\n",
       "      <th>Kitchen AbvGr</th>\n",
       "      <td>2930.0</td>\n",
       "      <td>1.044369e+00</td>\n",
       "      <td>2.140762e-01</td>\n",
       "      <td>0.0</td>\n",
       "      <td>1.000000e+00</td>\n",
       "      <td>1.0</td>\n",
       "      <td>1.000000e+00</td>\n",
       "      <td>3.000000e+00</td>\n",
       "    </tr>\n",
       "    <tr>\n",
       "      <th>TotRms AbvGrd</th>\n",
       "      <td>2930.0</td>\n",
       "      <td>6.443003e+00</td>\n",
       "      <td>1.572964e+00</td>\n",
       "      <td>2.0</td>\n",
       "      <td>5.000000e+00</td>\n",
       "      <td>6.0</td>\n",
       "      <td>7.000000e+00</td>\n",
       "      <td>1.500000e+01</td>\n",
       "    </tr>\n",
       "    <tr>\n",
       "      <th>Fireplaces</th>\n",
       "      <td>2930.0</td>\n",
       "      <td>5.993174e-01</td>\n",
       "      <td>6.479209e-01</td>\n",
       "      <td>0.0</td>\n",
       "      <td>0.000000e+00</td>\n",
       "      <td>1.0</td>\n",
       "      <td>1.000000e+00</td>\n",
       "      <td>4.000000e+00</td>\n",
       "    </tr>\n",
       "    <tr>\n",
       "      <th>Garage Yr Blt</th>\n",
       "      <td>2771.0</td>\n",
       "      <td>1.978132e+03</td>\n",
       "      <td>2.552841e+01</td>\n",
       "      <td>1895.0</td>\n",
       "      <td>1.960000e+03</td>\n",
       "      <td>1979.0</td>\n",
       "      <td>2.002000e+03</td>\n",
       "      <td>2.207000e+03</td>\n",
       "    </tr>\n",
       "    <tr>\n",
       "      <th>Garage Cars</th>\n",
       "      <td>2929.0</td>\n",
       "      <td>1.766815e+00</td>\n",
       "      <td>7.605664e-01</td>\n",
       "      <td>0.0</td>\n",
       "      <td>1.000000e+00</td>\n",
       "      <td>2.0</td>\n",
       "      <td>2.000000e+00</td>\n",
       "      <td>5.000000e+00</td>\n",
       "    </tr>\n",
       "    <tr>\n",
       "      <th>Garage Area</th>\n",
       "      <td>2929.0</td>\n",
       "      <td>4.728197e+02</td>\n",
       "      <td>2.150465e+02</td>\n",
       "      <td>0.0</td>\n",
       "      <td>3.200000e+02</td>\n",
       "      <td>480.0</td>\n",
       "      <td>5.760000e+02</td>\n",
       "      <td>1.488000e+03</td>\n",
       "    </tr>\n",
       "    <tr>\n",
       "      <th>Wood Deck SF</th>\n",
       "      <td>2930.0</td>\n",
       "      <td>9.375188e+01</td>\n",
       "      <td>1.263616e+02</td>\n",
       "      <td>0.0</td>\n",
       "      <td>0.000000e+00</td>\n",
       "      <td>0.0</td>\n",
       "      <td>1.680000e+02</td>\n",
       "      <td>1.424000e+03</td>\n",
       "    </tr>\n",
       "    <tr>\n",
       "      <th>Open Porch SF</th>\n",
       "      <td>2930.0</td>\n",
       "      <td>4.753345e+01</td>\n",
       "      <td>6.748340e+01</td>\n",
       "      <td>0.0</td>\n",
       "      <td>0.000000e+00</td>\n",
       "      <td>27.0</td>\n",
       "      <td>7.000000e+01</td>\n",
       "      <td>7.420000e+02</td>\n",
       "    </tr>\n",
       "    <tr>\n",
       "      <th>Enclosed Porch</th>\n",
       "      <td>2930.0</td>\n",
       "      <td>2.301160e+01</td>\n",
       "      <td>6.413906e+01</td>\n",
       "      <td>0.0</td>\n",
       "      <td>0.000000e+00</td>\n",
       "      <td>0.0</td>\n",
       "      <td>0.000000e+00</td>\n",
       "      <td>1.012000e+03</td>\n",
       "    </tr>\n",
       "    <tr>\n",
       "      <th>3Ssn Porch</th>\n",
       "      <td>2930.0</td>\n",
       "      <td>2.592491e+00</td>\n",
       "      <td>2.514133e+01</td>\n",
       "      <td>0.0</td>\n",
       "      <td>0.000000e+00</td>\n",
       "      <td>0.0</td>\n",
       "      <td>0.000000e+00</td>\n",
       "      <td>5.080000e+02</td>\n",
       "    </tr>\n",
       "    <tr>\n",
       "      <th>Screen Porch</th>\n",
       "      <td>2930.0</td>\n",
       "      <td>1.600205e+01</td>\n",
       "      <td>5.608737e+01</td>\n",
       "      <td>0.0</td>\n",
       "      <td>0.000000e+00</td>\n",
       "      <td>0.0</td>\n",
       "      <td>0.000000e+00</td>\n",
       "      <td>5.760000e+02</td>\n",
       "    </tr>\n",
       "    <tr>\n",
       "      <th>Pool Area</th>\n",
       "      <td>2930.0</td>\n",
       "      <td>2.243345e+00</td>\n",
       "      <td>3.559718e+01</td>\n",
       "      <td>0.0</td>\n",
       "      <td>0.000000e+00</td>\n",
       "      <td>0.0</td>\n",
       "      <td>0.000000e+00</td>\n",
       "      <td>8.000000e+02</td>\n",
       "    </tr>\n",
       "    <tr>\n",
       "      <th>Misc Val</th>\n",
       "      <td>2930.0</td>\n",
       "      <td>5.063515e+01</td>\n",
       "      <td>5.663443e+02</td>\n",
       "      <td>0.0</td>\n",
       "      <td>0.000000e+00</td>\n",
       "      <td>0.0</td>\n",
       "      <td>0.000000e+00</td>\n",
       "      <td>1.700000e+04</td>\n",
       "    </tr>\n",
       "    <tr>\n",
       "      <th>Mo Sold</th>\n",
       "      <td>2930.0</td>\n",
       "      <td>6.216041e+00</td>\n",
       "      <td>2.714492e+00</td>\n",
       "      <td>1.0</td>\n",
       "      <td>4.000000e+00</td>\n",
       "      <td>6.0</td>\n",
       "      <td>8.000000e+00</td>\n",
       "      <td>1.200000e+01</td>\n",
       "    </tr>\n",
       "    <tr>\n",
       "      <th>Yr Sold</th>\n",
       "      <td>2930.0</td>\n",
       "      <td>2.007790e+03</td>\n",
       "      <td>1.316613e+00</td>\n",
       "      <td>2006.0</td>\n",
       "      <td>2.007000e+03</td>\n",
       "      <td>2008.0</td>\n",
       "      <td>2.009000e+03</td>\n",
       "      <td>2.010000e+03</td>\n",
       "    </tr>\n",
       "    <tr>\n",
       "      <th>SalePrice</th>\n",
       "      <td>2930.0</td>\n",
       "      <td>1.807961e+05</td>\n",
       "      <td>7.988669e+04</td>\n",
       "      <td>12789.0</td>\n",
       "      <td>1.295000e+05</td>\n",
       "      <td>160000.0</td>\n",
       "      <td>2.135000e+05</td>\n",
       "      <td>7.550000e+05</td>\n",
       "    </tr>\n",
       "  </tbody>\n",
       "</table>\n",
       "</div>"
      ],
      "text/plain": [
       "                  count          mean           std          min  \\\n",
       "Order            2930.0  1.465500e+03  8.459625e+02          1.0   \n",
       "PID              2930.0  7.144645e+08  1.887308e+08  526301100.0   \n",
       "MS SubClass      2930.0  5.738737e+01  4.263802e+01         20.0   \n",
       "Lot Frontage     2440.0  6.922459e+01  2.336533e+01         21.0   \n",
       "Lot Area         2930.0  1.014792e+04  7.880018e+03       1300.0   \n",
       "Overall Qual     2930.0  6.094881e+00  1.411026e+00          1.0   \n",
       "Overall Cond     2930.0  5.563140e+00  1.111537e+00          1.0   \n",
       "Year Built       2930.0  1.971356e+03  3.024536e+01       1872.0   \n",
       "Year Remod/Add   2930.0  1.984267e+03  2.086029e+01       1950.0   \n",
       "Mas Vnr Area     2907.0  1.018968e+02  1.791126e+02          0.0   \n",
       "BsmtFin SF 1     2929.0  4.426296e+02  4.555908e+02          0.0   \n",
       "BsmtFin SF 2     2929.0  4.972243e+01  1.691685e+02          0.0   \n",
       "Bsmt Unf SF      2929.0  5.592625e+02  4.394942e+02          0.0   \n",
       "Total Bsmt SF    2929.0  1.051615e+03  4.406151e+02          0.0   \n",
       "1st Flr SF       2930.0  1.159558e+03  3.918909e+02        334.0   \n",
       "2nd Flr SF       2930.0  3.354560e+02  4.283957e+02          0.0   \n",
       "Low Qual Fin SF  2930.0  4.676792e+00  4.631051e+01          0.0   \n",
       "Gr Liv Area      2930.0  1.499690e+03  5.055089e+02        334.0   \n",
       "Bsmt Full Bath   2928.0  4.313525e-01  5.248202e-01          0.0   \n",
       "Bsmt Half Bath   2928.0  6.113388e-02  2.452536e-01          0.0   \n",
       "Full Bath        2930.0  1.566553e+00  5.529406e-01          0.0   \n",
       "Half Bath        2930.0  3.795222e-01  5.026293e-01          0.0   \n",
       "Bedroom AbvGr    2930.0  2.854266e+00  8.277311e-01          0.0   \n",
       "Kitchen AbvGr    2930.0  1.044369e+00  2.140762e-01          0.0   \n",
       "TotRms AbvGrd    2930.0  6.443003e+00  1.572964e+00          2.0   \n",
       "Fireplaces       2930.0  5.993174e-01  6.479209e-01          0.0   \n",
       "Garage Yr Blt    2771.0  1.978132e+03  2.552841e+01       1895.0   \n",
       "Garage Cars      2929.0  1.766815e+00  7.605664e-01          0.0   \n",
       "Garage Area      2929.0  4.728197e+02  2.150465e+02          0.0   \n",
       "Wood Deck SF     2930.0  9.375188e+01  1.263616e+02          0.0   \n",
       "Open Porch SF    2930.0  4.753345e+01  6.748340e+01          0.0   \n",
       "Enclosed Porch   2930.0  2.301160e+01  6.413906e+01          0.0   \n",
       "3Ssn Porch       2930.0  2.592491e+00  2.514133e+01          0.0   \n",
       "Screen Porch     2930.0  1.600205e+01  5.608737e+01          0.0   \n",
       "Pool Area        2930.0  2.243345e+00  3.559718e+01          0.0   \n",
       "Misc Val         2930.0  5.063515e+01  5.663443e+02          0.0   \n",
       "Mo Sold          2930.0  6.216041e+00  2.714492e+00          1.0   \n",
       "Yr Sold          2930.0  2.007790e+03  1.316613e+00       2006.0   \n",
       "SalePrice        2930.0  1.807961e+05  7.988669e+04      12789.0   \n",
       "\n",
       "                          25%          50%           75%           max  \n",
       "Order            7.332500e+02       1465.5  2.197750e+03  2.930000e+03  \n",
       "PID              5.284770e+08  535453620.0  9.071811e+08  1.007100e+09  \n",
       "MS SubClass      2.000000e+01         50.0  7.000000e+01  1.900000e+02  \n",
       "Lot Frontage     5.800000e+01         68.0  8.000000e+01  3.130000e+02  \n",
       "Lot Area         7.440250e+03       9436.5  1.155525e+04  2.152450e+05  \n",
       "Overall Qual     5.000000e+00          6.0  7.000000e+00  1.000000e+01  \n",
       "Overall Cond     5.000000e+00          5.0  6.000000e+00  9.000000e+00  \n",
       "Year Built       1.954000e+03       1973.0  2.001000e+03  2.010000e+03  \n",
       "Year Remod/Add   1.965000e+03       1993.0  2.004000e+03  2.010000e+03  \n",
       "Mas Vnr Area     0.000000e+00          0.0  1.640000e+02  1.600000e+03  \n",
       "BsmtFin SF 1     0.000000e+00        370.0  7.340000e+02  5.644000e+03  \n",
       "BsmtFin SF 2     0.000000e+00          0.0  0.000000e+00  1.526000e+03  \n",
       "Bsmt Unf SF      2.190000e+02        466.0  8.020000e+02  2.336000e+03  \n",
       "Total Bsmt SF    7.930000e+02        990.0  1.302000e+03  6.110000e+03  \n",
       "1st Flr SF       8.762500e+02       1084.0  1.384000e+03  5.095000e+03  \n",
       "2nd Flr SF       0.000000e+00          0.0  7.037500e+02  2.065000e+03  \n",
       "Low Qual Fin SF  0.000000e+00          0.0  0.000000e+00  1.064000e+03  \n",
       "Gr Liv Area      1.126000e+03       1442.0  1.742750e+03  5.642000e+03  \n",
       "Bsmt Full Bath   0.000000e+00          0.0  1.000000e+00  3.000000e+00  \n",
       "Bsmt Half Bath   0.000000e+00          0.0  0.000000e+00  2.000000e+00  \n",
       "Full Bath        1.000000e+00          2.0  2.000000e+00  4.000000e+00  \n",
       "Half Bath        0.000000e+00          0.0  1.000000e+00  2.000000e+00  \n",
       "Bedroom AbvGr    2.000000e+00          3.0  3.000000e+00  8.000000e+00  \n",
       "Kitchen AbvGr    1.000000e+00          1.0  1.000000e+00  3.000000e+00  \n",
       "TotRms AbvGrd    5.000000e+00          6.0  7.000000e+00  1.500000e+01  \n",
       "Fireplaces       0.000000e+00          1.0  1.000000e+00  4.000000e+00  \n",
       "Garage Yr Blt    1.960000e+03       1979.0  2.002000e+03  2.207000e+03  \n",
       "Garage Cars      1.000000e+00          2.0  2.000000e+00  5.000000e+00  \n",
       "Garage Area      3.200000e+02        480.0  5.760000e+02  1.488000e+03  \n",
       "Wood Deck SF     0.000000e+00          0.0  1.680000e+02  1.424000e+03  \n",
       "Open Porch SF    0.000000e+00         27.0  7.000000e+01  7.420000e+02  \n",
       "Enclosed Porch   0.000000e+00          0.0  0.000000e+00  1.012000e+03  \n",
       "3Ssn Porch       0.000000e+00          0.0  0.000000e+00  5.080000e+02  \n",
       "Screen Porch     0.000000e+00          0.0  0.000000e+00  5.760000e+02  \n",
       "Pool Area        0.000000e+00          0.0  0.000000e+00  8.000000e+02  \n",
       "Misc Val         0.000000e+00          0.0  0.000000e+00  1.700000e+04  \n",
       "Mo Sold          4.000000e+00          6.0  8.000000e+00  1.200000e+01  \n",
       "Yr Sold          2.007000e+03       2008.0  2.009000e+03  2.010000e+03  \n",
       "SalePrice        1.295000e+05     160000.0  2.135000e+05  7.550000e+05  "
      ]
     },
     "execution_count": 15,
     "metadata": {},
     "output_type": "execute_result"
    }
   ],
   "source": [
    "df.describe().T"
   ]
  },
  {
   "cell_type": "code",
   "execution_count": 16,
   "id": "91cc7bdd",
   "metadata": {
    "ExecuteTime": {
     "end_time": "2023-09-30T14:19:10.086596Z",
     "start_time": "2023-09-30T14:19:10.082344Z"
    }
   },
   "outputs": [
    {
     "data": {
      "text/plain": [
       "['Order',\n",
       " 'PID',\n",
       " 'MS SubClass',\n",
       " 'MS Zoning',\n",
       " 'Lot Frontage',\n",
       " 'Lot Area',\n",
       " 'Street',\n",
       " 'Alley',\n",
       " 'Lot Shape',\n",
       " 'Land Contour',\n",
       " 'Utilities',\n",
       " 'Lot Config',\n",
       " 'Land Slope',\n",
       " 'Neighborhood',\n",
       " 'Condition 1',\n",
       " 'Condition 2',\n",
       " 'Bldg Type',\n",
       " 'House Style',\n",
       " 'Overall Qual',\n",
       " 'Overall Cond',\n",
       " 'Year Built',\n",
       " 'Year Remod/Add',\n",
       " 'Roof Style',\n",
       " 'Roof Matl',\n",
       " 'Exterior 1st',\n",
       " 'Exterior 2nd',\n",
       " 'Mas Vnr Type',\n",
       " 'Mas Vnr Area',\n",
       " 'Exter Qual',\n",
       " 'Exter Cond',\n",
       " 'Foundation',\n",
       " 'Bsmt Qual',\n",
       " 'Bsmt Cond',\n",
       " 'Bsmt Exposure',\n",
       " 'BsmtFin Type 1',\n",
       " 'BsmtFin SF 1',\n",
       " 'BsmtFin Type 2',\n",
       " 'BsmtFin SF 2',\n",
       " 'Bsmt Unf SF',\n",
       " 'Total Bsmt SF',\n",
       " 'Heating',\n",
       " 'Heating QC',\n",
       " 'Central Air',\n",
       " 'Electrical',\n",
       " '1st Flr SF',\n",
       " '2nd Flr SF',\n",
       " 'Low Qual Fin SF',\n",
       " 'Gr Liv Area',\n",
       " 'Bsmt Full Bath',\n",
       " 'Bsmt Half Bath',\n",
       " 'Full Bath',\n",
       " 'Half Bath',\n",
       " 'Bedroom AbvGr',\n",
       " 'Kitchen AbvGr',\n",
       " 'Kitchen Qual',\n",
       " 'TotRms AbvGrd',\n",
       " 'Functional',\n",
       " 'Fireplaces',\n",
       " 'Fireplace Qu',\n",
       " 'Garage Type',\n",
       " 'Garage Yr Blt',\n",
       " 'Garage Finish',\n",
       " 'Garage Cars',\n",
       " 'Garage Area',\n",
       " 'Garage Qual',\n",
       " 'Garage Cond',\n",
       " 'Paved Drive',\n",
       " 'Wood Deck SF',\n",
       " 'Open Porch SF',\n",
       " 'Enclosed Porch',\n",
       " '3Ssn Porch',\n",
       " 'Screen Porch',\n",
       " 'Pool Area',\n",
       " 'Pool QC',\n",
       " 'Fence',\n",
       " 'Misc Feature',\n",
       " 'Misc Val',\n",
       " 'Mo Sold',\n",
       " 'Yr Sold',\n",
       " 'Sale Type',\n",
       " 'Sale Condition',\n",
       " 'SalePrice']"
      ]
     },
     "execution_count": 16,
     "metadata": {},
     "output_type": "execute_result"
    }
   ],
   "source": [
    "list(df.columns)"
   ]
  },
  {
   "cell_type": "code",
   "execution_count": 17,
   "id": "7383d7ad",
   "metadata": {
    "ExecuteTime": {
     "end_time": "2023-09-30T14:19:10.174632Z",
     "start_time": "2023-09-30T14:19:10.087935Z"
    }
   },
   "outputs": [
    {
     "data": {
      "text/plain": [
       "<Axes: xlabel='SalePrice'>"
      ]
     },
     "execution_count": 17,
     "metadata": {},
     "output_type": "execute_result"
    },
    {
     "data": {
      "image/png": "[encoded data removed]",
      "text/plain": [
       "<Figure size 640x480 with 1 Axes>"
      ]
     },
     "metadata": {},
     "output_type": "display_data"
    }
   ],
   "source": [
    "sns.boxplot(data=df, x='SalePrice')"
   ]
  },
  {
   "cell_type": "code",
   "execution_count": 18,
   "id": "c63a9543",
   "metadata": {
    "ExecuteTime": {
     "end_time": "2023-09-30T14:19:10.180944Z",
     "start_time": "2023-09-30T14:19:10.176217Z"
    }
   },
   "outputs": [],
   "source": [
    "# The columns you mentioned are part of the Ames Housing Dataset, which is often used for housing price prediction and regression analysis. Here's the full meaning of each column:\n",
    "\n",
    "# 1. `Order`: An identifier for each record, typically representing the order in which the data was collected or entered.\n",
    "\n",
    "# 2. `PID`: Parcel identification number, a unique identifier for each property.\n",
    "\n",
    "# 3. `MS SubClass`: The type of dwelling, represented as a numeric code.\n",
    "\n",
    "# 4. `MS Zoning`: The zoning classification of the property, indicating how it can be used (e.g., residential, commercial, industrial).\n",
    "\n",
    "# 5. `Lot Frontage`: Linear feet of street connected to the property.\n",
    "\n",
    "# 6. `Lot Area`: Lot size in square feet.\n",
    "\n",
    "# 7. `Street`: Type of road access to the property (e.g., paved or gravel).\n",
    "\n",
    "# 8. `Alley`: Type of alley access to the property (e.g., paved, gravel, no alley access).\n",
    "\n",
    "# 9. `Lot Shape`: General shape of the lot (e.g., regular, irregular).\n",
    "\n",
    "# 10. `Land Contour`: Flatness of the property (e.g., level, banked, hillside).\n",
    "\n",
    "# 11. `Utilities`: Type of utilities available (e.g., all public utilities, electricity only).\n",
    "\n",
    "# 12. `Lot Config`: Lot configuration (e.g., inside lot, corner lot).\n",
    "\n",
    "# 13. `Land Slope`: Slope of the property (e.g., gentle slope, moderate slope).\n",
    "\n",
    "# 14. `Neighborhood`: Physical locations within the city of Ames, Iowa.\n",
    "\n",
    "# 15. `Condition 1`: Proximity to various conditions (e.g., near a railroad, near park).\n",
    "\n",
    "# 16. `Condition 2`: Proximity to other conditions (if more than one is present).\n",
    "\n",
    "# 17. `Bldg Type`: Type of dwelling (e.g., single-family, townhouse).\n",
    "\n",
    "# 18. `House Style`: Style of the dwelling (e.g., ranch, two-story).\n",
    "\n",
    "# 19. `Overall Qual`: Overall material and finish quality of the house.\n",
    "\n",
    "# 20. `Overall Cond`: Overall condition rating of the house.\n",
    "\n",
    "# 21. `Year Built`: Year the house was originally built.\n",
    "\n",
    "# 22. `Year Remod/Add`: Year of the most recent remodeling or addition.\n",
    "\n",
    "# 23. `Roof Style`: Type of roof design.\n",
    "\n",
    "# 24. `Roof Matl`: Roof material.\n",
    "\n",
    "# 25. `Exterior 1st`: Exterior covering on the house.\n",
    "\n",
    "# 26. `Exterior 2nd`: Secondary exterior covering (if applicable).\n",
    "\n",
    "# 27. `Mas Vnr Type`: Masonry veneer type.\n",
    "\n",
    "# 28. `Mas Vnr Area`: Masonry veneer area in square feet.\n",
    "\n",
    "# 29. `Exter Qual`: Exterior material quality.\n",
    "\n",
    "# 30. `Exter Cond`: Exterior material condition.\n",
    "\n",
    "# 31. `Foundation`: Type of foundation.\n",
    "\n",
    "# 32. `Bsmt Qual`: Height of the basement.\n",
    "\n",
    "# 33. `Bsmt Cond`: General condition of the basement.\n",
    "\n",
    "# 34. `Bsmt Exposure`: Walkout or garden level basement walls exposure.\n",
    "\n",
    "# 35. `BsmtFin Type 1`: Quality of basement finished area.\n",
    "\n",
    "# 36. `BsmtFin SF 1`: Type 1 finished square feet.\n",
    "\n",
    "# 37. `BsmtFin Type 2`: Quality of the second finished area (if present).\n",
    "\n",
    "# 38. `BsmtFin SF 2`: Type 2 finished square feet.\n",
    "\n",
    "# 39. `Bsmt Unf SF`: Unfinished basement square feet.\n",
    "\n",
    "# 40. `Total Bsmt SF`: Total square feet of basement area.\n",
    "\n",
    "# 41. `Heating`: Type of heating.\n",
    "\n",
    "# 42. `Heating QC`: Heating quality and condition.\n",
    "\n",
    "# 43. `Central Air`: Central air conditioning.\n",
    "\n",
    "# 44. `Electrical`: Electrical system.\n",
    "\n",
    "# 45. `1st Flr SF`: First-floor square feet.\n",
    "\n",
    "# 46. `2nd Flr SF`: Second-floor square feet.\n",
    "\n",
    "# 47. `Low Qual Fin SF`: Low-quality finished square feet (e.g., low-quality basement finish).\n",
    "\n",
    "# 48. `Gr Liv Area`: Above-grade (ground) living area square feet.\n",
    "\n",
    "# 49. `Bsmt Full Bath`: Basement full bathrooms.\n",
    "\n",
    "# 50. `Bsmt Half Bath`: Basement half bathrooms.\n",
    "\n",
    "# 51. `Full Bath`: Full bathrooms above grade.\n",
    "\n",
    "# 52. `Half Bath`: Half bathrooms above grade.\n",
    "\n",
    "# 53. `Bedroom AbvGr`: Bedrooms above grade.\n",
    "\n",
    "# 54. `Kitchen AbvGr`: Kitchens above grade.\n",
    "\n",
    "# 55. `Kitchen Qual`: Kitchen quality.\n",
    "\n",
    "# 56. `TotRms AbvGrd`: Total rooms above grade (does not include bathrooms).\n",
    "\n",
    "# 57. `Functional`: Home functionality rating.\n",
    "\n",
    "# 58. `Fireplaces`: Number of fireplaces.\n",
    "\n",
    "# 59. `Fireplace Qu`: Fireplace quality.\n",
    "\n",
    "# 60. `Garage Type`: Garage location and type.\n",
    "\n",
    "# 61. `Garage Yr Blt`: Year garage was built.\n",
    "\n",
    "# 62. `Garage Finish`: Interior finish of the garage.\n",
    "\n",
    "# 63. `Garage Cars`: Size of garage in car capacity.\n",
    "\n",
    "# 64. `Garage Area`: Size of garage in square feet.\n",
    "\n",
    "# 65. `Garage Qual`: Garage quality.\n",
    "\n",
    "# 66. `Garage Cond`: Garage condition.\n",
    "\n",
    "# 67. `Paved Drive`: Paved driveway.\n",
    "\n",
    "# 68. `Wood Deck SF`: Wood deck area in square feet.\n",
    "\n",
    "# 69. `Open Porch SF`: Open porch area in square feet.\n",
    "\n",
    "# 70. `Enclosed Porch`: Enclosed porch area in square feet.\n",
    "\n",
    "# 71. `3Ssn Porch`: Three-season porch area in square feet.\n",
    "\n",
    "# 72. `Screen Porch`: Screen porch area in square feet.\n",
    "\n",
    "# 73. `Pool Area`: Pool area in square feet.\n",
    "\n",
    "# 74. `Pool QC`: Pool quality.\n",
    "\n",
    "# 75. `Fence`: Fence quality.\n",
    "\n",
    "# 76. `Misc Feature`: Miscellaneous feature not covered in other categories.\n",
    "\n",
    "# 77. `Misc Val`: Value of miscellaneous feature.\n",
    "\n",
    "# 78. `Mo Sold`: Month Sold.\n",
    "\n",
    "# 79. `Yr Sold`: Year Sold.\n",
    "\n",
    "# 80. `Sale Type`: Type of sale.\n",
    "\n",
    "# 81. `Sale Condition`: Condition of sale (e.g., normal, abnormal).\n",
    "\n",
    "# These columns provide detailed information about various aspects of the properties in the dataset, and they can be used to analyze and predict housing prices."
   ]
  },
  {
   "cell_type": "code",
   "execution_count": 19,
   "id": "0edec32e",
   "metadata": {
    "ExecuteTime": {
     "end_time": "2023-09-30T14:19:10.380962Z",
     "start_time": "2023-09-30T14:19:10.182773Z"
    }
   },
   "outputs": [
    {
     "data": {
      "text/plain": [
       "<Axes: xlabel='SalePrice', ylabel='Density'>"
      ]
     },
     "execution_count": 19,
     "metadata": {},
     "output_type": "execute_result"
    },
    {
     "data": {
      "image/png": "[encoded data removed]",
      "text/plain": [
       "<Figure size 640x480 with 1 Axes>"
      ]
     },
     "metadata": {},
     "output_type": "display_data"
    }
   ],
   "source": [
    "# distribution of saleprice\n",
    "sns.kdeplot(df['SalePrice'])"
   ]
  },
  {
   "cell_type": "code",
   "execution_count": 20,
   "id": "42a8fedf",
   "metadata": {
    "ExecuteTime": {
     "end_time": "2023-09-30T14:19:11.989547Z",
     "start_time": "2023-09-30T14:19:10.394489Z"
    }
   },
   "outputs": [
    {
     "ename": "ValueError",
     "evalue": "could not convert string to float: 'RL'",
     "output_type": "error",
     "traceback": [
      "\u001b[0;31m---------------------------------------------------------------------------\u001b[0m",
      "\u001b[0;31mValueError\u001b[0m                                Traceback (most recent call last)",
      "Cell \u001b[0;32mIn[20], line 1\u001b[0m\n\u001b[0;32m----> 1\u001b[0m sns\u001b[38;5;241m.\u001b[39mheatmap(\u001b[43mdf\u001b[49m\u001b[38;5;241;43m.\u001b[39;49m\u001b[43mcorr\u001b[49m\u001b[43m(\u001b[49m\u001b[43m)\u001b[49m)\n",
      "File \u001b[0;32m~/anaconda3/lib/python3.10/site-packages/pandas/core/frame.py:10054\u001b[0m, in \u001b[0;36mDataFrame.corr\u001b[0;34m(self, method, min_periods, numeric_only)\u001b[0m\n\u001b[1;32m  10052\u001b[0m cols \u001b[38;5;241m=\u001b[39m data\u001b[38;5;241m.\u001b[39mcolumns\n\u001b[1;32m  10053\u001b[0m idx \u001b[38;5;241m=\u001b[39m cols\u001b[38;5;241m.\u001b[39mcopy()\n\u001b[0;32m> 10054\u001b[0m mat \u001b[38;5;241m=\u001b[39m \u001b[43mdata\u001b[49m\u001b[38;5;241;43m.\u001b[39;49m\u001b[43mto_numpy\u001b[49m\u001b[43m(\u001b[49m\u001b[43mdtype\u001b[49m\u001b[38;5;241;43m=\u001b[39;49m\u001b[38;5;28;43mfloat\u001b[39;49m\u001b[43m,\u001b[49m\u001b[43m \u001b[49m\u001b[43mna_value\u001b[49m\u001b[38;5;241;43m=\u001b[39;49m\u001b[43mnp\u001b[49m\u001b[38;5;241;43m.\u001b[39;49m\u001b[43mnan\u001b[49m\u001b[43m,\u001b[49m\u001b[43m \u001b[49m\u001b[43mcopy\u001b[49m\u001b[38;5;241;43m=\u001b[39;49m\u001b[38;5;28;43;01mFalse\u001b[39;49;00m\u001b[43m)\u001b[49m\n\u001b[1;32m  10056\u001b[0m \u001b[38;5;28;01mif\u001b[39;00m method \u001b[38;5;241m==\u001b[39m \u001b[38;5;124m\"\u001b[39m\u001b[38;5;124mpearson\u001b[39m\u001b[38;5;124m\"\u001b[39m:\n\u001b[1;32m  10057\u001b[0m     correl \u001b[38;5;241m=\u001b[39m libalgos\u001b[38;5;241m.\u001b[39mnancorr(mat, minp\u001b[38;5;241m=\u001b[39mmin_periods)\n",
      "File \u001b[0;32m~/anaconda3/lib/python3.10/site-packages/pandas/core/frame.py:1838\u001b[0m, in \u001b[0;36mDataFrame.to_numpy\u001b[0;34m(self, dtype, copy, na_value)\u001b[0m\n\u001b[1;32m   1836\u001b[0m \u001b[38;5;28;01mif\u001b[39;00m dtype \u001b[38;5;129;01mis\u001b[39;00m \u001b[38;5;129;01mnot\u001b[39;00m \u001b[38;5;28;01mNone\u001b[39;00m:\n\u001b[1;32m   1837\u001b[0m     dtype \u001b[38;5;241m=\u001b[39m np\u001b[38;5;241m.\u001b[39mdtype(dtype)\n\u001b[0;32m-> 1838\u001b[0m result \u001b[38;5;241m=\u001b[39m \u001b[38;5;28;43mself\u001b[39;49m\u001b[38;5;241;43m.\u001b[39;49m\u001b[43m_mgr\u001b[49m\u001b[38;5;241;43m.\u001b[39;49m\u001b[43mas_array\u001b[49m\u001b[43m(\u001b[49m\u001b[43mdtype\u001b[49m\u001b[38;5;241;43m=\u001b[39;49m\u001b[43mdtype\u001b[49m\u001b[43m,\u001b[49m\u001b[43m \u001b[49m\u001b[43mcopy\u001b[49m\u001b[38;5;241;43m=\u001b[39;49m\u001b[43mcopy\u001b[49m\u001b[43m,\u001b[49m\u001b[43m \u001b[49m\u001b[43mna_value\u001b[49m\u001b[38;5;241;43m=\u001b[39;49m\u001b[43mna_value\u001b[49m\u001b[43m)\u001b[49m\n\u001b[1;32m   1839\u001b[0m \u001b[38;5;28;01mif\u001b[39;00m result\u001b[38;5;241m.\u001b[39mdtype \u001b[38;5;129;01mis\u001b[39;00m \u001b[38;5;129;01mnot\u001b[39;00m dtype:\n\u001b[1;32m   1840\u001b[0m     result \u001b[38;5;241m=\u001b[39m np\u001b[38;5;241m.\u001b[39marray(result, dtype\u001b[38;5;241m=\u001b[39mdtype, copy\u001b[38;5;241m=\u001b[39m\u001b[38;5;28;01mFalse\u001b[39;00m)\n",
      "File \u001b[0;32m~/anaconda3/lib/python3.10/site-packages/pandas/core/internals/managers.py:1732\u001b[0m, in \u001b[0;36mBlockManager.as_array\u001b[0;34m(self, dtype, copy, na_value)\u001b[0m\n\u001b[1;32m   1730\u001b[0m         arr\u001b[38;5;241m.\u001b[39mflags\u001b[38;5;241m.\u001b[39mwriteable \u001b[38;5;241m=\u001b[39m \u001b[38;5;28;01mFalse\u001b[39;00m\n\u001b[1;32m   1731\u001b[0m \u001b[38;5;28;01melse\u001b[39;00m:\n\u001b[0;32m-> 1732\u001b[0m     arr \u001b[38;5;241m=\u001b[39m \u001b[38;5;28;43mself\u001b[39;49m\u001b[38;5;241;43m.\u001b[39;49m\u001b[43m_interleave\u001b[49m\u001b[43m(\u001b[49m\u001b[43mdtype\u001b[49m\u001b[38;5;241;43m=\u001b[39;49m\u001b[43mdtype\u001b[49m\u001b[43m,\u001b[49m\u001b[43m \u001b[49m\u001b[43mna_value\u001b[49m\u001b[38;5;241;43m=\u001b[39;49m\u001b[43mna_value\u001b[49m\u001b[43m)\u001b[49m\n\u001b[1;32m   1733\u001b[0m     \u001b[38;5;66;03m# The underlying data was copied within _interleave, so no need\u001b[39;00m\n\u001b[1;32m   1734\u001b[0m     \u001b[38;5;66;03m# to further copy if copy=True or setting na_value\u001b[39;00m\n\u001b[1;32m   1736\u001b[0m \u001b[38;5;28;01mif\u001b[39;00m na_value \u001b[38;5;129;01mis\u001b[39;00m \u001b[38;5;129;01mnot\u001b[39;00m lib\u001b[38;5;241m.\u001b[39mno_default:\n",
      "File \u001b[0;32m~/anaconda3/lib/python3.10/site-packages/pandas/core/internals/managers.py:1794\u001b[0m, in \u001b[0;36mBlockManager._interleave\u001b[0;34m(self, dtype, na_value)\u001b[0m\n\u001b[1;32m   1792\u001b[0m     \u001b[38;5;28;01melse\u001b[39;00m:\n\u001b[1;32m   1793\u001b[0m         arr \u001b[38;5;241m=\u001b[39m blk\u001b[38;5;241m.\u001b[39mget_values(dtype)\n\u001b[0;32m-> 1794\u001b[0m     result[rl\u001b[38;5;241m.\u001b[39mindexer] \u001b[38;5;241m=\u001b[39m arr\n\u001b[1;32m   1795\u001b[0m     itemmask[rl\u001b[38;5;241m.\u001b[39mindexer] \u001b[38;5;241m=\u001b[39m \u001b[38;5;241m1\u001b[39m\n\u001b[1;32m   1797\u001b[0m \u001b[38;5;28;01mif\u001b[39;00m \u001b[38;5;129;01mnot\u001b[39;00m itemmask\u001b[38;5;241m.\u001b[39mall():\n",
      "\u001b[0;31mValueError\u001b[0m: could not convert string to float: 'RL'"
     ]
    }
   ],
   "source": [
    "sns.heatmap(df.corr())"
   ]
  },
  {
   "cell_type": "code",
   "execution_count": null,
   "id": "86fff66c",
   "metadata": {
    "ExecuteTime": {
     "end_time": "2023-09-30T14:19:12.007354Z",
     "start_time": "2023-09-30T14:19:12.007341Z"
    }
   },
   "outputs": [],
   "source": [
    "df_num = df.select_dtypes(include='number')"
   ]
  },
  {
   "cell_type": "code",
   "execution_count": null,
   "id": "50cef4ae",
   "metadata": {
    "ExecuteTime": {
     "end_time": "2023-09-30T14:19:12.008619Z",
     "start_time": "2023-09-30T14:19:12.008610Z"
    }
   },
   "outputs": [],
   "source": [
    "df.corr()['SalePrice'].sort_values()"
   ]
  },
  {
   "cell_type": "markdown",
   "id": "90516e1a",
   "metadata": {},
   "source": [
    "# Data cleaning"
   ]
  },
  {
   "cell_type": "code",
   "execution_count": null,
   "id": "a8b076c7",
   "metadata": {
    "ExecuteTime": {
     "end_time": "2023-09-30T14:19:12.009448Z",
     "start_time": "2023-09-30T14:19:12.009439Z"
    }
   },
   "outputs": [],
   "source": [
    "# Outlier detection"
   ]
  },
  {
   "cell_type": "code",
   "execution_count": null,
   "id": "67745fb4",
   "metadata": {
    "ExecuteTime": {
     "end_time": "2023-09-30T14:19:12.010844Z",
     "start_time": "2023-09-30T14:19:12.010835Z"
    }
   },
   "outputs": [],
   "source": [
    "# overall quality is highly correlated with the target variable\n",
    "sns.scatterplot(data=df, x='Overall Qual', y='SalePrice')"
   ]
  },
  {
   "cell_type": "code",
   "execution_count": null,
   "id": "cb260fec",
   "metadata": {
    "ExecuteTime": {
     "end_time": "2023-09-30T14:19:12.013069Z",
     "start_time": "2023-09-30T14:19:12.013057Z"
    }
   },
   "outputs": [],
   "source": [
    "sns.scatterplot(data=df, x='Gr Liv Area', y='SalePrice') # we can spot three data points that are deviating in the plot"
   ]
  },
  {
   "cell_type": "code",
   "execution_count": null,
   "id": "f0be215b",
   "metadata": {
    "ExecuteTime": {
     "end_time": "2023-09-30T14:19:12.021212Z",
     "start_time": "2023-09-30T14:19:12.021196Z"
    }
   },
   "outputs": [],
   "source": [
    "# we remove the outliers from our DataFrame\n",
    "df2 = df[~(df['Gr Liv Area']>= 4000) & (df['SalePrice']<=300000)]"
   ]
  },
  {
   "cell_type": "code",
   "execution_count": null,
   "id": "321d8574",
   "metadata": {
    "ExecuteTime": {
     "end_time": "2023-09-30T14:19:12.022857Z",
     "start_time": "2023-09-30T14:19:12.022845Z"
    }
   },
   "outputs": [],
   "source": [
    "df2.shape"
   ]
  },
  {
   "cell_type": "code",
   "execution_count": null,
   "id": "ee2221c1",
   "metadata": {
    "ExecuteTime": {
     "end_time": "2023-09-30T14:19:12.024611Z",
     "start_time": "2023-09-30T14:19:12.024602Z"
    }
   },
   "outputs": [],
   "source": [
    "sns.scatterplot(data=df2, x= 'Gr Liv Area', y='SalePrice')"
   ]
  },
  {
   "cell_type": "code",
   "execution_count": null,
   "id": "b19f1400",
   "metadata": {
    "ExecuteTime": {
     "end_time": "2023-09-30T14:19:12.025476Z",
     "start_time": "2023-09-30T14:19:12.025468Z"
    }
   },
   "outputs": [],
   "source": [
    "df2[['Order','PID']]"
   ]
  },
  {
   "cell_type": "code",
   "execution_count": null,
   "id": "7e496cdc",
   "metadata": {
    "ExecuteTime": {
     "end_time": "2023-09-30T14:19:12.026669Z",
     "start_time": "2023-09-30T14:19:12.026657Z"
    }
   },
   "outputs": [],
   "source": [
    "# we drop the 'Order' and 'PID' columns\n",
    "df3 = df2.drop(columns=['Order','PID'], axis=1)"
   ]
  },
  {
   "cell_type": "code",
   "execution_count": null,
   "id": "58169be1",
   "metadata": {
    "ExecuteTime": {
     "end_time": "2023-09-30T14:19:12.027969Z",
     "start_time": "2023-09-30T14:19:12.027947Z"
    }
   },
   "outputs": [],
   "source": [
    "df3.shape"
   ]
  },
  {
   "cell_type": "code",
   "execution_count": null,
   "id": "73c1fb81",
   "metadata": {
    "ExecuteTime": {
     "end_time": "2023-09-30T14:19:12.029064Z",
     "start_time": "2023-09-30T14:19:12.029056Z"
    }
   },
   "outputs": [],
   "source": [
    "df3.isnull().mean().mul(100)"
   ]
  },
  {
   "cell_type": "code",
   "execution_count": null,
   "id": "747bfbee",
   "metadata": {
    "ExecuteTime": {
     "end_time": "2023-09-30T14:19:12.029773Z",
     "start_time": "2023-09-30T14:19:12.029765Z"
    }
   },
   "outputs": [],
   "source": [
    "def percent_missing(df):\n",
    "    '''returns the percentage of missing values in each column of a dataframe'''\n",
    "    percent_nan = df.isnull().mean().mul(100)\n",
    "    percent_nan = percent_nan[percent_nan > 0].sort_values()\n",
    "    return percent_nan"
   ]
  },
  {
   "cell_type": "code",
   "execution_count": null,
   "id": "e46b253a",
   "metadata": {
    "ExecuteTime": {
     "end_time": "2023-09-30T14:19:12.030892Z",
     "start_time": "2023-09-30T14:19:12.030882Z"
    }
   },
   "outputs": [],
   "source": [
    "percent_nan = percent_missing(df3)"
   ]
  },
  {
   "cell_type": "code",
   "execution_count": null,
   "id": "5b87ab61",
   "metadata": {
    "ExecuteTime": {
     "end_time": "2023-09-30T14:19:12.032322Z",
     "start_time": "2023-09-30T14:19:12.032313Z"
    }
   },
   "outputs": [],
   "source": [
    "percent_nan"
   ]
  },
  {
   "cell_type": "code",
   "execution_count": null,
   "id": "b7931230",
   "metadata": {
    "ExecuteTime": {
     "end_time": "2023-09-30T14:19:12.033105Z",
     "start_time": "2023-09-30T14:19:12.033096Z"
    }
   },
   "outputs": [],
   "source": [
    "sns.barplot(x=percent_nan, y=percent_nan.index)"
   ]
  },
  {
   "cell_type": "code",
   "execution_count": null,
   "id": "fbd8739e",
   "metadata": {
    "ExecuteTime": {
     "end_time": "2023-09-30T14:19:12.034128Z",
     "start_time": "2023-09-30T14:19:12.034119Z"
    }
   },
   "outputs": [],
   "source": [
    "percent_nan[percent_nan<1]"
   ]
  },
  {
   "cell_type": "code",
   "execution_count": null,
   "id": "9623bc32",
   "metadata": {
    "ExecuteTime": {
     "end_time": "2023-09-30T14:19:12.034763Z",
     "start_time": "2023-09-30T14:19:12.034755Z"
    }
   },
   "outputs": [],
   "source": [
    "df4 = df3.dropna(axis=0,subset=['Electrical','Garage Area'])"
   ]
  },
  {
   "cell_type": "code",
   "execution_count": null,
   "id": "293f310b",
   "metadata": {
    "ExecuteTime": {
     "end_time": "2023-09-30T14:19:12.038429Z",
     "start_time": "2023-09-30T14:19:12.038418Z"
    }
   },
   "outputs": [],
   "source": [
    "df4.shape"
   ]
  },
  {
   "cell_type": "code",
   "execution_count": null,
   "id": "7a73c989",
   "metadata": {
    "ExecuteTime": {
     "end_time": "2023-09-30T14:19:12.039849Z",
     "start_time": "2023-09-30T14:19:12.039837Z"
    }
   },
   "outputs": [],
   "source": [
    "num_basement_cols = ['BsmtFin SF 1', 'BsmtFin SF 2', 'Bsmt Unf SF','Total Bsmt SF', 'Bsmt Full Bath', 'Bsmt Half Bath']\n",
    "df5 = df4.copy()\n",
    "df5[num_basement_cols] = df5[num_basement_cols].fillna(0)"
   ]
  },
  {
   "cell_type": "code",
   "execution_count": null,
   "id": "62cd2f4f",
   "metadata": {
    "ExecuteTime": {
     "end_time": "2023-09-30T14:19:12.041879Z",
     "start_time": "2023-09-30T14:19:12.041868Z"
    }
   },
   "outputs": [],
   "source": [
    "str_basement_cols = ['Bsmt Qual', 'Bsmt Cond', 'Bsmt Exposure', 'BsmtFin Type 1', 'BsmtFin Type 2']\n",
    "df5[str_basement_cols]= df5[str_basement_cols].fillna('None')"
   ]
  },
  {
   "cell_type": "code",
   "execution_count": null,
   "id": "ea3c7c4c",
   "metadata": {
    "ExecuteTime": {
     "end_time": "2023-09-30T14:19:12.043011Z",
     "start_time": "2023-09-30T14:19:12.043001Z"
    }
   },
   "outputs": [],
   "source": [
    "percent_nan = percent_missing(df5)"
   ]
  },
  {
   "cell_type": "code",
   "execution_count": null,
   "id": "7bc85586",
   "metadata": {
    "ExecuteTime": {
     "end_time": "2023-09-30T14:19:12.045796Z",
     "start_time": "2023-09-30T14:19:12.045785Z"
    }
   },
   "outputs": [],
   "source": [
    "percent_nan"
   ]
  },
  {
   "cell_type": "code",
   "execution_count": null,
   "id": "13098edd",
   "metadata": {
    "ExecuteTime": {
     "end_time": "2023-09-30T14:19:12.047215Z",
     "start_time": "2023-09-30T14:19:12.047206Z"
    }
   },
   "outputs": [],
   "source": [
    "percent_nan[percent_nan<1]"
   ]
  },
  {
   "cell_type": "code",
   "execution_count": null,
   "id": "11da81c3",
   "metadata": {
    "ExecuteTime": {
     "end_time": "2023-09-30T14:19:12.048206Z",
     "start_time": "2023-09-30T14:19:12.048198Z"
    }
   },
   "outputs": [],
   "source": [
    "df5['Mas Vnr Type'].unique()"
   ]
  },
  {
   "cell_type": "code",
   "execution_count": null,
   "id": "3bd59182",
   "metadata": {
    "ExecuteTime": {
     "end_time": "2023-09-30T14:19:12.049327Z",
     "start_time": "2023-09-30T14:19:12.049319Z"
    }
   },
   "outputs": [],
   "source": [
    "df5['Mas Vnr Type'] = df5['Mas Vnr Type'].fillna('None')\n",
    "df5['Mas Vnr Area'] = df5['Mas Vnr Area'].fillna(0)"
   ]
  },
  {
   "cell_type": "code",
   "execution_count": null,
   "id": "29a2f266",
   "metadata": {
    "ExecuteTime": {
     "end_time": "2023-09-30T14:19:12.049921Z",
     "start_time": "2023-09-30T14:19:12.049914Z"
    }
   },
   "outputs": [],
   "source": [
    "percent_nan = percent_missing(df5)\n",
    "percent_nan"
   ]
  },
  {
   "cell_type": "code",
   "execution_count": null,
   "id": "40bd79dd",
   "metadata": {
    "ExecuteTime": {
     "end_time": "2023-09-30T14:19:12.050608Z",
     "start_time": "2023-09-30T14:19:12.050601Z"
    }
   },
   "outputs": [],
   "source": [
    "df5['Garage Type'].unique()"
   ]
  },
  {
   "cell_type": "code",
   "execution_count": null,
   "id": "612d658b",
   "metadata": {
    "ExecuteTime": {
     "end_time": "2023-09-30T14:19:12.052489Z",
     "start_time": "2023-09-30T14:19:12.052466Z"
    }
   },
   "outputs": [],
   "source": [
    "df5['Garage Yr Blt'].unique()"
   ]
  },
  {
   "cell_type": "code",
   "execution_count": null,
   "id": "49b28ab3",
   "metadata": {
    "ExecuteTime": {
     "end_time": "2023-09-30T14:19:12.053907Z",
     "start_time": "2023-09-30T14:19:12.053899Z"
    }
   },
   "outputs": [],
   "source": [
    "df5['Garage Finish'].unique()"
   ]
  },
  {
   "cell_type": "code",
   "execution_count": null,
   "id": "2826cb91",
   "metadata": {
    "ExecuteTime": {
     "end_time": "2023-09-30T14:19:12.055384Z",
     "start_time": "2023-09-30T14:19:12.055369Z"
    }
   },
   "outputs": [],
   "source": [
    "df5['Garage Qual'].unique()"
   ]
  },
  {
   "cell_type": "code",
   "execution_count": null,
   "id": "5a5f72e9",
   "metadata": {
    "ExecuteTime": {
     "end_time": "2023-09-30T14:19:12.056430Z",
     "start_time": "2023-09-30T14:19:12.056422Z"
    }
   },
   "outputs": [],
   "source": [
    "df5['Garage Cond'].unique()"
   ]
  },
  {
   "cell_type": "code",
   "execution_count": null,
   "id": "2331571b",
   "metadata": {
    "ExecuteTime": {
     "end_time": "2023-09-30T14:19:12.057361Z",
     "start_time": "2023-09-30T14:19:12.057351Z"
    }
   },
   "outputs": [],
   "source": [
    "garage_str =['Garage Type','Garage Finish', 'Garage Qual', 'Garage Cond']\n",
    "df6 = df5.copy()\n",
    "df6[garage_str] = df6[garage_str].fillna('None')"
   ]
  },
  {
   "cell_type": "code",
   "execution_count": null,
   "id": "f0d1e774",
   "metadata": {
    "ExecuteTime": {
     "end_time": "2023-09-30T14:19:12.059013Z",
     "start_time": "2023-09-30T14:19:12.059003Z"
    }
   },
   "outputs": [],
   "source": [
    "df6['Garage Yr Blt'] = df6['Garage Yr Blt'].fillna(0)"
   ]
  },
  {
   "cell_type": "code",
   "execution_count": null,
   "id": "fff4a34c",
   "metadata": {
    "ExecuteTime": {
     "end_time": "2023-09-30T14:19:12.064342Z",
     "start_time": "2023-09-30T14:19:12.064322Z"
    }
   },
   "outputs": [],
   "source": [
    "percent_nan = percent_missing(df6)"
   ]
  },
  {
   "cell_type": "code",
   "execution_count": null,
   "id": "ab0939e3",
   "metadata": {
    "ExecuteTime": {
     "end_time": "2023-09-30T14:19:12.065311Z",
     "start_time": "2023-09-30T14:19:12.065303Z"
    }
   },
   "outputs": [],
   "source": [
    "percent_nan"
   ]
  },
  {
   "cell_type": "code",
   "execution_count": null,
   "id": "aa6fe262",
   "metadata": {
    "ExecuteTime": {
     "end_time": "2023-09-30T14:19:12.066134Z",
     "start_time": "2023-09-30T14:19:12.066126Z"
    }
   },
   "outputs": [],
   "source": [
    "# 'Fence', 'Alley', 'Misc Feature' and 'Pool QC' has over 70% of it missing, it will be better to drop it\n",
    "df7 = df6.copy()\n",
    "df7 = df7.drop(columns=['Fence','Alley','Misc Feature','Pool QC'], axis=1)"
   ]
  },
  {
   "cell_type": "code",
   "execution_count": null,
   "id": "f5c3e44f",
   "metadata": {
    "ExecuteTime": {
     "end_time": "2023-09-30T14:19:12.066714Z",
     "start_time": "2023-09-30T14:19:12.066706Z"
    }
   },
   "outputs": [],
   "source": [
    "percent_nan = percent_missing(df7)"
   ]
  },
  {
   "cell_type": "code",
   "execution_count": null,
   "id": "33231a36",
   "metadata": {
    "ExecuteTime": {
     "end_time": "2023-09-30T14:19:12.067674Z",
     "start_time": "2023-09-30T14:19:12.067666Z"
    }
   },
   "outputs": [],
   "source": [
    "percent_nan"
   ]
  },
  {
   "cell_type": "code",
   "execution_count": null,
   "id": "7c5e2e72",
   "metadata": {
    "ExecuteTime": {
     "end_time": "2023-09-30T14:19:12.068546Z",
     "start_time": "2023-09-30T14:19:12.068538Z"
    }
   },
   "outputs": [],
   "source": [
    "df7['Fireplace Qu'].unique()"
   ]
  },
  {
   "cell_type": "code",
   "execution_count": null,
   "id": "d3c5a8e2",
   "metadata": {
    "ExecuteTime": {
     "end_time": "2023-09-30T14:19:12.069905Z",
     "start_time": "2023-09-30T14:19:12.069897Z"
    }
   },
   "outputs": [],
   "source": [
    "# seems some houses do not have a fireplace\n",
    "df8 = df7.copy()\n",
    "df8['Fireplace Qu'] = df8['Fireplace Qu'].fillna('None')"
   ]
  },
  {
   "cell_type": "code",
   "execution_count": null,
   "id": "cb842add",
   "metadata": {
    "ExecuteTime": {
     "end_time": "2023-09-30T14:19:12.071145Z",
     "start_time": "2023-09-30T14:19:12.071135Z"
    }
   },
   "outputs": [],
   "source": [
    "percent_nan = percent_missing(df8)"
   ]
  },
  {
   "cell_type": "code",
   "execution_count": null,
   "id": "b1c335a4",
   "metadata": {
    "ExecuteTime": {
     "end_time": "2023-09-30T14:19:12.072067Z",
     "start_time": "2023-09-30T14:19:12.072060Z"
    }
   },
   "outputs": [],
   "source": [
    "percent_nan"
   ]
  },
  {
   "cell_type": "code",
   "execution_count": null,
   "id": "62b0f28e",
   "metadata": {
    "ExecuteTime": {
     "end_time": "2023-09-30T14:19:12.072989Z",
     "start_time": "2023-09-30T14:19:12.072980Z"
    }
   },
   "outputs": [],
   "source": [
    "df8.columns"
   ]
  },
  {
   "cell_type": "code",
   "execution_count": null,
   "id": "fe197276",
   "metadata": {
    "ExecuteTime": {
     "end_time": "2023-09-30T14:19:12.073610Z",
     "start_time": "2023-09-30T14:19:12.073603Z"
    }
   },
   "outputs": [],
   "source": [
    "df8['Lot Frontage'] = df8.groupby('Neighborhood')['Lot Frontage'].transform(lambda value: value.fillna(value.mean()))"
   ]
  },
  {
   "cell_type": "code",
   "execution_count": null,
   "id": "0021c9fa",
   "metadata": {
    "ExecuteTime": {
     "end_time": "2023-09-30T14:19:12.074950Z",
     "start_time": "2023-09-30T14:19:12.074940Z"
    }
   },
   "outputs": [],
   "source": [
    "percent_nan = percent_missing(df8)\n",
    "percent_nan"
   ]
  },
  {
   "cell_type": "code",
   "execution_count": null,
   "id": "9765633a",
   "metadata": {
    "ExecuteTime": {
     "end_time": "2023-09-30T14:19:12.075593Z",
     "start_time": "2023-09-30T14:19:12.075585Z"
    }
   },
   "outputs": [],
   "source": [
    "df8['Lot Frontage'] = df8['Lot Frontage'].fillna(0)"
   ]
  },
  {
   "cell_type": "code",
   "execution_count": null,
   "id": "6029ba05",
   "metadata": {
    "ExecuteTime": {
     "end_time": "2023-09-30T14:19:12.076352Z",
     "start_time": "2023-09-30T14:19:12.076344Z"
    }
   },
   "outputs": [],
   "source": [
    "X = df8.copy()\n",
    "y = X.pop(\"SalePrice\")\n",
    "\n",
    "# Label encoding for categoricals\n",
    "for colname in X.select_dtypes(\"object\"):\n",
    "    X[colname], _ = X[colname].factorize()"
   ]
  },
  {
   "cell_type": "code",
   "execution_count": null,
   "id": "40d947b6",
   "metadata": {
    "ExecuteTime": {
     "end_time": "2023-09-30T14:19:12.077294Z",
     "start_time": "2023-09-30T14:19:12.077286Z"
    }
   },
   "outputs": [],
   "source": [
    "from sklearn.feature_selection import mutual_info_regression\n",
    "\n",
    "def make_mi_scores(X, y):\n",
    "    mi_scores = mutual_info_regression(X, y)\n",
    "    mi_scores = pd.Series(mi_scores, name=\"MI Scores\", index=X.columns)\n",
    "    mi_scores = mi_scores.sort_values(ascending=False)\n",
    "    return mi_scores\n",
    "\n",
    "mi_scores = make_mi_scores(X, y)\n",
    "mi_scores[::3]  # show a few features with their MI scores"
   ]
  },
  {
   "cell_type": "code",
   "execution_count": null,
   "id": "5c194038",
   "metadata": {
    "ExecuteTime": {
     "end_time": "2023-09-30T14:19:12.078145Z",
     "start_time": "2023-09-30T14:19:12.078137Z"
    }
   },
   "outputs": [],
   "source": [
    "mi_scores.tail(41)"
   ]
  },
  {
   "cell_type": "code",
   "execution_count": null,
   "id": "8f702f2d",
   "metadata": {
    "ExecuteTime": {
     "end_time": "2023-09-30T14:19:12.079015Z",
     "start_time": "2023-09-30T14:19:12.079007Z"
    }
   },
   "outputs": [],
   "source": [
    "X.head()"
   ]
  },
  {
   "cell_type": "code",
   "execution_count": null,
   "id": "152b6d4d",
   "metadata": {
    "ExecuteTime": {
     "end_time": "2023-09-30T14:19:12.079835Z",
     "start_time": "2023-09-30T14:19:12.079827Z"
    }
   },
   "outputs": [],
   "source": [
    "# dropping featues with mutual_info less than 1"
   ]
  },
  {
   "cell_type": "code",
   "execution_count": null,
   "id": "3ebd1206",
   "metadata": {
    "ExecuteTime": {
     "end_time": "2023-09-30T14:19:12.080918Z",
     "start_time": "2023-09-30T14:19:12.080876Z"
    }
   },
   "outputs": [],
   "source": [
    "X = X.drop(columns = ['Garage Cond','Garage Qual','Wood Deck SF','Central Air','Mas Vnr Type','House Style','Lot Shape',\n",
    "'Paved Drive','Sale Type','Bsmt Exposure','Half Bath','Enclosed Porch','Bsmt Cond','Electrical','Sale Condition','Bedroom AbvGr',\n",
    "'Bldg Type','Condition 1','Yr Sold','BsmtFin Type 2','Lot Config','Bsmt Full Bath','Exter Cond','Screen Porch','BsmtFin SF 2','Heating',\n",
    "'Misc Val','Roof Matl','Land Contour','Functional','Kitchen AbvGr','Street','Utilities','Land Slope','Low Qual Fin SF',\n",
    "'Pool Area','Condition 2','Bsmt Half Bath','Roof Style','3Ssn Porch','Mo Sold'], axis=1)"
   ]
  },
  {
   "cell_type": "code",
   "execution_count": null,
   "id": "f9a55cdf",
   "metadata": {
    "ExecuteTime": {
     "end_time": "2023-09-30T14:19:12.082815Z",
     "start_time": "2023-09-30T14:19:12.082807Z"
    }
   },
   "outputs": [],
   "source": [
    "mutual_info.head()"
   ]
  },
  {
   "cell_type": "code",
   "execution_count": null,
   "id": "2aed4294",
   "metadata": {
    "ExecuteTime": {
     "end_time": "2023-09-30T14:19:12.084672Z",
     "start_time": "2023-09-30T14:19:12.084663Z"
    }
   },
   "outputs": [],
   "source": [
    "X.shape"
   ]
  },
  {
   "cell_type": "markdown",
   "id": "46d2f2c7",
   "metadata": {},
   "source": [
    "#  linear model"
   ]
  },
  {
   "cell_type": "code",
   "execution_count": null,
   "id": "0e4d3c71",
   "metadata": {
    "ExecuteTime": {
     "end_time": "2023-09-30T14:19:12.085342Z",
     "start_time": "2023-09-30T14:19:12.085329Z"
    }
   },
   "outputs": [],
   "source": [
    "from sklearn.model_selection import train_test_split"
   ]
  },
  {
   "cell_type": "code",
   "execution_count": null,
   "id": "8d2280b5",
   "metadata": {
    "ExecuteTime": {
     "end_time": "2023-09-30T14:19:12.085949Z",
     "start_time": "2023-09-30T14:19:12.085941Z"
    }
   },
   "outputs": [],
   "source": [
    "from sklearn.ensemble import RandomForestRegressor"
   ]
  },
  {
   "cell_type": "code",
   "execution_count": null,
   "id": "3a1bc01f",
   "metadata": {
    "ExecuteTime": {
     "end_time": "2023-09-30T14:19:12.086609Z",
     "start_time": "2023-09-30T14:19:12.086601Z"
    }
   },
   "outputs": [],
   "source": [
    "model = RandomForestRegressor(random_state =1)"
   ]
  },
  {
   "cell_type": "code",
   "execution_count": null,
   "id": "9c2b28cf",
   "metadata": {
    "ExecuteTime": {
     "end_time": "2023-09-30T14:19:12.088779Z",
     "start_time": "2023-09-30T14:19:12.088764Z"
    }
   },
   "outputs": [],
   "source": [
    "X_train,X_test,y_train,y_test = train_test_split(X,y,train_size=0.7,test_size=0.3,random_state=1)"
   ]
  },
  {
   "cell_type": "code",
   "execution_count": null,
   "id": "a373402c",
   "metadata": {
    "ExecuteTime": {
     "end_time": "2023-09-30T14:19:12.090384Z",
     "start_time": "2023-09-30T14:19:12.090375Z"
    }
   },
   "outputs": [],
   "source": [
    "model.fit(X_train,y_train)"
   ]
  },
  {
   "cell_type": "code",
   "execution_count": null,
   "id": "6a3ba288",
   "metadata": {
    "ExecuteTime": {
     "end_time": "2023-09-30T14:19:12.091899Z",
     "start_time": "2023-09-30T14:19:12.091890Z"
    }
   },
   "outputs": [],
   "source": [
    "from sklearn.metrics import mean_absolute_error"
   ]
  },
  {
   "cell_type": "code",
   "execution_count": null,
   "id": "a40d38c8",
   "metadata": {
    "ExecuteTime": {
     "end_time": "2023-09-30T14:19:12.092850Z",
     "start_time": "2023-09-30T14:19:12.092842Z"
    }
   },
   "outputs": [],
   "source": [
    "train_preds = model.predict(X_train)"
   ]
  },
  {
   "cell_type": "code",
   "execution_count": null,
   "id": "47b37791",
   "metadata": {
    "ExecuteTime": {
     "end_time": "2023-09-30T14:19:12.093536Z",
     "start_time": "2023-09-30T14:19:12.093527Z"
    }
   },
   "outputs": [],
   "source": [
    "print(mean_absolute_error(y_train, train_preds))"
   ]
  },
  {
   "cell_type": "code",
   "execution_count": null,
   "id": "c91ba03a",
   "metadata": {
    "ExecuteTime": {
     "end_time": "2023-09-30T14:19:12.094455Z",
     "start_time": "2023-09-30T14:19:12.094447Z"
    }
   },
   "outputs": [],
   "source": [
    "test_preds = model.predict(X_test)"
   ]
  },
  {
   "cell_type": "code",
   "execution_count": null,
   "id": "1854556b",
   "metadata": {
    "ExecuteTime": {
     "end_time": "2023-09-30T14:19:12.095137Z",
     "start_time": "2023-09-30T14:19:12.095128Z"
    }
   },
   "outputs": [],
   "source": [
    "print('MAE:', mean_absolute_error(y_test,test_preds))"
   ]
  },
  {
   "cell_type": "code",
   "execution_count": null,
   "id": "7be40137",
   "metadata": {
    "ExecuteTime": {
     "end_time": "2023-09-30T14:19:12.095962Z",
     "start_time": "2023-09-30T14:19:12.095954Z"
    }
   },
   "outputs": [],
   "source": [
    "# the mean absolute error of the model prediction on our train data which was used for modelling is smaller(5,031) compared to\n",
    "# the mean absolute error on test data (13,661), this implies that the model is overfitting because it performs better on the\n",
    "# train data than test data. However we can reduce overfitting by tuning some parameters to bulild a better model"
   ]
  },
  {
   "cell_type": "code",
   "execution_count": null,
   "id": "a129a9c3",
   "metadata": {},
   "outputs": [],
   "source": []
  },
  {
   "cell_type": "code",
   "execution_count": null,
   "id": "3845b8e0",
   "metadata": {},
   "outputs": [],
   "source": []
  },
  {
   "cell_type": "code",
   "execution_count": null,
   "id": "82d9c763",
   "metadata": {},
   "outputs": [],
   "source": []
  },
  {
   "cell_type": "code",
   "execution_count": null,
   "id": "a925c06a",
   "metadata": {},
   "outputs": [],
   "source": []
  },
  {
   "cell_type": "markdown",
   "id": "6cacb690",
   "metadata": {},
   "source": [
    "# The steps below can be followed by anyone who intends to use this method"
   ]
  },
  {
   "cell_type": "code",
   "execution_count": null,
   "id": "076f1e44",
   "metadata": {
    "ExecuteTime": {
     "end_time": "2023-09-30T14:19:12.096628Z",
     "start_time": "2023-09-30T14:19:12.096620Z"
    }
   },
   "outputs": [],
   "source": [
    "# numerical features\n",
    "df8_num = df8.select_dtypes(include= 'number')"
   ]
  },
  {
   "cell_type": "code",
   "execution_count": null,
   "id": "133d0302",
   "metadata": {
    "ExecuteTime": {
     "end_time": "2023-09-30T14:19:12.100097Z",
     "start_time": "2023-09-30T14:19:12.100087Z"
    }
   },
   "outputs": [],
   "source": [
    "df8_num"
   ]
  },
  {
   "cell_type": "code",
   "execution_count": null,
   "id": "c45e81fd",
   "metadata": {
    "ExecuteTime": {
     "end_time": "2023-09-30T14:19:12.101152Z",
     "start_time": "2023-09-30T14:19:12.101144Z"
    }
   },
   "outputs": [],
   "source": [
    "# object features\n",
    "df8_str = df8.select_dtypes(include ='object')"
   ]
  },
  {
   "cell_type": "code",
   "execution_count": null,
   "id": "9eba4763",
   "metadata": {
    "ExecuteTime": {
     "end_time": "2023-09-30T14:19:12.102032Z",
     "start_time": "2023-09-30T14:19:12.102023Z"
    }
   },
   "outputs": [],
   "source": [
    "df8_str"
   ]
  },
  {
   "cell_type": "code",
   "execution_count": null,
   "id": "27990ce4",
   "metadata": {
    "ExecuteTime": {
     "end_time": "2023-09-30T14:19:12.103245Z",
     "start_time": "2023-09-30T14:19:12.103235Z"
    }
   },
   "outputs": [],
   "source": [
    "df8_str_dummy = pd.get_dummies(df8_str, drop_first=True)"
   ]
  },
  {
   "cell_type": "code",
   "execution_count": null,
   "id": "2b30bb61",
   "metadata": {
    "ExecuteTime": {
     "end_time": "2023-09-30T14:19:12.104674Z",
     "start_time": "2023-09-30T14:19:12.104666Z"
    }
   },
   "outputs": [],
   "source": [
    "df8_str_dummy"
   ]
  },
  {
   "cell_type": "code",
   "execution_count": null,
   "id": "c24ef31a",
   "metadata": {
    "ExecuteTime": {
     "end_time": "2023-09-30T14:19:12.105518Z",
     "start_time": "2023-09-30T14:19:12.105511Z"
    }
   },
   "outputs": [],
   "source": [
    "final_df = pd.concat([df8_num, df8_str_dummy], axis=1)"
   ]
  },
  {
   "cell_type": "code",
   "execution_count": null,
   "id": "99f7570a",
   "metadata": {
    "ExecuteTime": {
     "end_time": "2023-09-30T14:19:12.106623Z",
     "start_time": "2023-09-30T14:19:12.106614Z"
    }
   },
   "outputs": [],
   "source": [
    "final_df.shape"
   ]
  },
  {
   "cell_type": "code",
   "execution_count": null,
   "id": "b54610f9",
   "metadata": {
    "ExecuteTime": {
     "end_time": "2023-09-30T14:19:12.107246Z",
     "start_time": "2023-09-30T14:19:12.107237Z"
    }
   },
   "outputs": [],
   "source": [
    "final_df.head()"
   ]
  }
 ],
 "metadata": {
  "kernelspec": {
   "display_name": "Python 3 (ipykernel)",
   "language": "python",
   "name": "python3"
  },
  "language_info": {
   "codemirror_mode": {
    "name": "ipython",
    "version": 3
   },
   "file_extension": ".py",
   "mimetype": "text/x-python",
   "name": "python",
   "nbconvert_exporter": "python",
   "pygments_lexer": "ipython3",
   "version": "3.10.12"
  },
  "varInspector": {
   "cols": {
    "lenName": 16,
    "lenType": 16,
    "lenVar": 40
   },
   "kernels_config": {
    "python": {
     "delete_cmd_postfix": "",
     "delete_cmd_prefix": "del ",
     "library": "var_list.py",
     "varRefreshCmd": "print(var_dic_list())"
    },
    "r": {
     "delete_cmd_postfix": ") ",
     "delete_cmd_prefix": "rm(",
     "library": "var_list.r",
     "varRefreshCmd": "cat(var_dic_list()) "
    }
   },
   "types_to_exclude": [
    "module",
    "function",
    "builtin_function_or_method",
    "instance",
    "_Feature"
   ],
   "window_display": false
  }
 },
 "nbformat": 4,
 "nbformat_minor": 5
}
