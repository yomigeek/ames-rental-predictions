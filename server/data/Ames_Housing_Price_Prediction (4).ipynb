{
 "cells": [
  {
   "cell_type": "code",
   "execution_count": 1,
   "id": "50f5a0d6",
   "metadata": {
    "ExecuteTime": {
     "end_time": "2023-09-30T16:07:39.249889Z",
     "start_time": "2023-09-30T16:07:38.009024Z"
    }
   },
   "outputs": [],
   "source": [
    "import pandas as pd\n",
    "import numpy as np\n",
    "import matplotlib.pyplot as plt\n",
    "import seaborn as sns"
   ]
  },
  {
   "cell_type": "code",
   "execution_count": 2,
   "id": "5b4d4092",
   "metadata": {
    "ExecuteTime": {
     "end_time": "2023-09-30T16:07:39.352750Z",
     "start_time": "2023-09-30T16:07:39.280617Z"
    }
   },
   "outputs": [],
   "source": [
    "df = pd.read_csv('AmesHousing.csv')"
   ]
  },
  {
   "cell_type": "code",
   "execution_count": 3,
   "id": "dd3330f8",
   "metadata": {
    "ExecuteTime": {
     "end_time": "2023-09-30T16:07:39.358748Z",
     "start_time": "2023-09-30T16:07:39.353892Z"
    }
   },
   "outputs": [
    {
     "data": {
      "text/plain": [
       "(2930, 82)"
      ]
     },
     "execution_count": 3,
     "metadata": {},
     "output_type": "execute_result"
    }
   ],
   "source": [
    "df.shape"
   ]
  },
  {
   "cell_type": "code",
   "execution_count": 4,
   "id": "35488b36",
   "metadata": {
    "ExecuteTime": {
     "end_time": "2023-09-30T16:07:39.374283Z",
     "start_time": "2023-09-30T16:07:39.360047Z"
    }
   },
   "outputs": [
    {
     "data": {
      "text/html": [
       "<div>\n",
       "<style scoped>\n",
       "    .dataframe tbody tr th:only-of-type {\n",
       "        vertical-align: middle;\n",
       "    }\n",
       "\n",
       "    .dataframe tbody tr th {\n",
       "        vertical-align: top;\n",
       "    }\n",
       "\n",
       "    .dataframe thead th {\n",
       "        text-align: right;\n",
       "    }\n",
       "</style>\n",
       "<table border=\"1\" class=\"dataframe\">\n",
       "  <thead>\n",
       "    <tr style=\"text-align: right;\">\n",
       "      <th></th>\n",
       "      <th>Order</th>\n",
       "      <th>PID</th>\n",
       "      <th>MS SubClass</th>\n",
       "      <th>MS Zoning</th>\n",
       "      <th>Lot Frontage</th>\n",
       "      <th>Lot Area</th>\n",
       "      <th>Street</th>\n",
       "      <th>Alley</th>\n",
       "      <th>Lot Shape</th>\n",
       "      <th>Land Contour</th>\n",
       "      <th>...</th>\n",
       "      <th>Pool Area</th>\n",
       "      <th>Pool QC</th>\n",
       "      <th>Fence</th>\n",
       "      <th>Misc Feature</th>\n",
       "      <th>Misc Val</th>\n",
       "      <th>Mo Sold</th>\n",
       "      <th>Yr Sold</th>\n",
       "      <th>Sale Type</th>\n",
       "      <th>Sale Condition</th>\n",
       "      <th>SalePrice</th>\n",
       "    </tr>\n",
       "  </thead>\n",
       "  <tbody>\n",
       "    <tr>\n",
       "      <th>0</th>\n",
       "      <td>1</td>\n",
       "      <td>526301100</td>\n",
       "      <td>20</td>\n",
       "      <td>RL</td>\n",
       "      <td>141.0</td>\n",
       "      <td>31770</td>\n",
       "      <td>Pave</td>\n",
       "      <td>NaN</td>\n",
       "      <td>IR1</td>\n",
       "      <td>Lvl</td>\n",
       "      <td>...</td>\n",
       "      <td>0</td>\n",
       "      <td>NaN</td>\n",
       "      <td>NaN</td>\n",
       "      <td>NaN</td>\n",
       "      <td>0</td>\n",
       "      <td>5</td>\n",
       "      <td>2010</td>\n",
       "      <td>WD</td>\n",
       "      <td>Normal</td>\n",
       "      <td>215000</td>\n",
       "    </tr>\n",
       "    <tr>\n",
       "      <th>1</th>\n",
       "      <td>2</td>\n",
       "      <td>526350040</td>\n",
       "      <td>20</td>\n",
       "      <td>RH</td>\n",
       "      <td>80.0</td>\n",
       "      <td>11622</td>\n",
       "      <td>Pave</td>\n",
       "      <td>NaN</td>\n",
       "      <td>Reg</td>\n",
       "      <td>Lvl</td>\n",
       "      <td>...</td>\n",
       "      <td>0</td>\n",
       "      <td>NaN</td>\n",
       "      <td>MnPrv</td>\n",
       "      <td>NaN</td>\n",
       "      <td>0</td>\n",
       "      <td>6</td>\n",
       "      <td>2010</td>\n",
       "      <td>WD</td>\n",
       "      <td>Normal</td>\n",
       "      <td>105000</td>\n",
       "    </tr>\n",
       "    <tr>\n",
       "      <th>2</th>\n",
       "      <td>3</td>\n",
       "      <td>526351010</td>\n",
       "      <td>20</td>\n",
       "      <td>RL</td>\n",
       "      <td>81.0</td>\n",
       "      <td>14267</td>\n",
       "      <td>Pave</td>\n",
       "      <td>NaN</td>\n",
       "      <td>IR1</td>\n",
       "      <td>Lvl</td>\n",
       "      <td>...</td>\n",
       "      <td>0</td>\n",
       "      <td>NaN</td>\n",
       "      <td>NaN</td>\n",
       "      <td>Gar2</td>\n",
       "      <td>12500</td>\n",
       "      <td>6</td>\n",
       "      <td>2010</td>\n",
       "      <td>WD</td>\n",
       "      <td>Normal</td>\n",
       "      <td>172000</td>\n",
       "    </tr>\n",
       "    <tr>\n",
       "      <th>3</th>\n",
       "      <td>4</td>\n",
       "      <td>526353030</td>\n",
       "      <td>20</td>\n",
       "      <td>RL</td>\n",
       "      <td>93.0</td>\n",
       "      <td>11160</td>\n",
       "      <td>Pave</td>\n",
       "      <td>NaN</td>\n",
       "      <td>Reg</td>\n",
       "      <td>Lvl</td>\n",
       "      <td>...</td>\n",
       "      <td>0</td>\n",
       "      <td>NaN</td>\n",
       "      <td>NaN</td>\n",
       "      <td>NaN</td>\n",
       "      <td>0</td>\n",
       "      <td>4</td>\n",
       "      <td>2010</td>\n",
       "      <td>WD</td>\n",
       "      <td>Normal</td>\n",
       "      <td>244000</td>\n",
       "    </tr>\n",
       "    <tr>\n",
       "      <th>4</th>\n",
       "      <td>5</td>\n",
       "      <td>527105010</td>\n",
       "      <td>60</td>\n",
       "      <td>RL</td>\n",
       "      <td>74.0</td>\n",
       "      <td>13830</td>\n",
       "      <td>Pave</td>\n",
       "      <td>NaN</td>\n",
       "      <td>IR1</td>\n",
       "      <td>Lvl</td>\n",
       "      <td>...</td>\n",
       "      <td>0</td>\n",
       "      <td>NaN</td>\n",
       "      <td>MnPrv</td>\n",
       "      <td>NaN</td>\n",
       "      <td>0</td>\n",
       "      <td>3</td>\n",
       "      <td>2010</td>\n",
       "      <td>WD</td>\n",
       "      <td>Normal</td>\n",
       "      <td>189900</td>\n",
       "    </tr>\n",
       "  </tbody>\n",
       "</table>\n",
       "<p>5 rows × 82 columns</p>\n",
       "</div>"
      ],
      "text/plain": [
       "   Order        PID  MS SubClass MS Zoning  Lot Frontage  Lot Area Street  \\\n",
       "0      1  526301100           20        RL         141.0     31770   Pave   \n",
       "1      2  526350040           20        RH          80.0     11622   Pave   \n",
       "2      3  526351010           20        RL          81.0     14267   Pave   \n",
       "3      4  526353030           20        RL          93.0     11160   Pave   \n",
       "4      5  527105010           60        RL          74.0     13830   Pave   \n",
       "\n",
       "  Alley Lot Shape Land Contour  ... Pool Area Pool QC  Fence Misc Feature  \\\n",
       "0   NaN       IR1          Lvl  ...         0     NaN    NaN          NaN   \n",
       "1   NaN       Reg          Lvl  ...         0     NaN  MnPrv          NaN   \n",
       "2   NaN       IR1          Lvl  ...         0     NaN    NaN         Gar2   \n",
       "3   NaN       Reg          Lvl  ...         0     NaN    NaN          NaN   \n",
       "4   NaN       IR1          Lvl  ...         0     NaN  MnPrv          NaN   \n",
       "\n",
       "  Misc Val Mo Sold Yr Sold Sale Type  Sale Condition  SalePrice  \n",
       "0        0       5    2010       WD           Normal     215000  \n",
       "1        0       6    2010       WD           Normal     105000  \n",
       "2    12500       6    2010       WD           Normal     172000  \n",
       "3        0       4    2010       WD           Normal     244000  \n",
       "4        0       3    2010       WD           Normal     189900  \n",
       "\n",
       "[5 rows x 82 columns]"
      ]
     },
     "execution_count": 4,
     "metadata": {},
     "output_type": "execute_result"
    }
   ],
   "source": [
    "df.head()"
   ]
  },
  {
   "cell_type": "code",
   "execution_count": 5,
   "id": "b9b4ebec",
   "metadata": {
    "ExecuteTime": {
     "end_time": "2023-09-30T16:07:39.401446Z",
     "start_time": "2023-09-30T16:07:39.377458Z"
    }
   },
   "outputs": [
    {
     "name": "stdout",
     "output_type": "stream",
     "text": [
      "<class 'pandas.core.frame.DataFrame'>\n",
      "RangeIndex: 2930 entries, 0 to 2929\n",
      "Data columns (total 82 columns):\n",
      " #   Column           Non-Null Count  Dtype  \n",
      "---  ------           --------------  -----  \n",
      " 0   Order            2930 non-null   int64  \n",
      " 1   PID              2930 non-null   int64  \n",
      " 2   MS SubClass      2930 non-null   int64  \n",
      " 3   MS Zoning        2930 non-null   object \n",
      " 4   Lot Frontage     2440 non-null   float64\n",
      " 5   Lot Area         2930 non-null   int64  \n",
      " 6   Street           2930 non-null   object \n",
      " 7   Alley            198 non-null    object \n",
      " 8   Lot Shape        2930 non-null   object \n",
      " 9   Land Contour     2930 non-null   object \n",
      " 10  Utilities        2930 non-null   object \n",
      " 11  Lot Config       2930 non-null   object \n",
      " 12  Land Slope       2930 non-null   object \n",
      " 13  Neighborhood     2930 non-null   object \n",
      " 14  Condition 1      2930 non-null   object \n",
      " 15  Condition 2      2930 non-null   object \n",
      " 16  Bldg Type        2930 non-null   object \n",
      " 17  House Style      2930 non-null   object \n",
      " 18  Overall Qual     2930 non-null   int64  \n",
      " 19  Overall Cond     2930 non-null   int64  \n",
      " 20  Year Built       2930 non-null   int64  \n",
      " 21  Year Remod/Add   2930 non-null   int64  \n",
      " 22  Roof Style       2930 non-null   object \n",
      " 23  Roof Matl        2930 non-null   object \n",
      " 24  Exterior 1st     2930 non-null   object \n",
      " 25  Exterior 2nd     2930 non-null   object \n",
      " 26  Mas Vnr Type     1155 non-null   object \n",
      " 27  Mas Vnr Area     2907 non-null   float64\n",
      " 28  Exter Qual       2930 non-null   object \n",
      " 29  Exter Cond       2930 non-null   object \n",
      " 30  Foundation       2930 non-null   object \n",
      " 31  Bsmt Qual        2850 non-null   object \n",
      " 32  Bsmt Cond        2850 non-null   object \n",
      " 33  Bsmt Exposure    2847 non-null   object \n",
      " 34  BsmtFin Type 1   2850 non-null   object \n",
      " 35  BsmtFin SF 1     2929 non-null   float64\n",
      " 36  BsmtFin Type 2   2849 non-null   object \n",
      " 37  BsmtFin SF 2     2929 non-null   float64\n",
      " 38  Bsmt Unf SF      2929 non-null   float64\n",
      " 39  Total Bsmt SF    2929 non-null   float64\n",
      " 40  Heating          2930 non-null   object \n",
      " 41  Heating QC       2930 non-null   object \n",
      " 42  Central Air      2930 non-null   object \n",
      " 43  Electrical       2929 non-null   object \n",
      " 44  1st Flr SF       2930 non-null   int64  \n",
      " 45  2nd Flr SF       2930 non-null   int64  \n",
      " 46  Low Qual Fin SF  2930 non-null   int64  \n",
      " 47  Gr Liv Area      2930 non-null   int64  \n",
      " 48  Bsmt Full Bath   2928 non-null   float64\n",
      " 49  Bsmt Half Bath   2928 non-null   float64\n",
      " 50  Full Bath        2930 non-null   int64  \n",
      " 51  Half Bath        2930 non-null   int64  \n",
      " 52  Bedroom AbvGr    2930 non-null   int64  \n",
      " 53  Kitchen AbvGr    2930 non-null   int64  \n",
      " 54  Kitchen Qual     2930 non-null   object \n",
      " 55  TotRms AbvGrd    2930 non-null   int64  \n",
      " 56  Functional       2930 non-null   object \n",
      " 57  Fireplaces       2930 non-null   int64  \n",
      " 58  Fireplace Qu     1508 non-null   object \n",
      " 59  Garage Type      2773 non-null   object \n",
      " 60  Garage Yr Blt    2771 non-null   float64\n",
      " 61  Garage Finish    2771 non-null   object \n",
      " 62  Garage Cars      2929 non-null   float64\n",
      " 63  Garage Area      2929 non-null   float64\n",
      " 64  Garage Qual      2771 non-null   object \n",
      " 65  Garage Cond      2771 non-null   object \n",
      " 66  Paved Drive      2930 non-null   object \n",
      " 67  Wood Deck SF     2930 non-null   int64  \n",
      " 68  Open Porch SF    2930 non-null   int64  \n",
      " 69  Enclosed Porch   2930 non-null   int64  \n",
      " 70  3Ssn Porch       2930 non-null   int64  \n",
      " 71  Screen Porch     2930 non-null   int64  \n",
      " 72  Pool Area        2930 non-null   int64  \n",
      " 73  Pool QC          13 non-null     object \n",
      " 74  Fence            572 non-null    object \n",
      " 75  Misc Feature     106 non-null    object \n",
      " 76  Misc Val         2930 non-null   int64  \n",
      " 77  Mo Sold          2930 non-null   int64  \n",
      " 78  Yr Sold          2930 non-null   int64  \n",
      " 79  Sale Type        2930 non-null   object \n",
      " 80  Sale Condition   2930 non-null   object \n",
      " 81  SalePrice        2930 non-null   int64  \n",
      "dtypes: float64(11), int64(28), object(43)\n",
      "memory usage: 1.8+ MB\n"
     ]
    }
   ],
   "source": [
    "df.info()"
   ]
  },
  {
   "cell_type": "code",
   "execution_count": 6,
   "id": "0c343f48",
   "metadata": {
    "ExecuteTime": {
     "end_time": "2023-09-30T16:07:39.466042Z",
     "start_time": "2023-09-30T16:07:39.403068Z"
    }
   },
   "outputs": [
    {
     "data": {
      "text/html": [
       "<div>\n",
       "<style scoped>\n",
       "    .dataframe tbody tr th:only-of-type {\n",
       "        vertical-align: middle;\n",
       "    }\n",
       "\n",
       "    .dataframe tbody tr th {\n",
       "        vertical-align: top;\n",
       "    }\n",
       "\n",
       "    .dataframe thead th {\n",
       "        text-align: right;\n",
       "    }\n",
       "</style>\n",
       "<table border=\"1\" class=\"dataframe\">\n",
       "  <thead>\n",
       "    <tr style=\"text-align: right;\">\n",
       "      <th></th>\n",
       "      <th>count</th>\n",
       "      <th>mean</th>\n",
       "      <th>std</th>\n",
       "      <th>min</th>\n",
       "      <th>25%</th>\n",
       "      <th>50%</th>\n",
       "      <th>75%</th>\n",
       "      <th>max</th>\n",
       "    </tr>\n",
       "  </thead>\n",
       "  <tbody>\n",
       "    <tr>\n",
       "      <th>Order</th>\n",
       "      <td>2930.0</td>\n",
       "      <td>1.465500e+03</td>\n",
       "      <td>8.459625e+02</td>\n",
       "      <td>1.0</td>\n",
       "      <td>7.332500e+02</td>\n",
       "      <td>1465.5</td>\n",
       "      <td>2.197750e+03</td>\n",
       "      <td>2.930000e+03</td>\n",
       "    </tr>\n",
       "    <tr>\n",
       "      <th>PID</th>\n",
       "      <td>2930.0</td>\n",
       "      <td>7.144645e+08</td>\n",
       "      <td>1.887308e+08</td>\n",
       "      <td>526301100.0</td>\n",
       "      <td>5.284770e+08</td>\n",
       "      <td>535453620.0</td>\n",
       "      <td>9.071811e+08</td>\n",
       "      <td>1.007100e+09</td>\n",
       "    </tr>\n",
       "    <tr>\n",
       "      <th>MS SubClass</th>\n",
       "      <td>2930.0</td>\n",
       "      <td>5.738737e+01</td>\n",
       "      <td>4.263802e+01</td>\n",
       "      <td>20.0</td>\n",
       "      <td>2.000000e+01</td>\n",
       "      <td>50.0</td>\n",
       "      <td>7.000000e+01</td>\n",
       "      <td>1.900000e+02</td>\n",
       "    </tr>\n",
       "    <tr>\n",
       "      <th>Lot Frontage</th>\n",
       "      <td>2440.0</td>\n",
       "      <td>6.922459e+01</td>\n",
       "      <td>2.336533e+01</td>\n",
       "      <td>21.0</td>\n",
       "      <td>5.800000e+01</td>\n",
       "      <td>68.0</td>\n",
       "      <td>8.000000e+01</td>\n",
       "      <td>3.130000e+02</td>\n",
       "    </tr>\n",
       "    <tr>\n",
       "      <th>Lot Area</th>\n",
       "      <td>2930.0</td>\n",
       "      <td>1.014792e+04</td>\n",
       "      <td>7.880018e+03</td>\n",
       "      <td>1300.0</td>\n",
       "      <td>7.440250e+03</td>\n",
       "      <td>9436.5</td>\n",
       "      <td>1.155525e+04</td>\n",
       "      <td>2.152450e+05</td>\n",
       "    </tr>\n",
       "    <tr>\n",
       "      <th>Overall Qual</th>\n",
       "      <td>2930.0</td>\n",
       "      <td>6.094881e+00</td>\n",
       "      <td>1.411026e+00</td>\n",
       "      <td>1.0</td>\n",
       "      <td>5.000000e+00</td>\n",
       "      <td>6.0</td>\n",
       "      <td>7.000000e+00</td>\n",
       "      <td>1.000000e+01</td>\n",
       "    </tr>\n",
       "    <tr>\n",
       "      <th>Overall Cond</th>\n",
       "      <td>2930.0</td>\n",
       "      <td>5.563140e+00</td>\n",
       "      <td>1.111537e+00</td>\n",
       "      <td>1.0</td>\n",
       "      <td>5.000000e+00</td>\n",
       "      <td>5.0</td>\n",
       "      <td>6.000000e+00</td>\n",
       "      <td>9.000000e+00</td>\n",
       "    </tr>\n",
       "    <tr>\n",
       "      <th>Year Built</th>\n",
       "      <td>2930.0</td>\n",
       "      <td>1.971356e+03</td>\n",
       "      <td>3.024536e+01</td>\n",
       "      <td>1872.0</td>\n",
       "      <td>1.954000e+03</td>\n",
       "      <td>1973.0</td>\n",
       "      <td>2.001000e+03</td>\n",
       "      <td>2.010000e+03</td>\n",
       "    </tr>\n",
       "    <tr>\n",
       "      <th>Year Remod/Add</th>\n",
       "      <td>2930.0</td>\n",
       "      <td>1.984267e+03</td>\n",
       "      <td>2.086029e+01</td>\n",
       "      <td>1950.0</td>\n",
       "      <td>1.965000e+03</td>\n",
       "      <td>1993.0</td>\n",
       "      <td>2.004000e+03</td>\n",
       "      <td>2.010000e+03</td>\n",
       "    </tr>\n",
       "    <tr>\n",
       "      <th>Mas Vnr Area</th>\n",
       "      <td>2907.0</td>\n",
       "      <td>1.018968e+02</td>\n",
       "      <td>1.791126e+02</td>\n",
       "      <td>0.0</td>\n",
       "      <td>0.000000e+00</td>\n",
       "      <td>0.0</td>\n",
       "      <td>1.640000e+02</td>\n",
       "      <td>1.600000e+03</td>\n",
       "    </tr>\n",
       "    <tr>\n",
       "      <th>BsmtFin SF 1</th>\n",
       "      <td>2929.0</td>\n",
       "      <td>4.426296e+02</td>\n",
       "      <td>4.555908e+02</td>\n",
       "      <td>0.0</td>\n",
       "      <td>0.000000e+00</td>\n",
       "      <td>370.0</td>\n",
       "      <td>7.340000e+02</td>\n",
       "      <td>5.644000e+03</td>\n",
       "    </tr>\n",
       "    <tr>\n",
       "      <th>BsmtFin SF 2</th>\n",
       "      <td>2929.0</td>\n",
       "      <td>4.972243e+01</td>\n",
       "      <td>1.691685e+02</td>\n",
       "      <td>0.0</td>\n",
       "      <td>0.000000e+00</td>\n",
       "      <td>0.0</td>\n",
       "      <td>0.000000e+00</td>\n",
       "      <td>1.526000e+03</td>\n",
       "    </tr>\n",
       "    <tr>\n",
       "      <th>Bsmt Unf SF</th>\n",
       "      <td>2929.0</td>\n",
       "      <td>5.592625e+02</td>\n",
       "      <td>4.394942e+02</td>\n",
       "      <td>0.0</td>\n",
       "      <td>2.190000e+02</td>\n",
       "      <td>466.0</td>\n",
       "      <td>8.020000e+02</td>\n",
       "      <td>2.336000e+03</td>\n",
       "    </tr>\n",
       "    <tr>\n",
       "      <th>Total Bsmt SF</th>\n",
       "      <td>2929.0</td>\n",
       "      <td>1.051615e+03</td>\n",
       "      <td>4.406151e+02</td>\n",
       "      <td>0.0</td>\n",
       "      <td>7.930000e+02</td>\n",
       "      <td>990.0</td>\n",
       "      <td>1.302000e+03</td>\n",
       "      <td>6.110000e+03</td>\n",
       "    </tr>\n",
       "    <tr>\n",
       "      <th>1st Flr SF</th>\n",
       "      <td>2930.0</td>\n",
       "      <td>1.159558e+03</td>\n",
       "      <td>3.918909e+02</td>\n",
       "      <td>334.0</td>\n",
       "      <td>8.762500e+02</td>\n",
       "      <td>1084.0</td>\n",
       "      <td>1.384000e+03</td>\n",
       "      <td>5.095000e+03</td>\n",
       "    </tr>\n",
       "    <tr>\n",
       "      <th>2nd Flr SF</th>\n",
       "      <td>2930.0</td>\n",
       "      <td>3.354560e+02</td>\n",
       "      <td>4.283957e+02</td>\n",
       "      <td>0.0</td>\n",
       "      <td>0.000000e+00</td>\n",
       "      <td>0.0</td>\n",
       "      <td>7.037500e+02</td>\n",
       "      <td>2.065000e+03</td>\n",
       "    </tr>\n",
       "    <tr>\n",
       "      <th>Low Qual Fin SF</th>\n",
       "      <td>2930.0</td>\n",
       "      <td>4.676792e+00</td>\n",
       "      <td>4.631051e+01</td>\n",
       "      <td>0.0</td>\n",
       "      <td>0.000000e+00</td>\n",
       "      <td>0.0</td>\n",
       "      <td>0.000000e+00</td>\n",
       "      <td>1.064000e+03</td>\n",
       "    </tr>\n",
       "    <tr>\n",
       "      <th>Gr Liv Area</th>\n",
       "      <td>2930.0</td>\n",
       "      <td>1.499690e+03</td>\n",
       "      <td>5.055089e+02</td>\n",
       "      <td>334.0</td>\n",
       "      <td>1.126000e+03</td>\n",
       "      <td>1442.0</td>\n",
       "      <td>1.742750e+03</td>\n",
       "      <td>5.642000e+03</td>\n",
       "    </tr>\n",
       "    <tr>\n",
       "      <th>Bsmt Full Bath</th>\n",
       "      <td>2928.0</td>\n",
       "      <td>4.313525e-01</td>\n",
       "      <td>5.248202e-01</td>\n",
       "      <td>0.0</td>\n",
       "      <td>0.000000e+00</td>\n",
       "      <td>0.0</td>\n",
       "      <td>1.000000e+00</td>\n",
       "      <td>3.000000e+00</td>\n",
       "    </tr>\n",
       "    <tr>\n",
       "      <th>Bsmt Half Bath</th>\n",
       "      <td>2928.0</td>\n",
       "      <td>6.113388e-02</td>\n",
       "      <td>2.452536e-01</td>\n",
       "      <td>0.0</td>\n",
       "      <td>0.000000e+00</td>\n",
       "      <td>0.0</td>\n",
       "      <td>0.000000e+00</td>\n",
       "      <td>2.000000e+00</td>\n",
       "    </tr>\n",
       "    <tr>\n",
       "      <th>Full Bath</th>\n",
       "      <td>2930.0</td>\n",
       "      <td>1.566553e+00</td>\n",
       "      <td>5.529406e-01</td>\n",
       "      <td>0.0</td>\n",
       "      <td>1.000000e+00</td>\n",
       "      <td>2.0</td>\n",
       "      <td>2.000000e+00</td>\n",
       "      <td>4.000000e+00</td>\n",
       "    </tr>\n",
       "    <tr>\n",
       "      <th>Half Bath</th>\n",
       "      <td>2930.0</td>\n",
       "      <td>3.795222e-01</td>\n",
       "      <td>5.026293e-01</td>\n",
       "      <td>0.0</td>\n",
       "      <td>0.000000e+00</td>\n",
       "      <td>0.0</td>\n",
       "      <td>1.000000e+00</td>\n",
       "      <td>2.000000e+00</td>\n",
       "    </tr>\n",
       "    <tr>\n",
       "      <th>Bedroom AbvGr</th>\n",
       "      <td>2930.0</td>\n",
       "      <td>2.854266e+00</td>\n",
       "      <td>8.277311e-01</td>\n",
       "      <td>0.0</td>\n",
       "      <td>2.000000e+00</td>\n",
       "      <td>3.0</td>\n",
       "      <td>3.000000e+00</td>\n",
       "      <td>8.000000e+00</td>\n",
       "    </tr>\n",
       "    <tr>\n",
       "      <th>Kitchen AbvGr</th>\n",
       "      <td>2930.0</td>\n",
       "      <td>1.044369e+00</td>\n",
       "      <td>2.140762e-01</td>\n",
       "      <td>0.0</td>\n",
       "      <td>1.000000e+00</td>\n",
       "      <td>1.0</td>\n",
       "      <td>1.000000e+00</td>\n",
       "      <td>3.000000e+00</td>\n",
       "    </tr>\n",
       "    <tr>\n",
       "      <th>TotRms AbvGrd</th>\n",
       "      <td>2930.0</td>\n",
       "      <td>6.443003e+00</td>\n",
       "      <td>1.572964e+00</td>\n",
       "      <td>2.0</td>\n",
       "      <td>5.000000e+00</td>\n",
       "      <td>6.0</td>\n",
       "      <td>7.000000e+00</td>\n",
       "      <td>1.500000e+01</td>\n",
       "    </tr>\n",
       "    <tr>\n",
       "      <th>Fireplaces</th>\n",
       "      <td>2930.0</td>\n",
       "      <td>5.993174e-01</td>\n",
       "      <td>6.479209e-01</td>\n",
       "      <td>0.0</td>\n",
       "      <td>0.000000e+00</td>\n",
       "      <td>1.0</td>\n",
       "      <td>1.000000e+00</td>\n",
       "      <td>4.000000e+00</td>\n",
       "    </tr>\n",
       "    <tr>\n",
       "      <th>Garage Yr Blt</th>\n",
       "      <td>2771.0</td>\n",
       "      <td>1.978132e+03</td>\n",
       "      <td>2.552841e+01</td>\n",
       "      <td>1895.0</td>\n",
       "      <td>1.960000e+03</td>\n",
       "      <td>1979.0</td>\n",
       "      <td>2.002000e+03</td>\n",
       "      <td>2.207000e+03</td>\n",
       "    </tr>\n",
       "    <tr>\n",
       "      <th>Garage Cars</th>\n",
       "      <td>2929.0</td>\n",
       "      <td>1.766815e+00</td>\n",
       "      <td>7.605664e-01</td>\n",
       "      <td>0.0</td>\n",
       "      <td>1.000000e+00</td>\n",
       "      <td>2.0</td>\n",
       "      <td>2.000000e+00</td>\n",
       "      <td>5.000000e+00</td>\n",
       "    </tr>\n",
       "    <tr>\n",
       "      <th>Garage Area</th>\n",
       "      <td>2929.0</td>\n",
       "      <td>4.728197e+02</td>\n",
       "      <td>2.150465e+02</td>\n",
       "      <td>0.0</td>\n",
       "      <td>3.200000e+02</td>\n",
       "      <td>480.0</td>\n",
       "      <td>5.760000e+02</td>\n",
       "      <td>1.488000e+03</td>\n",
       "    </tr>\n",
       "    <tr>\n",
       "      <th>Wood Deck SF</th>\n",
       "      <td>2930.0</td>\n",
       "      <td>9.375188e+01</td>\n",
       "      <td>1.263616e+02</td>\n",
       "      <td>0.0</td>\n",
       "      <td>0.000000e+00</td>\n",
       "      <td>0.0</td>\n",
       "      <td>1.680000e+02</td>\n",
       "      <td>1.424000e+03</td>\n",
       "    </tr>\n",
       "    <tr>\n",
       "      <th>Open Porch SF</th>\n",
       "      <td>2930.0</td>\n",
       "      <td>4.753345e+01</td>\n",
       "      <td>6.748340e+01</td>\n",
       "      <td>0.0</td>\n",
       "      <td>0.000000e+00</td>\n",
       "      <td>27.0</td>\n",
       "      <td>7.000000e+01</td>\n",
       "      <td>7.420000e+02</td>\n",
       "    </tr>\n",
       "    <tr>\n",
       "      <th>Enclosed Porch</th>\n",
       "      <td>2930.0</td>\n",
       "      <td>2.301160e+01</td>\n",
       "      <td>6.413906e+01</td>\n",
       "      <td>0.0</td>\n",
       "      <td>0.000000e+00</td>\n",
       "      <td>0.0</td>\n",
       "      <td>0.000000e+00</td>\n",
       "      <td>1.012000e+03</td>\n",
       "    </tr>\n",
       "    <tr>\n",
       "      <th>3Ssn Porch</th>\n",
       "      <td>2930.0</td>\n",
       "      <td>2.592491e+00</td>\n",
       "      <td>2.514133e+01</td>\n",
       "      <td>0.0</td>\n",
       "      <td>0.000000e+00</td>\n",
       "      <td>0.0</td>\n",
       "      <td>0.000000e+00</td>\n",
       "      <td>5.080000e+02</td>\n",
       "    </tr>\n",
       "    <tr>\n",
       "      <th>Screen Porch</th>\n",
       "      <td>2930.0</td>\n",
       "      <td>1.600205e+01</td>\n",
       "      <td>5.608737e+01</td>\n",
       "      <td>0.0</td>\n",
       "      <td>0.000000e+00</td>\n",
       "      <td>0.0</td>\n",
       "      <td>0.000000e+00</td>\n",
       "      <td>5.760000e+02</td>\n",
       "    </tr>\n",
       "    <tr>\n",
       "      <th>Pool Area</th>\n",
       "      <td>2930.0</td>\n",
       "      <td>2.243345e+00</td>\n",
       "      <td>3.559718e+01</td>\n",
       "      <td>0.0</td>\n",
       "      <td>0.000000e+00</td>\n",
       "      <td>0.0</td>\n",
       "      <td>0.000000e+00</td>\n",
       "      <td>8.000000e+02</td>\n",
       "    </tr>\n",
       "    <tr>\n",
       "      <th>Misc Val</th>\n",
       "      <td>2930.0</td>\n",
       "      <td>5.063515e+01</td>\n",
       "      <td>5.663443e+02</td>\n",
       "      <td>0.0</td>\n",
       "      <td>0.000000e+00</td>\n",
       "      <td>0.0</td>\n",
       "      <td>0.000000e+00</td>\n",
       "      <td>1.700000e+04</td>\n",
       "    </tr>\n",
       "    <tr>\n",
       "      <th>Mo Sold</th>\n",
       "      <td>2930.0</td>\n",
       "      <td>6.216041e+00</td>\n",
       "      <td>2.714492e+00</td>\n",
       "      <td>1.0</td>\n",
       "      <td>4.000000e+00</td>\n",
       "      <td>6.0</td>\n",
       "      <td>8.000000e+00</td>\n",
       "      <td>1.200000e+01</td>\n",
       "    </tr>\n",
       "    <tr>\n",
       "      <th>Yr Sold</th>\n",
       "      <td>2930.0</td>\n",
       "      <td>2.007790e+03</td>\n",
       "      <td>1.316613e+00</td>\n",
       "      <td>2006.0</td>\n",
       "      <td>2.007000e+03</td>\n",
       "      <td>2008.0</td>\n",
       "      <td>2.009000e+03</td>\n",
       "      <td>2.010000e+03</td>\n",
       "    </tr>\n",
       "    <tr>\n",
       "      <th>SalePrice</th>\n",
       "      <td>2930.0</td>\n",
       "      <td>1.807961e+05</td>\n",
       "      <td>7.988669e+04</td>\n",
       "      <td>12789.0</td>\n",
       "      <td>1.295000e+05</td>\n",
       "      <td>160000.0</td>\n",
       "      <td>2.135000e+05</td>\n",
       "      <td>7.550000e+05</td>\n",
       "    </tr>\n",
       "  </tbody>\n",
       "</table>\n",
       "</div>"
      ],
      "text/plain": [
       "                  count          mean           std          min  \\\n",
       "Order            2930.0  1.465500e+03  8.459625e+02          1.0   \n",
       "PID              2930.0  7.144645e+08  1.887308e+08  526301100.0   \n",
       "MS SubClass      2930.0  5.738737e+01  4.263802e+01         20.0   \n",
       "Lot Frontage     2440.0  6.922459e+01  2.336533e+01         21.0   \n",
       "Lot Area         2930.0  1.014792e+04  7.880018e+03       1300.0   \n",
       "Overall Qual     2930.0  6.094881e+00  1.411026e+00          1.0   \n",
       "Overall Cond     2930.0  5.563140e+00  1.111537e+00          1.0   \n",
       "Year Built       2930.0  1.971356e+03  3.024536e+01       1872.0   \n",
       "Year Remod/Add   2930.0  1.984267e+03  2.086029e+01       1950.0   \n",
       "Mas Vnr Area     2907.0  1.018968e+02  1.791126e+02          0.0   \n",
       "BsmtFin SF 1     2929.0  4.426296e+02  4.555908e+02          0.0   \n",
       "BsmtFin SF 2     2929.0  4.972243e+01  1.691685e+02          0.0   \n",
       "Bsmt Unf SF      2929.0  5.592625e+02  4.394942e+02          0.0   \n",
       "Total Bsmt SF    2929.0  1.051615e+03  4.406151e+02          0.0   \n",
       "1st Flr SF       2930.0  1.159558e+03  3.918909e+02        334.0   \n",
       "2nd Flr SF       2930.0  3.354560e+02  4.283957e+02          0.0   \n",
       "Low Qual Fin SF  2930.0  4.676792e+00  4.631051e+01          0.0   \n",
       "Gr Liv Area      2930.0  1.499690e+03  5.055089e+02        334.0   \n",
       "Bsmt Full Bath   2928.0  4.313525e-01  5.248202e-01          0.0   \n",
       "Bsmt Half Bath   2928.0  6.113388e-02  2.452536e-01          0.0   \n",
       "Full Bath        2930.0  1.566553e+00  5.529406e-01          0.0   \n",
       "Half Bath        2930.0  3.795222e-01  5.026293e-01          0.0   \n",
       "Bedroom AbvGr    2930.0  2.854266e+00  8.277311e-01          0.0   \n",
       "Kitchen AbvGr    2930.0  1.044369e+00  2.140762e-01          0.0   \n",
       "TotRms AbvGrd    2930.0  6.443003e+00  1.572964e+00          2.0   \n",
       "Fireplaces       2930.0  5.993174e-01  6.479209e-01          0.0   \n",
       "Garage Yr Blt    2771.0  1.978132e+03  2.552841e+01       1895.0   \n",
       "Garage Cars      2929.0  1.766815e+00  7.605664e-01          0.0   \n",
       "Garage Area      2929.0  4.728197e+02  2.150465e+02          0.0   \n",
       "Wood Deck SF     2930.0  9.375188e+01  1.263616e+02          0.0   \n",
       "Open Porch SF    2930.0  4.753345e+01  6.748340e+01          0.0   \n",
       "Enclosed Porch   2930.0  2.301160e+01  6.413906e+01          0.0   \n",
       "3Ssn Porch       2930.0  2.592491e+00  2.514133e+01          0.0   \n",
       "Screen Porch     2930.0  1.600205e+01  5.608737e+01          0.0   \n",
       "Pool Area        2930.0  2.243345e+00  3.559718e+01          0.0   \n",
       "Misc Val         2930.0  5.063515e+01  5.663443e+02          0.0   \n",
       "Mo Sold          2930.0  6.216041e+00  2.714492e+00          1.0   \n",
       "Yr Sold          2930.0  2.007790e+03  1.316613e+00       2006.0   \n",
       "SalePrice        2930.0  1.807961e+05  7.988669e+04      12789.0   \n",
       "\n",
       "                          25%          50%           75%           max  \n",
       "Order            7.332500e+02       1465.5  2.197750e+03  2.930000e+03  \n",
       "PID              5.284770e+08  535453620.0  9.071811e+08  1.007100e+09  \n",
       "MS SubClass      2.000000e+01         50.0  7.000000e+01  1.900000e+02  \n",
       "Lot Frontage     5.800000e+01         68.0  8.000000e+01  3.130000e+02  \n",
       "Lot Area         7.440250e+03       9436.5  1.155525e+04  2.152450e+05  \n",
       "Overall Qual     5.000000e+00          6.0  7.000000e+00  1.000000e+01  \n",
       "Overall Cond     5.000000e+00          5.0  6.000000e+00  9.000000e+00  \n",
       "Year Built       1.954000e+03       1973.0  2.001000e+03  2.010000e+03  \n",
       "Year Remod/Add   1.965000e+03       1993.0  2.004000e+03  2.010000e+03  \n",
       "Mas Vnr Area     0.000000e+00          0.0  1.640000e+02  1.600000e+03  \n",
       "BsmtFin SF 1     0.000000e+00        370.0  7.340000e+02  5.644000e+03  \n",
       "BsmtFin SF 2     0.000000e+00          0.0  0.000000e+00  1.526000e+03  \n",
       "Bsmt Unf SF      2.190000e+02        466.0  8.020000e+02  2.336000e+03  \n",
       "Total Bsmt SF    7.930000e+02        990.0  1.302000e+03  6.110000e+03  \n",
       "1st Flr SF       8.762500e+02       1084.0  1.384000e+03  5.095000e+03  \n",
       "2nd Flr SF       0.000000e+00          0.0  7.037500e+02  2.065000e+03  \n",
       "Low Qual Fin SF  0.000000e+00          0.0  0.000000e+00  1.064000e+03  \n",
       "Gr Liv Area      1.126000e+03       1442.0  1.742750e+03  5.642000e+03  \n",
       "Bsmt Full Bath   0.000000e+00          0.0  1.000000e+00  3.000000e+00  \n",
       "Bsmt Half Bath   0.000000e+00          0.0  0.000000e+00  2.000000e+00  \n",
       "Full Bath        1.000000e+00          2.0  2.000000e+00  4.000000e+00  \n",
       "Half Bath        0.000000e+00          0.0  1.000000e+00  2.000000e+00  \n",
       "Bedroom AbvGr    2.000000e+00          3.0  3.000000e+00  8.000000e+00  \n",
       "Kitchen AbvGr    1.000000e+00          1.0  1.000000e+00  3.000000e+00  \n",
       "TotRms AbvGrd    5.000000e+00          6.0  7.000000e+00  1.500000e+01  \n",
       "Fireplaces       0.000000e+00          1.0  1.000000e+00  4.000000e+00  \n",
       "Garage Yr Blt    1.960000e+03       1979.0  2.002000e+03  2.207000e+03  \n",
       "Garage Cars      1.000000e+00          2.0  2.000000e+00  5.000000e+00  \n",
       "Garage Area      3.200000e+02        480.0  5.760000e+02  1.488000e+03  \n",
       "Wood Deck SF     0.000000e+00          0.0  1.680000e+02  1.424000e+03  \n",
       "Open Porch SF    0.000000e+00         27.0  7.000000e+01  7.420000e+02  \n",
       "Enclosed Porch   0.000000e+00          0.0  0.000000e+00  1.012000e+03  \n",
       "3Ssn Porch       0.000000e+00          0.0  0.000000e+00  5.080000e+02  \n",
       "Screen Porch     0.000000e+00          0.0  0.000000e+00  5.760000e+02  \n",
       "Pool Area        0.000000e+00          0.0  0.000000e+00  8.000000e+02  \n",
       "Misc Val         0.000000e+00          0.0  0.000000e+00  1.700000e+04  \n",
       "Mo Sold          4.000000e+00          6.0  8.000000e+00  1.200000e+01  \n",
       "Yr Sold          2.007000e+03       2008.0  2.009000e+03  2.010000e+03  \n",
       "SalePrice        1.295000e+05     160000.0  2.135000e+05  7.550000e+05  "
      ]
     },
     "execution_count": 6,
     "metadata": {},
     "output_type": "execute_result"
    }
   ],
   "source": [
    "df.describe().T"
   ]
  },
  {
   "cell_type": "code",
   "execution_count": 7,
   "id": "91cc7bdd",
   "metadata": {
    "ExecuteTime": {
     "end_time": "2023-09-30T16:07:39.470797Z",
     "start_time": "2023-09-30T16:07:39.467441Z"
    }
   },
   "outputs": [
    {
     "data": {
      "text/plain": [
       "['Order',\n",
       " 'PID',\n",
       " 'MS SubClass',\n",
       " 'MS Zoning',\n",
       " 'Lot Frontage',\n",
       " 'Lot Area',\n",
       " 'Street',\n",
       " 'Alley',\n",
       " 'Lot Shape',\n",
       " 'Land Contour',\n",
       " 'Utilities',\n",
       " 'Lot Config',\n",
       " 'Land Slope',\n",
       " 'Neighborhood',\n",
       " 'Condition 1',\n",
       " 'Condition 2',\n",
       " 'Bldg Type',\n",
       " 'House Style',\n",
       " 'Overall Qual',\n",
       " 'Overall Cond',\n",
       " 'Year Built',\n",
       " 'Year Remod/Add',\n",
       " 'Roof Style',\n",
       " 'Roof Matl',\n",
       " 'Exterior 1st',\n",
       " 'Exterior 2nd',\n",
       " 'Mas Vnr Type',\n",
       " 'Mas Vnr Area',\n",
       " 'Exter Qual',\n",
       " 'Exter Cond',\n",
       " 'Foundation',\n",
       " 'Bsmt Qual',\n",
       " 'Bsmt Cond',\n",
       " 'Bsmt Exposure',\n",
       " 'BsmtFin Type 1',\n",
       " 'BsmtFin SF 1',\n",
       " 'BsmtFin Type 2',\n",
       " 'BsmtFin SF 2',\n",
       " 'Bsmt Unf SF',\n",
       " 'Total Bsmt SF',\n",
       " 'Heating',\n",
       " 'Heating QC',\n",
       " 'Central Air',\n",
       " 'Electrical',\n",
       " '1st Flr SF',\n",
       " '2nd Flr SF',\n",
       " 'Low Qual Fin SF',\n",
       " 'Gr Liv Area',\n",
       " 'Bsmt Full Bath',\n",
       " 'Bsmt Half Bath',\n",
       " 'Full Bath',\n",
       " 'Half Bath',\n",
       " 'Bedroom AbvGr',\n",
       " 'Kitchen AbvGr',\n",
       " 'Kitchen Qual',\n",
       " 'TotRms AbvGrd',\n",
       " 'Functional',\n",
       " 'Fireplaces',\n",
       " 'Fireplace Qu',\n",
       " 'Garage Type',\n",
       " 'Garage Yr Blt',\n",
       " 'Garage Finish',\n",
       " 'Garage Cars',\n",
       " 'Garage Area',\n",
       " 'Garage Qual',\n",
       " 'Garage Cond',\n",
       " 'Paved Drive',\n",
       " 'Wood Deck SF',\n",
       " 'Open Porch SF',\n",
       " 'Enclosed Porch',\n",
       " '3Ssn Porch',\n",
       " 'Screen Porch',\n",
       " 'Pool Area',\n",
       " 'Pool QC',\n",
       " 'Fence',\n",
       " 'Misc Feature',\n",
       " 'Misc Val',\n",
       " 'Mo Sold',\n",
       " 'Yr Sold',\n",
       " 'Sale Type',\n",
       " 'Sale Condition',\n",
       " 'SalePrice']"
      ]
     },
     "execution_count": 7,
     "metadata": {},
     "output_type": "execute_result"
    }
   ],
   "source": [
    "list(df.columns)"
   ]
  },
  {
   "cell_type": "code",
   "execution_count": 8,
   "id": "7383d7ad",
   "metadata": {
    "ExecuteTime": {
     "end_time": "2023-09-30T16:07:39.580815Z",
     "start_time": "2023-09-30T16:07:39.471837Z"
    }
   },
   "outputs": [
    {
     "data": {
      "text/plain": [
       "<Axes: xlabel='SalePrice'>"
      ]
     },
     "execution_count": 8,
     "metadata": {},
     "output_type": "execute_result"
    },
    {
     "data": {
      "image/png": "[encoded data removed]",
      "text/plain": [
       "<Figure size 640x480 with 1 Axes>"
      ]
     },
     "metadata": {},
     "output_type": "display_data"
    }
   ],
   "source": [
    "sns.boxplot(data=df, x='SalePrice')"
   ]
  },
  {
   "cell_type": "code",
   "execution_count": 9,
   "id": "c63a9543",
   "metadata": {
    "ExecuteTime": {
     "end_time": "2023-09-30T16:07:39.597071Z",
     "start_time": "2023-09-30T16:07:39.582920Z"
    }
   },
   "outputs": [
    {
     "ename": "SyntaxError",
     "evalue": "unterminated string literal (detected at line 1) (465633149.py, line 1)",
     "output_type": "error",
     "traceback": [
      "\u001b[0;36m  Cell \u001b[0;32mIn[9], line 1\u001b[0;36m\u001b[0m\n\u001b[0;31m    The columns you mentioned are part of the Ames Housing Dataset, which is often used for housing price prediction and regression analysis. Here's the full meaning of each column:\u001b[0m\n\u001b[0m                                                                                                                                                  ^\u001b[0m\n\u001b[0;31mSyntaxError\u001b[0m\u001b[0;31m:\u001b[0m unterminated string literal (detected at line 1)\n"
     ]
    }
   ],
   "source": [
    "The columns you mentioned are part of the Ames Housing Dataset, which is often used for housing price prediction and regression analysis. Here's the full meaning of each column:\n",
    "\n",
    "1. `Order`: An identifier for each record, typically representing the order in which the data was collected or entered.\n",
    "\n",
    "2. `PID`: Parcel identification number, a unique identifier for each property.\n",
    "\n",
    "3. `MS SubClass`: The type of dwelling, represented as a numeric code.\n",
    "\n",
    "4. `MS Zoning`: The zoning classification of the property, indicating how it can be used (e.g., residential, commercial, industrial).\n",
    "\n",
    "5. `Lot Frontage`: Linear feet of street connected to the property.\n",
    "\n",
    "6. `Lot Area`: Lot size in square feet.\n",
    "\n",
    "7. `Street`: Type of road access to the property (e.g., paved or gravel).\n",
    "\n",
    "8. `Alley`: Type of alley access to the property (e.g., paved, gravel, no alley access).\n",
    "\n",
    "9. `Lot Shape`: General shape of the lot (e.g., regular, irregular).\n",
    "\n",
    "10. `Land Contour`: Flatness of the property (e.g., level, banked, hillside).\n",
    "\n",
    "11. `Utilities`: Type of utilities available (e.g., all public utilities, electricity only).\n",
    "\n",
    "12. `Lot Config`: Lot configuration (e.g., inside lot, corner lot).\n",
    "\n",
    "13. `Land Slope`: Slope of the property (e.g., gentle slope, moderate slope).\n",
    "\n",
    "14. `Neighborhood`: Physical locations within the city of Ames, Iowa.\n",
    "\n",
    "15. `Condition 1`: Proximity to various conditions (e.g., near a railroad, near park).\n",
    "\n",
    "16. `Condition 2`: Proximity to other conditions (if more than one is present).\n",
    "\n",
    "17. `Bldg Type`: Type of dwelling (e.g., single-family, townhouse).\n",
    "\n",
    "18. `House Style`: Style of the dwelling (e.g., ranch, two-story).\n",
    "\n",
    "19. `Overall Qual`: Overall material and finish quality of the house.\n",
    "\n",
    "20. `Overall Cond`: Overall condition rating of the house.\n",
    "\n",
    "21. `Year Built`: Year the house was originally built.\n",
    "\n",
    "22. `Year Remod/Add`: Year of the most recent remodeling or addition.\n",
    "\n",
    "23. `Roof Style`: Type of roof design.\n",
    "\n",
    "24. `Roof Matl`: Roof material.\n",
    "\n",
    "25. `Exterior 1st`: Exterior covering on the house.\n",
    "\n",
    "26. `Exterior 2nd`: Secondary exterior covering (if applicable).\n",
    "\n",
    "27. `Mas Vnr Type`: Masonry veneer type.\n",
    "\n",
    "28. `Mas Vnr Area`: Masonry veneer area in square feet.\n",
    "\n",
    "29. `Exter Qual`: Exterior material quality.\n",
    "\n",
    "30. `Exter Cond`: Exterior material condition.\n",
    "\n",
    "31. `Foundation`: Type of foundation.\n",
    "\n",
    "32. `Bsmt Qual`: Height of the basement.\n",
    "\n",
    "33. `Bsmt Cond`: General condition of the basement.\n",
    "\n",
    "34. `Bsmt Exposure`: Walkout or garden level basement walls exposure.\n",
    "\n",
    "35. `BsmtFin Type 1`: Quality of basement finished area.\n",
    "\n",
    "36. `BsmtFin SF 1`: Type 1 finished square feet.\n",
    "\n",
    "37. `BsmtFin Type 2`: Quality of the second finished area (if present).\n",
    "\n",
    "38. `BsmtFin SF 2`: Type 2 finished square feet.\n",
    "\n",
    "39. `Bsmt Unf SF`: Unfinished basement square feet.\n",
    "\n",
    "40. `Total Bsmt SF`: Total square feet of basement area.\n",
    "\n",
    "41. `Heating`: Type of heating.\n",
    "\n",
    "42. `Heating QC`: Heating quality and condition.\n",
    "\n",
    "43. `Central Air`: Central air conditioning.\n",
    "\n",
    "44. `Electrical`: Electrical system.\n",
    "\n",
    "45. `1st Flr SF`: First-floor square feet.\n",
    "\n",
    "46. `2nd Flr SF`: Second-floor square feet.\n",
    "\n",
    "47. `Low Qual Fin SF`: Low-quality finished square feet (e.g., low-quality basement finish).\n",
    "\n",
    "48. `Gr Liv Area`: Above-grade (ground) living area square feet.\n",
    "\n",
    "49. `Bsmt Full Bath`: Basement full bathrooms.\n",
    "\n",
    "50. `Bsmt Half Bath`: Basement half bathrooms.\n",
    "\n",
    "51. `Full Bath`: Full bathrooms above grade.\n",
    "\n",
    "52. `Half Bath`: Half bathrooms above grade.\n",
    "\n",
    "53. `Bedroom AbvGr`: Bedrooms above grade.\n",
    "\n",
    "54. `Kitchen AbvGr`: Kitchens above grade.\n",
    "\n",
    "55. `Kitchen Qual`: Kitchen quality.\n",
    "\n",
    "56. `TotRms AbvGrd`: Total rooms above grade (does not include bathrooms).\n",
    "\n",
    "57. `Functional`: Home functionality rating.\n",
    "\n",
    "58. `Fireplaces`: Number of fireplaces.\n",
    "\n",
    "59. `Fireplace Qu`: Fireplace quality.\n",
    "\n",
    "60. `Garage Type`: Garage location and type.\n",
    "\n",
    "61. `Garage Yr Blt`: Year garage was built.\n",
    "\n",
    "62. `Garage Finish`: Interior finish of the garage.\n",
    "\n",
    "63. `Garage Cars`: Size of garage in car capacity.\n",
    "\n",
    "64. `Garage Area`: Size of garage in square feet.\n",
    "\n",
    "65. `Garage Qual`: Garage quality.\n",
    "\n",
    "66. `Garage Cond`: Garage condition.\n",
    "\n",
    "67. `Paved Drive`: Paved driveway.\n",
    "\n",
    "68. `Wood Deck SF`: Wood deck area in square feet.\n",
    "\n",
    "69. `Open Porch SF`: Open porch area in square feet.\n",
    "\n",
    "70. `Enclosed Porch`: Enclosed porch area in square feet.\n",
    "\n",
    "71. `3Ssn Porch`: Three-season porch area in square feet.\n",
    "\n",
    "72. `Screen Porch`: Screen porch area in square feet.\n",
    "\n",
    "73. `Pool Area`: Pool area in square feet.\n",
    "\n",
    "74. `Pool QC`: Pool quality.\n",
    "\n",
    "75. `Fence`: Fence quality.\n",
    "\n",
    "76. `Misc Feature`: Miscellaneous feature not covered in other categories.\n",
    "\n",
    "77. `Misc Val`: Value of miscellaneous feature.\n",
    "\n",
    "78. `Mo Sold`: Month Sold.\n",
    "\n",
    "79. `Yr Sold`: Year Sold.\n",
    "\n",
    "80. `Sale Type`: Type of sale.\n",
    "\n",
    "81. `Sale Condition`: Condition of sale (e.g., normal, abnormal).\n",
    "\n",
    "These columns provide detailed information about various aspects of the properties in the dataset, and they can be used to analyze and predict housing prices."
   ]
  },
  {
   "cell_type": "code",
   "execution_count": null,
   "id": "0edec32e",
   "metadata": {
    "ExecuteTime": {
     "end_time": "2023-09-30T16:07:39.628286Z",
     "start_time": "2023-09-30T16:07:39.628275Z"
    }
   },
   "outputs": [],
   "source": [
    "# distribution of saleprice\n",
    "sns.kdeplot(df['SalePrice'])"
   ]
  },
  {
   "cell_type": "code",
   "execution_count": null,
   "id": "42a8fedf",
   "metadata": {
    "ExecuteTime": {
     "end_time": "2023-09-30T16:07:39.630203Z",
     "start_time": "2023-09-30T16:07:39.630193Z"
    }
   },
   "outputs": [],
   "source": [
    "sns.heatmap(df.corr())"
   ]
  },
  {
   "cell_type": "code",
   "execution_count": null,
   "id": "86fff66c",
   "metadata": {
    "ExecuteTime": {
     "end_time": "2023-09-30T16:07:39.631653Z",
     "start_time": "2023-09-30T16:07:39.631644Z"
    }
   },
   "outputs": [],
   "source": [
    "df_num = df.select_dtypes(include='number')"
   ]
  },
  {
   "cell_type": "code",
   "execution_count": null,
   "id": "50cef4ae",
   "metadata": {
    "ExecuteTime": {
     "end_time": "2023-09-30T16:07:39.633394Z",
     "start_time": "2023-09-30T16:07:39.633380Z"
    }
   },
   "outputs": [],
   "source": [
    "df.corr()['SalePrice'].sort_values()"
   ]
  },
  {
   "cell_type": "markdown",
   "id": "90516e1a",
   "metadata": {},
   "source": [
    "# Data cleaning"
   ]
  },
  {
   "cell_type": "code",
   "execution_count": null,
   "id": "a8b076c7",
   "metadata": {
    "ExecuteTime": {
     "end_time": "2023-09-30T16:07:39.634514Z",
     "start_time": "2023-09-30T16:07:39.634505Z"
    }
   },
   "outputs": [],
   "source": [
    "# Outlier detection"
   ]
  },
  {
   "cell_type": "code",
   "execution_count": null,
   "id": "67745fb4",
   "metadata": {
    "ExecuteTime": {
     "end_time": "2023-09-30T16:07:39.635915Z",
     "start_time": "2023-09-30T16:07:39.635906Z"
    }
   },
   "outputs": [],
   "source": [
    "# overall quality is highly correlated with the target variable\n",
    "sns.scatterplot(data=df, x='Overall Qual', y='SalePrice')"
   ]
  },
  {
   "cell_type": "code",
   "execution_count": null,
   "id": "cb260fec",
   "metadata": {
    "ExecuteTime": {
     "end_time": "2023-09-30T16:07:39.638252Z",
     "start_time": "2023-09-30T16:07:39.638238Z"
    }
   },
   "outputs": [],
   "source": [
    "sns.scatterplot(data=df, x='Gr Liv Area', y='SalePrice') # we can spot three data points that are deviating in the plot"
   ]
  },
  {
   "cell_type": "code",
   "execution_count": null,
   "id": "f0be215b",
   "metadata": {
    "ExecuteTime": {
     "end_time": "2023-09-30T16:07:39.639579Z",
     "start_time": "2023-09-30T16:07:39.639570Z"
    }
   },
   "outputs": [],
   "source": [
    "# we remove the outliers from our DataFrame\n",
    "df2 = df[~(df['Gr Liv Area']>= 4000) & (df['SalePrice']<=300000)]"
   ]
  },
  {
   "cell_type": "code",
   "execution_count": null,
   "id": "321d8574",
   "metadata": {
    "ExecuteTime": {
     "end_time": "2023-09-30T16:07:39.640549Z",
     "start_time": "2023-09-30T16:07:39.640540Z"
    }
   },
   "outputs": [],
   "source": [
    "df2.shape"
   ]
  },
  {
   "cell_type": "code",
   "execution_count": null,
   "id": "ee2221c1",
   "metadata": {
    "ExecuteTime": {
     "end_time": "2023-09-30T16:07:39.641717Z",
     "start_time": "2023-09-30T16:07:39.641709Z"
    }
   },
   "outputs": [],
   "source": [
    "sns.scatterplot(data=df2, x= 'Gr Liv Area', y='SalePrice')"
   ]
  },
  {
   "cell_type": "code",
   "execution_count": null,
   "id": "b19f1400",
   "metadata": {
    "ExecuteTime": {
     "end_time": "2023-09-30T16:07:39.642523Z",
     "start_time": "2023-09-30T16:07:39.642515Z"
    }
   },
   "outputs": [],
   "source": [
    "df2[['Order','PID']]"
   ]
  },
  {
   "cell_type": "code",
   "execution_count": null,
   "id": "7e496cdc",
   "metadata": {
    "ExecuteTime": {
     "end_time": "2023-09-30T16:07:39.644788Z",
     "start_time": "2023-09-30T16:07:39.644777Z"
    }
   },
   "outputs": [],
   "source": [
    "# we drop the 'Order' and 'PID' columns\n",
    "df3 = df2.drop(columns=['Order','PID'], axis=1)"
   ]
  },
  {
   "cell_type": "code",
   "execution_count": null,
   "id": "58169be1",
   "metadata": {
    "ExecuteTime": {
     "end_time": "2023-09-30T16:07:39.646998Z",
     "start_time": "2023-09-30T16:07:39.646969Z"
    }
   },
   "outputs": [],
   "source": [
    "df3.shape"
   ]
  },
  {
   "cell_type": "code",
   "execution_count": null,
   "id": "73c1fb81",
   "metadata": {
    "ExecuteTime": {
     "end_time": "2023-09-30T16:07:39.648370Z",
     "start_time": "2023-09-30T16:07:39.648360Z"
    }
   },
   "outputs": [],
   "source": [
    "df3.isnull().mean().mul(100)"
   ]
  },
  {
   "cell_type": "code",
   "execution_count": null,
   "id": "747bfbee",
   "metadata": {
    "ExecuteTime": {
     "end_time": "2023-09-30T16:07:39.649693Z",
     "start_time": "2023-09-30T16:07:39.649684Z"
    }
   },
   "outputs": [],
   "source": [
    "def percent_missing(df):\n",
    "    '''returns the percentage of missing values in each column of a dataframe'''\n",
    "    percent_nan = df.isnull().mean().mul(100)\n",
    "    percent_nan = percent_nan[percent_nan > 0].sort_values()\n",
    "    return percent_nan"
   ]
  },
  {
   "cell_type": "code",
   "execution_count": null,
   "id": "e46b253a",
   "metadata": {
    "ExecuteTime": {
     "end_time": "2023-09-30T16:07:39.650742Z",
     "start_time": "2023-09-30T16:07:39.650724Z"
    }
   },
   "outputs": [],
   "source": [
    "percent_nan = percent_missing(df3)"
   ]
  },
  {
   "cell_type": "code",
   "execution_count": null,
   "id": "5b87ab61",
   "metadata": {
    "ExecuteTime": {
     "end_time": "2023-09-30T16:07:39.652204Z",
     "start_time": "2023-09-30T16:07:39.652195Z"
    }
   },
   "outputs": [],
   "source": [
    "percent_nan"
   ]
  },
  {
   "cell_type": "code",
   "execution_count": null,
   "id": "b7931230",
   "metadata": {
    "ExecuteTime": {
     "end_time": "2023-09-30T16:07:39.653471Z",
     "start_time": "2023-09-30T16:07:39.653462Z"
    }
   },
   "outputs": [],
   "source": [
    "sns.barplot(x=percent_nan, y=percent_nan.index)"
   ]
  },
  {
   "cell_type": "code",
   "execution_count": null,
   "id": "fbd8739e",
   "metadata": {
    "ExecuteTime": {
     "end_time": "2023-09-30T16:07:39.656559Z",
     "start_time": "2023-09-30T16:07:39.656548Z"
    }
   },
   "outputs": [],
   "source": [
    "percent_nan[percent_nan<1]"
   ]
  },
  {
   "cell_type": "code",
   "execution_count": null,
   "id": "9623bc32",
   "metadata": {
    "ExecuteTime": {
     "end_time": "2023-09-30T16:07:39.658636Z",
     "start_time": "2023-09-30T16:07:39.658609Z"
    }
   },
   "outputs": [],
   "source": [
    "df4 = df3.dropna(axis=0,subset=['Electrical','Garage Area'])"
   ]
  },
  {
   "cell_type": "code",
   "execution_count": null,
   "id": "293f310b",
   "metadata": {
    "ExecuteTime": {
     "end_time": "2023-09-30T16:07:39.659846Z",
     "start_time": "2023-09-30T16:07:39.659837Z"
    }
   },
   "outputs": [],
   "source": [
    "df4.shape"
   ]
  },
  {
   "cell_type": "code",
   "execution_count": null,
   "id": "7a73c989",
   "metadata": {
    "ExecuteTime": {
     "end_time": "2023-09-30T16:07:39.661170Z",
     "start_time": "2023-09-30T16:07:39.661162Z"
    }
   },
   "outputs": [],
   "source": [
    "num_basement_cols = ['BsmtFin SF 1', 'BsmtFin SF 2', 'Bsmt Unf SF','Total Bsmt SF', 'Bsmt Full Bath', 'Bsmt Half Bath']\n",
    "df5 = df4.copy()\n",
    "df5[num_basement_cols] = df5[num_basement_cols].fillna(0)"
   ]
  },
  {
   "cell_type": "code",
   "execution_count": null,
   "id": "62cd2f4f",
   "metadata": {
    "ExecuteTime": {
     "end_time": "2023-09-30T16:07:39.662307Z",
     "start_time": "2023-09-30T16:07:39.662299Z"
    }
   },
   "outputs": [],
   "source": [
    "str_basement_cols = ['Bsmt Qual', 'Bsmt Cond', 'Bsmt Exposure', 'BsmtFin Type 1', 'BsmtFin Type 2']\n",
    "df5[str_basement_cols]= df5[str_basement_cols].fillna('None')"
   ]
  },
  {
   "cell_type": "code",
   "execution_count": null,
   "id": "ea3c7c4c",
   "metadata": {
    "ExecuteTime": {
     "end_time": "2023-09-30T16:07:39.663160Z",
     "start_time": "2023-09-30T16:07:39.663151Z"
    }
   },
   "outputs": [],
   "source": [
    "percent_nan = percent_missing(df5)"
   ]
  },
  {
   "cell_type": "code",
   "execution_count": null,
   "id": "7bc85586",
   "metadata": {
    "ExecuteTime": {
     "end_time": "2023-09-30T16:07:39.663889Z",
     "start_time": "2023-09-30T16:07:39.663880Z"
    }
   },
   "outputs": [],
   "source": [
    "percent_nan"
   ]
  },
  {
   "cell_type": "code",
   "execution_count": null,
   "id": "13098edd",
   "metadata": {
    "ExecuteTime": {
     "end_time": "2023-09-30T16:07:39.664872Z",
     "start_time": "2023-09-30T16:07:39.664864Z"
    }
   },
   "outputs": [],
   "source": [
    "percent_nan[percent_nan<1]"
   ]
  },
  {
   "cell_type": "code",
   "execution_count": null,
   "id": "11da81c3",
   "metadata": {
    "ExecuteTime": {
     "end_time": "2023-09-30T16:07:39.665950Z",
     "start_time": "2023-09-30T16:07:39.665942Z"
    }
   },
   "outputs": [],
   "source": [
    "df5['Mas Vnr Type'].unique()"
   ]
  },
  {
   "cell_type": "code",
   "execution_count": null,
   "id": "3bd59182",
   "metadata": {
    "ExecuteTime": {
     "end_time": "2023-09-30T16:07:39.667473Z",
     "start_time": "2023-09-30T16:07:39.667463Z"
    }
   },
   "outputs": [],
   "source": [
    "df5['Mas Vnr Type'] = df5['Mas Vnr Type'].fillna('None')\n",
    "df5['Mas Vnr Area'] = df5['Mas Vnr Area'].fillna(0)"
   ]
  },
  {
   "cell_type": "code",
   "execution_count": null,
   "id": "29a2f266",
   "metadata": {
    "ExecuteTime": {
     "end_time": "2023-09-30T16:07:39.668621Z",
     "start_time": "2023-09-30T16:07:39.668612Z"
    }
   },
   "outputs": [],
   "source": [
    "percent_nan = percent_missing(df5)\n",
    "percent_nan"
   ]
  },
  {
   "cell_type": "code",
   "execution_count": null,
   "id": "40bd79dd",
   "metadata": {
    "ExecuteTime": {
     "end_time": "2023-09-30T16:07:39.670025Z",
     "start_time": "2023-09-30T16:07:39.670014Z"
    }
   },
   "outputs": [],
   "source": [
    "df5['Garage Type'].unique()"
   ]
  },
  {
   "cell_type": "code",
   "execution_count": null,
   "id": "612d658b",
   "metadata": {
    "ExecuteTime": {
     "end_time": "2023-09-30T16:07:39.671089Z",
     "start_time": "2023-09-30T16:07:39.671068Z"
    }
   },
   "outputs": [],
   "source": [
    "df5['Garage Yr Blt'].unique()"
   ]
  },
  {
   "cell_type": "code",
   "execution_count": null,
   "id": "49b28ab3",
   "metadata": {
    "ExecuteTime": {
     "end_time": "2023-09-30T16:07:39.672370Z",
     "start_time": "2023-09-30T16:07:39.672361Z"
    }
   },
   "outputs": [],
   "source": [
    "df5['Garage Finish'].unique()"
   ]
  },
  {
   "cell_type": "code",
   "execution_count": null,
   "id": "2826cb91",
   "metadata": {
    "ExecuteTime": {
     "end_time": "2023-09-30T16:07:39.673849Z",
     "start_time": "2023-09-30T16:07:39.673829Z"
    }
   },
   "outputs": [],
   "source": [
    "df5['Garage Qual'].unique()"
   ]
  },
  {
   "cell_type": "code",
   "execution_count": null,
   "id": "5a5f72e9",
   "metadata": {
    "ExecuteTime": {
     "end_time": "2023-09-30T16:07:39.676014Z",
     "start_time": "2023-09-30T16:07:39.676005Z"
    }
   },
   "outputs": [],
   "source": [
    "df5['Garage Cond'].unique()"
   ]
  },
  {
   "cell_type": "code",
   "execution_count": null,
   "id": "2331571b",
   "metadata": {
    "ExecuteTime": {
     "end_time": "2023-09-30T16:07:39.678302Z",
     "start_time": "2023-09-30T16:07:39.678290Z"
    }
   },
   "outputs": [],
   "source": [
    "garage_str =['Garage Type','Garage Finish', 'Garage Qual', 'Garage Cond']\n",
    "df6 = df5.copy()\n",
    "df6[garage_str] = df6[garage_str].fillna('None')"
   ]
  },
  {
   "cell_type": "code",
   "execution_count": null,
   "id": "0f5e93f6",
   "metadata": {
    "ExecuteTime": {
     "end_time": "2023-09-30T16:07:39.679534Z",
     "start_time": "2023-09-30T16:07:39.679526Z"
    }
   },
   "outputs": [],
   "source": [
    "df6['Garage Yr Blt'] = df6['Garage Yr Blt'].fillna(0)"
   ]
  },
  {
   "cell_type": "code",
   "execution_count": null,
   "id": "fff4a34c",
   "metadata": {
    "ExecuteTime": {
     "end_time": "2023-09-30T16:07:39.681045Z",
     "start_time": "2023-09-30T16:07:39.681026Z"
    }
   },
   "outputs": [],
   "source": [
    "percent_nan = percent_missing(df6)"
   ]
  },
  {
   "cell_type": "code",
   "execution_count": null,
   "id": "a385c56a",
   "metadata": {
    "ExecuteTime": {
     "end_time": "2023-09-30T16:07:39.681887Z",
     "start_time": "2023-09-30T16:07:39.681878Z"
    }
   },
   "outputs": [],
   "source": [
    "percent_nan"
   ]
  },
  {
   "cell_type": "code",
   "execution_count": null,
   "id": "c1a0d06a",
   "metadata": {
    "ExecuteTime": {
     "end_time": "2023-09-30T16:07:39.683442Z",
     "start_time": "2023-09-30T16:07:39.683433Z"
    }
   },
   "outputs": [],
   "source": [
    "# 'Fence', 'Alley', 'Misc Feature' and 'Pool QC' has over 70% of it missing, it will be better to drop it\n",
    "df7 = df6.copy()\n",
    "df7 = df7.drop(columns=['Fence','Alley','Misc Feature','Pool QC'], axis=1)"
   ]
  },
  {
   "cell_type": "code",
   "execution_count": null,
   "id": "c74ef449",
   "metadata": {
    "ExecuteTime": {
     "end_time": "2023-09-30T16:07:39.684874Z",
     "start_time": "2023-09-30T16:07:39.684861Z"
    }
   },
   "outputs": [],
   "source": [
    "percent_nan = percent_missing(df7)"
   ]
  },
  {
   "cell_type": "code",
   "execution_count": null,
   "id": "24dd0189",
   "metadata": {
    "ExecuteTime": {
     "end_time": "2023-09-30T16:07:39.685936Z",
     "start_time": "2023-09-30T16:07:39.685926Z"
    }
   },
   "outputs": [],
   "source": [
    "percent_nan"
   ]
  },
  {
   "cell_type": "code",
   "execution_count": null,
   "id": "df02ba1e",
   "metadata": {
    "ExecuteTime": {
     "end_time": "2023-09-30T16:07:39.687068Z",
     "start_time": "2023-09-30T16:07:39.687060Z"
    }
   },
   "outputs": [],
   "source": [
    "df7['Fireplace Qu'].unique()"
   ]
  },
  {
   "cell_type": "code",
   "execution_count": null,
   "id": "0821905b",
   "metadata": {
    "ExecuteTime": {
     "end_time": "2023-09-30T16:07:39.688191Z",
     "start_time": "2023-09-30T16:07:39.688181Z"
    }
   },
   "outputs": [],
   "source": [
    "# seems some houses do not have a fireplace\n",
    "df8 = df7.copy()\n",
    "df8['Fireplace Qu'] = df8['Fireplace Qu'].fillna('None')"
   ]
  },
  {
   "cell_type": "code",
   "execution_count": null,
   "id": "e0f2b917",
   "metadata": {
    "ExecuteTime": {
     "end_time": "2023-09-30T16:07:39.689559Z",
     "start_time": "2023-09-30T16:07:39.689550Z"
    }
   },
   "outputs": [],
   "source": [
    "percent_nan = percent_missing(df8)"
   ]
  },
  {
   "cell_type": "code",
   "execution_count": null,
   "id": "75daf86b",
   "metadata": {
    "ExecuteTime": {
     "end_time": "2023-09-30T16:07:39.691248Z",
     "start_time": "2023-09-30T16:07:39.691238Z"
    }
   },
   "outputs": [],
   "source": [
    "percent_nan"
   ]
  },
  {
   "cell_type": "code",
   "execution_count": null,
   "id": "c528afdf",
   "metadata": {
    "ExecuteTime": {
     "end_time": "2023-09-30T16:07:39.692117Z",
     "start_time": "2023-09-30T16:07:39.692108Z"
    }
   },
   "outputs": [],
   "source": [
    "df8.columns"
   ]
  },
  {
   "cell_type": "code",
   "execution_count": null,
   "id": "7b02c0aa",
   "metadata": {
    "ExecuteTime": {
     "end_time": "2023-09-30T16:07:39.693196Z",
     "start_time": "2023-09-30T16:07:39.693188Z"
    }
   },
   "outputs": [],
   "source": [
    "df8['Lot Frontage'] = df8.groupby('Neighborhood')['Lot Frontage'].transform(lambda value: value.fillna(value.mean()))"
   ]
  },
  {
   "cell_type": "code",
   "execution_count": null,
   "id": "067c62a2",
   "metadata": {
    "ExecuteTime": {
     "end_time": "2023-09-30T16:07:39.694701Z",
     "start_time": "2023-09-30T16:07:39.694692Z"
    }
   },
   "outputs": [],
   "source": [
    "percent_nan = percent_missing(df8)\n",
    "percent_nan"
   ]
  },
  {
   "cell_type": "code",
   "execution_count": null,
   "id": "2ab086d3",
   "metadata": {
    "ExecuteTime": {
     "end_time": "2023-09-30T16:07:39.695640Z",
     "start_time": "2023-09-30T16:07:39.695632Z"
    }
   },
   "outputs": [],
   "source": [
    "df8['Lot Frontage'] = df8['Lot Frontage'].fillna(0)"
   ]
  },
  {
   "cell_type": "code",
   "execution_count": null,
   "id": "80aeec4b",
   "metadata": {
    "ExecuteTime": {
     "end_time": "2023-09-30T16:07:39.696810Z",
     "start_time": "2023-09-30T16:07:39.696802Z"
    }
   },
   "outputs": [],
   "source": [
    "X = df8.copy()\n",
    "y = X.pop(\"SalePrice\")\n",
    "\n",
    "# Label encoding for categoricals\n",
    "for colname in X.select_dtypes(\"object\"):\n",
    "    X[colname], _ = X[colname].factorize()"
   ]
  },
  {
   "cell_type": "code",
   "execution_count": null,
   "id": "05ce152d",
   "metadata": {
    "ExecuteTime": {
     "end_time": "2023-09-30T16:07:39.697927Z",
     "start_time": "2023-09-30T16:07:39.697918Z"
    }
   },
   "outputs": [],
   "source": [
    "from sklearn.feature_selection import mutual_info_regression\n",
    "\n",
    "def make_mi_scores(X, y):\n",
    "    mi_scores = mutual_info_regression(X, y)\n",
    "    mi_scores = pd.Series(mi_scores, name=\"MI Scores\", index=X.columns)\n",
    "    mi_scores = mi_scores.sort_values(ascending=False)\n",
    "    return mi_scores\n",
    "\n",
    "mi_scores = make_mi_scores(X, y)\n",
    "mi_scores[::3]  # show a few features with their MI scores"
   ]
  },
  {
   "cell_type": "code",
   "execution_count": null,
   "id": "a3f5d679",
   "metadata": {
    "ExecuteTime": {
     "end_time": "2023-09-30T16:07:39.698768Z",
     "start_time": "2023-09-30T16:07:39.698761Z"
    }
   },
   "outputs": [],
   "source": [
    "mi_scores.tail(41)"
   ]
  },
  {
   "cell_type": "code",
   "execution_count": null,
   "id": "6b65c6e4",
   "metadata": {
    "ExecuteTime": {
     "end_time": "2023-09-30T16:07:39.699510Z",
     "start_time": "2023-09-30T16:07:39.699503Z"
    }
   },
   "outputs": [],
   "source": [
    "X.head()"
   ]
  },
  {
   "cell_type": "code",
   "execution_count": null,
   "id": "791dbcd2",
   "metadata": {
    "ExecuteTime": {
     "end_time": "2023-09-30T16:07:39.700202Z",
     "start_time": "2023-09-30T16:07:39.700193Z"
    }
   },
   "outputs": [],
   "source": [
    "# dropping featues with mutual_info less than 1"
   ]
  },
  {
   "cell_type": "code",
   "execution_count": null,
   "id": "ec4bad2f",
   "metadata": {
    "ExecuteTime": {
     "end_time": "2023-09-30T16:07:39.701521Z",
     "start_time": "2023-09-30T16:07:39.701512Z"
    }
   },
   "outputs": [],
   "source": [
    "X = X.drop(columns = ['Garage Cond','Garage Qual','Wood Deck SF','Central Air','Mas Vnr Type','House Style','Lot Shape',\n",
    "'Paved Drive','Sale Type','Bsmt Exposure','Half Bath','Enclosed Porch','Bsmt Cond','Electrical','Sale Condition','Bedroom AbvGr',\n",
    "'Bldg Type','Condition 1','Yr Sold','BsmtFin Type 2','Lot Config','Bsmt Full Bath','Exter Cond','Screen Porch','BsmtFin SF 2','Heating',\n",
    "'Misc Val','Roof Matl','Land Contour','Functional','Kitchen AbvGr','Street','Utilities','Land Slope','Low Qual Fin SF',\n",
    "'Pool Area','Condition 2','Bsmt Half Bath','Roof Style','3Ssn Porch','Mo Sold'], axis=1)"
   ]
  },
  {
   "cell_type": "code",
   "execution_count": null,
   "id": "48920c11",
   "metadata": {
    "ExecuteTime": {
     "end_time": "2023-09-30T16:07:39.703621Z",
     "start_time": "2023-09-30T16:07:39.703612Z"
    }
   },
   "outputs": [],
   "source": [
    "mi_scores.head()"
   ]
  },
  {
   "cell_type": "code",
   "execution_count": null,
   "id": "43037efd",
   "metadata": {
    "ExecuteTime": {
     "end_time": "2023-09-30T16:07:39.706028Z",
     "start_time": "2023-09-30T16:07:39.706014Z"
    }
   },
   "outputs": [],
   "source": [
    "X.shape"
   ]
  },
  {
   "cell_type": "code",
   "execution_count": null,
   "id": "98ec89cb",
   "metadata": {
    "ExecuteTime": {
     "end_time": "2023-09-30T16:07:39.707194Z",
     "start_time": "2023-09-30T16:07:39.707185Z"
    }
   },
   "outputs": [],
   "source": [
    "features = ['Neighborhood','Overall Qual','Gr Liv Area','Year Built','Garage Area']\n",
    "X = df8[features]"
   ]
  },
  {
   "cell_type": "code",
   "execution_count": null,
   "id": "bcbafadf",
   "metadata": {
    "ExecuteTime": {
     "end_time": "2023-09-30T16:07:39.708605Z",
     "start_time": "2023-09-30T16:07:39.708596Z"
    }
   },
   "outputs": [],
   "source": [
    "X.head()"
   ]
  },
  {
   "cell_type": "code",
   "execution_count": null,
   "id": "ad8c3ae3",
   "metadata": {
    "ExecuteTime": {
     "end_time": "2023-09-30T16:07:39.709460Z",
     "start_time": "2023-09-30T16:07:39.709451Z"
    }
   },
   "outputs": [],
   "source": [
    "X['Neighborhood'].unique()"
   ]
  },
  {
   "cell_type": "code",
   "execution_count": null,
   "id": "ab220a0e",
   "metadata": {
    "ExecuteTime": {
     "end_time": "2023-09-30T16:07:39.710331Z",
     "start_time": "2023-09-30T16:07:39.710322Z"
    }
   },
   "outputs": [],
   "source": [
    "X_str = X.select_dtypes(include='object')"
   ]
  },
  {
   "cell_type": "code",
   "execution_count": null,
   "id": "1f0f01c1",
   "metadata": {
    "ExecuteTime": {
     "end_time": "2023-09-30T16:07:39.711392Z",
     "start_time": "2023-09-30T16:07:39.711384Z"
    }
   },
   "outputs": [],
   "source": [
    "X_num = X.select_dtypes(include='number')"
   ]
  },
  {
   "cell_type": "code",
   "execution_count": null,
   "id": "a4b51528",
   "metadata": {
    "ExecuteTime": {
     "end_time": "2023-09-30T16:07:39.712366Z",
     "start_time": "2023-09-30T16:07:39.712357Z"
    }
   },
   "outputs": [],
   "source": [
    "dummy_feature = pd.get_dummies(X_str, drop_first=True)"
   ]
  },
  {
   "cell_type": "code",
   "execution_count": null,
   "id": "8d6f9cfb",
   "metadata": {
    "ExecuteTime": {
     "end_time": "2023-09-30T16:07:39.713097Z",
     "start_time": "2023-09-30T16:07:39.713089Z"
    },
    "scrolled": true
   },
   "outputs": [],
   "source": [
    "dummy_feature"
   ]
  },
  {
   "cell_type": "code",
   "execution_count": null,
   "id": "9a7fdf01",
   "metadata": {
    "ExecuteTime": {
     "end_time": "2023-09-30T16:07:39.713990Z",
     "start_time": "2023-09-30T16:07:39.713981Z"
    }
   },
   "outputs": [],
   "source": [
    "dummy_feature.shape"
   ]
  },
  {
   "cell_type": "code",
   "execution_count": null,
   "id": "326050a5",
   "metadata": {
    "ExecuteTime": {
     "end_time": "2023-09-30T16:07:39.715130Z",
     "start_time": "2023-09-30T16:07:39.715122Z"
    }
   },
   "outputs": [],
   "source": [
    "X_final = pd.concat([X_num, dummy_feature], axis=1)"
   ]
  },
  {
   "cell_type": "code",
   "execution_count": null,
   "id": "7367b1af",
   "metadata": {
    "ExecuteTime": {
     "end_time": "2023-09-30T16:07:39.716277Z",
     "start_time": "2023-09-30T16:07:39.716268Z"
    }
   },
   "outputs": [],
   "source": [
    "X_final.head()"
   ]
  },
  {
   "cell_type": "code",
   "execution_count": null,
   "id": "0b7659d7",
   "metadata": {
    "ExecuteTime": {
     "end_time": "2023-09-30T16:07:39.717100Z",
     "start_time": "2023-09-30T16:07:39.717091Z"
    }
   },
   "outputs": [],
   "source": [
    "X_final.shape"
   ]
  },
  {
   "cell_type": "code",
   "execution_count": null,
   "id": "aff8d03d",
   "metadata": {
    "ExecuteTime": {
     "end_time": "2023-09-30T16:07:39.717879Z",
     "start_time": "2023-09-30T16:07:39.717870Z"
    }
   },
   "outputs": [],
   "source": [
    "y.shape"
   ]
  },
  {
   "cell_type": "markdown",
   "id": "3e74e590",
   "metadata": {},
   "source": [
    "#  linear model"
   ]
  },
  {
   "cell_type": "code",
   "execution_count": null,
   "id": "98e6ea06",
   "metadata": {
    "ExecuteTime": {
     "end_time": "2023-09-30T16:07:39.718651Z",
     "start_time": "2023-09-30T16:07:39.718640Z"
    }
   },
   "outputs": [],
   "source": [
    "from sklearn.model_selection import train_test_split"
   ]
  },
  {
   "cell_type": "code",
   "execution_count": null,
   "id": "d62971f7",
   "metadata": {
    "ExecuteTime": {
     "end_time": "2023-09-30T16:07:39.719334Z",
     "start_time": "2023-09-30T16:07:39.719326Z"
    }
   },
   "outputs": [],
   "source": [
    "from sklearn.ensemble import RandomForestRegressor"
   ]
  },
  {
   "cell_type": "code",
   "execution_count": null,
   "id": "2b247483",
   "metadata": {
    "ExecuteTime": {
     "end_time": "2023-09-30T16:07:39.720245Z",
     "start_time": "2023-09-30T16:07:39.720237Z"
    }
   },
   "outputs": [],
   "source": [
    "model = RandomForestRegressor(random_state =1)"
   ]
  },
  {
   "cell_type": "code",
   "execution_count": null,
   "id": "7cddee1e",
   "metadata": {
    "ExecuteTime": {
     "end_time": "2023-09-30T16:07:39.720910Z",
     "start_time": "2023-09-30T16:07:39.720903Z"
    }
   },
   "outputs": [],
   "source": [
    "X_train,X_test,y_train,y_test = train_test_split(X_final,y,train_size=0.7,test_size=0.3,random_state=1)"
   ]
  },
  {
   "cell_type": "code",
   "execution_count": null,
   "id": "163b6496",
   "metadata": {
    "ExecuteTime": {
     "end_time": "2023-09-30T16:07:39.722023Z",
     "start_time": "2023-09-30T16:07:39.722015Z"
    }
   },
   "outputs": [],
   "source": [
    "model.fit(X_train,y_train)"
   ]
  },
  {
   "cell_type": "code",
   "execution_count": null,
   "id": "4666c164",
   "metadata": {
    "ExecuteTime": {
     "end_time": "2023-09-30T16:07:39.722845Z",
     "start_time": "2023-09-30T16:07:39.722837Z"
    }
   },
   "outputs": [],
   "source": [
    "from sklearn.metrics import mean_absolute_error"
   ]
  },
  {
   "cell_type": "code",
   "execution_count": null,
   "id": "9c8dda26",
   "metadata": {
    "ExecuteTime": {
     "end_time": "2023-09-30T16:07:39.723593Z",
     "start_time": "2023-09-30T16:07:39.723585Z"
    }
   },
   "outputs": [],
   "source": [
    "train_preds = model.predict(X_train)"
   ]
  },
  {
   "cell_type": "code",
   "execution_count": null,
   "id": "88e2b1da",
   "metadata": {
    "ExecuteTime": {
     "end_time": "2023-09-30T16:07:39.724482Z",
     "start_time": "2023-09-30T16:07:39.724473Z"
    }
   },
   "outputs": [],
   "source": [
    "print(mean_absolute_error(y_train, train_preds))"
   ]
  },
  {
   "cell_type": "code",
   "execution_count": null,
   "id": "c09e5ea7",
   "metadata": {
    "ExecuteTime": {
     "end_time": "2023-09-30T16:07:39.725426Z",
     "start_time": "2023-09-30T16:07:39.725418Z"
    }
   },
   "outputs": [],
   "source": [
    "test_preds = model.predict(X_test)"
   ]
  },
  {
   "cell_type": "code",
   "execution_count": null,
   "id": "2f37e9aa",
   "metadata": {
    "ExecuteTime": {
     "end_time": "2023-09-30T16:07:39.726121Z",
     "start_time": "2023-09-30T16:07:39.726112Z"
    }
   },
   "outputs": [],
   "source": [
    "print('MAE:', mean_absolute_error(y_test,test_preds))"
   ]
  },
  {
   "cell_type": "code",
   "execution_count": null,
   "id": "bbd276c2",
   "metadata": {
    "ExecuteTime": {
     "end_time": "2023-09-30T16:07:39.726954Z",
     "start_time": "2023-09-30T16:07:39.726946Z"
    }
   },
   "outputs": [],
   "source": [
    "# the mean absolute error of the model prediction on our train data which was used for modelling is smaller(5,031) compared to\n",
    "# the mean absolute error on test data (13,661), this implies that the model is overfitting because it performs better on the\n",
    "# train data than test data. However we can reduce overfitting by tuning some parameters to bulild a better model"
   ]
  },
  {
   "cell_type": "code",
   "execution_count": null,
   "id": "55d797b3",
   "metadata": {
    "ExecuteTime": {
     "end_time": "2023-09-30T16:07:39.728163Z",
     "start_time": "2023-09-30T16:07:39.728152Z"
    }
   },
   "outputs": [],
   "source": [
    "X_final.columns"
   ]
  },
  {
   "cell_type": "code",
   "execution_count": null,
   "id": "f9ec5d41",
   "metadata": {
    "ExecuteTime": {
     "end_time": "2023-09-30T16:07:39.728822Z",
     "start_time": "2023-09-30T16:07:39.728814Z"
    }
   },
   "outputs": [],
   "source": [
    "def predict_SalePrice(Neighborhood,Overall_Qual,Gr_Liv_Area,Year_Built,Garage_Area):\n",
    "    loc_index = np.where(X_final.columns == Neighborhood)[0]\n",
    "    \n",
    "    if len(loc_index) > 0:\n",
    "        loc_index = loc_index[0]\n",
    "    else:\n",
    "        loc_index = -1\n",
    "    \n",
    "    x = np.zeros(len(X_final.columns))\n",
    "    x[0] = Overall_Qual\n",
    "    x[1] = Gr_Liv_Area\n",
    "    x[2] = Year_Built\n",
    "    x[3] = Garage_Area\n",
    "    \n",
    "    if loc_index >= 0:\n",
    "        x[loc_index] = 1\n",
    "        \n",
    "    return model.predict([X_final])[0]\n",
    "\n",
    "predict_SalePrice('Neighborhood_StoneBr',6,1656,1960,528)"
   ]
  },
  {
   "cell_type": "code",
   "execution_count": null,
   "id": "6ee408dc",
   "metadata": {
    "ExecuteTime": {
     "end_time": "2023-09-30T16:07:39.729947Z",
     "start_time": "2023-09-30T16:07:39.729938Z"
    }
   },
   "outputs": [],
   "source": [
    "predict_SalePrice('Neighborhood_StoneBr',6,1656,1960,528)"
   ]
  },
  {
   "cell_type": "code",
   "execution_count": null,
   "id": "95429ef8",
   "metadata": {
    "ExecuteTime": {
     "end_time": "2023-09-30T16:07:39.730898Z",
     "start_time": "2023-09-30T16:07:39.730889Z"
    }
   },
   "outputs": [],
   "source": [
    "X_final.head()"
   ]
  },
  {
   "cell_type": "code",
   "execution_count": null,
   "id": "16e3d8b5",
   "metadata": {
    "ExecuteTime": {
     "end_time": "2023-09-30T16:07:39.731919Z",
     "start_time": "2023-09-30T16:07:39.731911Z"
    }
   },
   "outputs": [],
   "source": [
    "import numpy as np\n",
    "\n",
    "def predict_SalePrice(Neighborhood, Overall_Qual, Gr_Liv_Area, Year_Built, Garage_Area):\n",
    "    loc_index = np.where(X_final.columns == Neighborhood)[0]\n",
    "\n",
    "    if len(loc_index) > 0:\n",
    "        loc_index = loc_index[0]\n",
    "    else:\n",
    "        loc_index = -1\n",
    "\n",
    "    x = np.zeros(len(X_final.columns))\n",
    "    x[0] = Overall_Qual\n",
    "    x[1] = Gr_Liv_Area\n",
    "    x[2] = Year_Built\n",
    "    x[3] = Garage_Area\n",
    "\n",
    "    if loc_index >= 0:\n",
    "        x[loc_index] = 1\n",
    "\n",
    "    return model.predict([x])[0]\n",
    "\n",
    "# Assuming X_final and model are defined elsewhere in your code\n",
    "result = predict_SalePrice('Neighborhood_StoneBr', 6, 1656, 1960, 528)\n",
    "print(result)\n"
   ]
  },
  {
   "cell_type": "code",
   "execution_count": null,
   "id": "f54dd296",
   "metadata": {
    "ExecuteTime": {
     "end_time": "2023-09-30T16:07:39.732735Z",
     "start_time": "2023-09-30T16:07:39.732725Z"
    }
   },
   "outputs": [],
   "source": [
    "predict_SalePrice('Neighborhood_BrDale',6,1656,1960,528)"
   ]
  },
  {
   "cell_type": "code",
   "execution_count": null,
   "id": "12da89a8",
   "metadata": {},
   "outputs": [],
   "source": []
  }
 ],
 "metadata": {
  "kernelspec": {
   "display_name": "Python 3 (ipykernel)",
   "language": "python",
   "name": "python3"
  },
  "language_info": {
   "codemirror_mode": {
    "name": "ipython",
    "version": 3
   },
   "file_extension": ".py",
   "mimetype": "text/x-python",
   "name": "python",
   "nbconvert_exporter": "python",
   "pygments_lexer": "ipython3",
   "version": "3.10.12"
  },
  "varInspector": {
   "cols": {
    "lenName": 16,
    "lenType": 16,
    "lenVar": 40
   },
   "kernels_config": {
    "python": {
     "delete_cmd_postfix": "",
     "delete_cmd_prefix": "del ",
     "library": "var_list.py",
     "varRefreshCmd": "print(var_dic_list())"
    },
    "r": {
     "delete_cmd_postfix": ") ",
     "delete_cmd_prefix": "rm(",
     "library": "var_list.r",
     "varRefreshCmd": "cat(var_dic_list()) "
    }
   },
   "types_to_exclude": [
    "module",
    "function",
    "builtin_function_or_method",
    "instance",
    "_Feature"
   ],
   "window_display": false
  }
 },
 "nbformat": 4,
 "nbformat_minor": 5
}
